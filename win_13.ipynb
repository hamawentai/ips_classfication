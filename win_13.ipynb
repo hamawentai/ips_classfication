{
 "cells": [
  {
   "cell_type": "code",
   "execution_count": 78,
   "source": [
    "import numpy as np\n",
    "import pandas as pd\n",
    "import os\n",
    "import matplotlib.pyplot as plt\n",
    "import seaborn as sns\n",
    "\n",
    "# sklearn\n",
    "from sklearn.preprocessing import StandardScaler\n",
    "from sklearn.pipeline import Pipeline\n",
    "from sklearn.svm import SVC,  LinearSVC\n",
    "from sklearn.model_selection import KFold, StratifiedKFold\n",
    "from sklearn.decomposition import PCA\n",
    "import lightgbm as lgb\n",
    "from sklearn.metrics import cohen_kappa_score, confusion_matrix, classification_report, precision_score\n",
    "from imblearn.under_sampling import RandomUnderSampler\n",
    "from collections import Counter\n",
    "from sklearn.datasets import make_classification\n",
    "import xgboost as xgb\n",
    "from classification_model import xgb_classification, lgb_classification_2, svm_classification_2, calculate_precision\n",
    "rus = RandomUnderSampler(random_state=2021)"
   ],
   "outputs": [],
   "metadata": {}
  },
  {
   "cell_type": "code",
   "execution_count": 79,
   "source": [
    "def train_plt(score):\n",
    "    plt.barh(y=range(1, len(score)), width=score)\n",
    "    plt.ylabel('epoch',fontsize=14)\n",
    "    plt.xlabel('precision',fontsize=14)\n",
    "    return np.mean(score), np.std(score)"
   ],
   "outputs": [],
   "metadata": {}
  },
  {
   "cell_type": "code",
   "execution_count": 80,
   "source": [
    "def get_real_no():\n",
    "    no = []\n",
    "    with open('hands_no.txt') as f:\n",
    "        for i in f.readlines():\n",
    "            lines = i.strip().split(' ')\n",
    "            win_no = lines[-1]\n",
    "            for j in lines[:-1]:\n",
    "                no.append('{}_{}_-1'.format(j, win_no))\n",
    "    return no\n",
    "no = get_real_no()\n",
    "\n"
   ],
   "outputs": [],
   "metadata": {}
  },
  {
   "cell_type": "code",
   "execution_count": 95,
   "source": [
    "df = pd.read_csv('res/final_13.csv')"
   ],
   "outputs": [],
   "metadata": {}
  },
  {
   "cell_type": "code",
   "execution_count": 82,
   "source": [
    "origin_data = pd.read_csv('../res/res.csv')\n",
    "origin_data = origin_data[origin_data.columns[1:]]\n",
    "origin_data['len_trace'] = origin_data['end'] - origin_data['start'] + 1\n",
    "origin_data.head()"
   ],
   "outputs": [
    {
     "output_type": "execute_result",
     "data": {
      "text/html": [
       "<div>\n",
       "<style scoped>\n",
       "    .dataframe tbody tr th:only-of-type {\n",
       "        vertical-align: middle;\n",
       "    }\n",
       "\n",
       "    .dataframe tbody tr th {\n",
       "        vertical-align: top;\n",
       "    }\n",
       "\n",
       "    .dataframe thead th {\n",
       "        text-align: right;\n",
       "    }\n",
       "</style>\n",
       "<table border=\"1\" class=\"dataframe\">\n",
       "  <thead>\n",
       "    <tr style=\"text-align: right;\">\n",
       "      <th></th>\n",
       "      <th>no</th>\n",
       "      <th>win_no</th>\n",
       "      <th>start</th>\n",
       "      <th>end</th>\n",
       "      <th>parent</th>\n",
       "      <th>frame_no</th>\n",
       "      <th>axis_x</th>\n",
       "      <th>axis_y</th>\n",
       "      <th>girth</th>\n",
       "      <th>girth_full</th>\n",
       "      <th>...</th>\n",
       "      <th>hu_m5</th>\n",
       "      <th>hu_m6</th>\n",
       "      <th>contrast</th>\n",
       "      <th>dissimilarity</th>\n",
       "      <th>homogeneity</th>\n",
       "      <th>energy</th>\n",
       "      <th>correlation</th>\n",
       "      <th>ASM</th>\n",
       "      <th>label</th>\n",
       "      <th>len_trace</th>\n",
       "    </tr>\n",
       "  </thead>\n",
       "  <tbody>\n",
       "    <tr>\n",
       "      <th>0</th>\n",
       "      <td>1_02_-1</td>\n",
       "      <td>2</td>\n",
       "      <td>0</td>\n",
       "      <td>45</td>\n",
       "      <td>0_02_-1</td>\n",
       "      <td>0</td>\n",
       "      <td>664.750061</td>\n",
       "      <td>29.749968</td>\n",
       "      <td>161.865004</td>\n",
       "      <td>163.865004</td>\n",
       "      <td>...</td>\n",
       "      <td>0.000523</td>\n",
       "      <td>1.453520e-09</td>\n",
       "      <td>3.234091</td>\n",
       "      <td>0.042158</td>\n",
       "      <td>0.998660</td>\n",
       "      <td>0.998582</td>\n",
       "      <td>0.820172</td>\n",
       "      <td>0.997166</td>\n",
       "      <td>0</td>\n",
       "      <td>46</td>\n",
       "    </tr>\n",
       "    <tr>\n",
       "      <th>1</th>\n",
       "      <td>1_02_-1</td>\n",
       "      <td>2</td>\n",
       "      <td>0</td>\n",
       "      <td>45</td>\n",
       "      <td>0_02_-1</td>\n",
       "      <td>1</td>\n",
       "      <td>662.500061</td>\n",
       "      <td>28.499977</td>\n",
       "      <td>148.965510</td>\n",
       "      <td>153.965510</td>\n",
       "      <td>...</td>\n",
       "      <td>0.000153</td>\n",
       "      <td>3.327892e-09</td>\n",
       "      <td>2.791609</td>\n",
       "      <td>0.038952</td>\n",
       "      <td>0.998690</td>\n",
       "      <td>0.998602</td>\n",
       "      <td>0.816545</td>\n",
       "      <td>0.997205</td>\n",
       "      <td>0</td>\n",
       "      <td>46</td>\n",
       "    </tr>\n",
       "    <tr>\n",
       "      <th>2</th>\n",
       "      <td>1_02_-1</td>\n",
       "      <td>2</td>\n",
       "      <td>0</td>\n",
       "      <td>45</td>\n",
       "      <td>0_02_-1</td>\n",
       "      <td>2</td>\n",
       "      <td>662.073181</td>\n",
       "      <td>28.841480</td>\n",
       "      <td>148.722870</td>\n",
       "      <td>153.722870</td>\n",
       "      <td>...</td>\n",
       "      <td>0.000288</td>\n",
       "      <td>1.791276e-08</td>\n",
       "      <td>2.878099</td>\n",
       "      <td>0.038858</td>\n",
       "      <td>0.998683</td>\n",
       "      <td>0.998595</td>\n",
       "      <td>0.814135</td>\n",
       "      <td>0.997191</td>\n",
       "      <td>0</td>\n",
       "      <td>46</td>\n",
       "    </tr>\n",
       "    <tr>\n",
       "      <th>3</th>\n",
       "      <td>1_02_-1</td>\n",
       "      <td>2</td>\n",
       "      <td>0</td>\n",
       "      <td>45</td>\n",
       "      <td>0_02_-1</td>\n",
       "      <td>3</td>\n",
       "      <td>661.451233</td>\n",
       "      <td>28.439020</td>\n",
       "      <td>145.308655</td>\n",
       "      <td>150.308655</td>\n",
       "      <td>...</td>\n",
       "      <td>0.000078</td>\n",
       "      <td>1.473819e-08</td>\n",
       "      <td>2.831595</td>\n",
       "      <td>0.039124</td>\n",
       "      <td>0.998702</td>\n",
       "      <td>0.998612</td>\n",
       "      <td>0.817924</td>\n",
       "      <td>0.997227</td>\n",
       "      <td>0</td>\n",
       "      <td>46</td>\n",
       "    </tr>\n",
       "    <tr>\n",
       "      <th>4</th>\n",
       "      <td>1_02_-1</td>\n",
       "      <td>2</td>\n",
       "      <td>0</td>\n",
       "      <td>45</td>\n",
       "      <td>0_02_-1</td>\n",
       "      <td>4</td>\n",
       "      <td>661.500061</td>\n",
       "      <td>27.999968</td>\n",
       "      <td>146.308657</td>\n",
       "      <td>150.308657</td>\n",
       "      <td>...</td>\n",
       "      <td>0.000239</td>\n",
       "      <td>2.107708e-08</td>\n",
       "      <td>2.712877</td>\n",
       "      <td>0.040664</td>\n",
       "      <td>0.998603</td>\n",
       "      <td>0.998525</td>\n",
       "      <td>0.813886</td>\n",
       "      <td>0.997052</td>\n",
       "      <td>0</td>\n",
       "      <td>46</td>\n",
       "    </tr>\n",
       "  </tbody>\n",
       "</table>\n",
       "<p>5 rows × 40 columns</p>\n",
       "</div>"
      ],
      "text/plain": [
       "        no  win_no  start  end   parent  frame_no      axis_x     axis_y  \\\n",
       "0  1_02_-1       2      0   45  0_02_-1         0  664.750061  29.749968   \n",
       "1  1_02_-1       2      0   45  0_02_-1         1  662.500061  28.499977   \n",
       "2  1_02_-1       2      0   45  0_02_-1         2  662.073181  28.841480   \n",
       "3  1_02_-1       2      0   45  0_02_-1         3  661.451233  28.439020   \n",
       "4  1_02_-1       2      0   45  0_02_-1         4  661.500061  27.999968   \n",
       "\n",
       "        girth  girth_full  ...     hu_m5         hu_m6  contrast  \\\n",
       "0  161.865004  163.865004  ...  0.000523  1.453520e-09  3.234091   \n",
       "1  148.965510  153.965510  ...  0.000153  3.327892e-09  2.791609   \n",
       "2  148.722870  153.722870  ...  0.000288  1.791276e-08  2.878099   \n",
       "3  145.308655  150.308655  ...  0.000078  1.473819e-08  2.831595   \n",
       "4  146.308657  150.308657  ...  0.000239  2.107708e-08  2.712877   \n",
       "\n",
       "   dissimilarity  homogeneity    energy  correlation       ASM  label  \\\n",
       "0       0.042158     0.998660  0.998582     0.820172  0.997166      0   \n",
       "1       0.038952     0.998690  0.998602     0.816545  0.997205      0   \n",
       "2       0.038858     0.998683  0.998595     0.814135  0.997191      0   \n",
       "3       0.039124     0.998702  0.998612     0.817924  0.997227      0   \n",
       "4       0.040664     0.998603  0.998525     0.813886  0.997052      0   \n",
       "\n",
       "   len_trace  \n",
       "0         46  \n",
       "1         46  \n",
       "2         46  \n",
       "3         46  \n",
       "4         46  \n",
       "\n",
       "[5 rows x 40 columns]"
      ]
     },
     "metadata": {},
     "execution_count": 82
    }
   ],
   "metadata": {}
  },
  {
   "cell_type": "code",
   "execution_count": 96,
   "source": [
    "def read_data_to_train(df, ile='../res/final_13.csv'):\n",
    "    # df = pd.read_csv(file)\n",
    "    y = df['label']\n",
    "    no = df['no']\n",
    "#     df['id'] = list(range(df.shape[0]))\n",
    "    no_cols = ['Unnamed: 0', 'label', 'no', 'id']\n",
    "    # df = df[[i for i in df.columns if i not in no_cols]]\n",
    "    print(df.shape)\n",
    "    pca = PCA(n_components=0.9)\n",
    "    X = pca.fit_transform(df[[i for i in df.columns if i not in no_cols]])\n",
    "    X = pd.DataFrame(data=X, columns=list(range(X.shape[1])))\n",
    "    X['no'] = no\n",
    "    X['label'] = y\n",
    "    X['id'] = list(range(df.shape[0]))\n",
    "    print(X.shape)\n",
    "    p_no = df[df['label'] == 1]['no'].drop_duplicates()\n",
    "\n",
    "    ## 将所有正例作为验证集合\n",
    "    all_p = X[X['no'].isin(p_no)]\n",
    "    part_np = X[~X['no'].isin(p_no)].sample(n=all_p.shape[0], replace=False, random_state=2021)\n",
    "    all_val = pd.concat([all_p, part_np])\n",
    "\n",
    "    val_no = p_no.sample(n=p_no.shape[0]//10, replace=False, random_state=2021)\n",
    "    print(val_no.shape, p_no.shape)\n",
    "    p_no = p_no[~ p_no.isin(val_no)]\n",
    "    # print(p_no)\n",
    "    val_X = X[X['no'].isin(val_no)]\n",
    "    trn_X = X[~ X['no'].isin(val_no)]\n",
    "    feat = [i for i in trn_X.columns if i not in ['label', 'no']]\n",
    "    trn_X['id2'] = list(range(trn_X.shape[0]))\n",
    "    X_resampled, y_resampled = rus.fit_resample(trn_X, trn_X['label'])\n",
    "    trn_no = X_resampled['id2'].drop_duplicates()\n",
    "    print(trn_no.shape, p_no.shape)\n",
    "    # a = trn_X[~trn_X['no'].isin(trn_no)]\n",
    "    a = trn_X[~trn_X['id2'].isin(trn_no)]\n",
    "    print(sorted(Counter(y_resampled).items()),\n",
    "          trn_X.shape, trn_no.shape, a.shape, val_X.shape)\n",
    "    val_X_np = a.sample(n=val_X.shape[0], replace=False, random_state=2021)\n",
    "    print(val_X_np[val_X_np['label'] == 1]['no'].drop_duplicates().shape)\n",
    "    val_X = pd.concat([val_X, val_X_np])\n",
    "    return val_X, X_resampled, y_resampled, feat, all_val\n"
   ],
   "outputs": [],
   "metadata": {}
  },
  {
   "cell_type": "code",
   "execution_count": 97,
   "source": [
    "val_X, X_resampled, y_resampled, feat, all_val = read_data_to_train(df, 'res/final_13.csv')"
   ],
   "outputs": [
    {
     "output_type": "stream",
     "name": "stdout",
     "text": [
      "(26329, 446)\n",
      "(26329, 18)\n",
      "(31,) (316,)\n",
      "(10340,) (285,)\n",
      "[(0, 5170), (1, 5170)] (25877, 19) (10340,) (15537, 19) (452, 18)\n",
      "(0,)\n"
     ]
    },
    {
     "output_type": "stream",
     "name": "stderr",
     "text": [
      "/tmp/ipykernel_218629/1096504090.py:30: SettingWithCopyWarning: \n",
      "A value is trying to be set on a copy of a slice from a DataFrame.\n",
      "Try using .loc[row_indexer,col_indexer] = value instead\n",
      "\n",
      "See the caveats in the documentation: https://pandas.pydata.org/pandas-docs/stable/user_guide/indexing.html#returning-a-view-versus-a-copy\n",
      "  trn_X['id2'] = list(range(trn_X.shape[0]))\n"
     ]
    }
   ],
   "metadata": {}
  },
  {
   "cell_type": "code",
   "execution_count": 92,
   "source": [
    "all_val.to_csv('all_val.csv', index=False)"
   ],
   "outputs": [],
   "metadata": {}
  },
  {
   "cell_type": "code",
   "execution_count": 100,
   "source": [
    "df.head()"
   ],
   "outputs": [
    {
     "output_type": "execute_result",
     "data": {
      "text/html": [
       "<div>\n",
       "<style scoped>\n",
       "    .dataframe tbody tr th:only-of-type {\n",
       "        vertical-align: middle;\n",
       "    }\n",
       "\n",
       "    .dataframe tbody tr th {\n",
       "        vertical-align: top;\n",
       "    }\n",
       "\n",
       "    .dataframe thead th {\n",
       "        text-align: right;\n",
       "    }\n",
       "</style>\n",
       "<table border=\"1\" class=\"dataframe\">\n",
       "  <thead>\n",
       "    <tr style=\"text-align: right;\">\n",
       "      <th></th>\n",
       "      <th>Unnamed: 0</th>\n",
       "      <th>no</th>\n",
       "      <th>axis_x</th>\n",
       "      <th>axis_y</th>\n",
       "      <th>girth</th>\n",
       "      <th>girth_full</th>\n",
       "      <th>area</th>\n",
       "      <th>elongation</th>\n",
       "      <th>eccentricity</th>\n",
       "      <th>convexity</th>\n",
       "      <th>...</th>\n",
       "      <th>shift_4</th>\n",
       "      <th>shift_5</th>\n",
       "      <th>shift_6</th>\n",
       "      <th>shift_7</th>\n",
       "      <th>shift_8</th>\n",
       "      <th>shift_9</th>\n",
       "      <th>shift_10</th>\n",
       "      <th>shift_11</th>\n",
       "      <th>shift_sum</th>\n",
       "      <th>distance</th>\n",
       "    </tr>\n",
       "  </thead>\n",
       "  <tbody>\n",
       "    <tr>\n",
       "      <th>0</th>\n",
       "      <td>0</td>\n",
       "      <td>1001_35_-1</td>\n",
       "      <td>172.923065</td>\n",
       "      <td>124.384598</td>\n",
       "      <td>56.355338</td>\n",
       "      <td>57.355338</td>\n",
       "      <td>141.5</td>\n",
       "      <td>-2.157556</td>\n",
       "      <td>0.948526</td>\n",
       "      <td>1.160555</td>\n",
       "      <td>...</td>\n",
       "      <td>1.421513</td>\n",
       "      <td>1.581158</td>\n",
       "      <td>0.999980</td>\n",
       "      <td>0.316221</td>\n",
       "      <td>0.316237</td>\n",
       "      <td>0.999992</td>\n",
       "      <td>0.806214</td>\n",
       "      <td>0.412306</td>\n",
       "      <td>4.967586</td>\n",
       "      <td>9.690323</td>\n",
       "    </tr>\n",
       "    <tr>\n",
       "      <th>1</th>\n",
       "      <td>1</td>\n",
       "      <td>1001_35_-1</td>\n",
       "      <td>173.400009</td>\n",
       "      <td>124.800003</td>\n",
       "      <td>58.769552</td>\n",
       "      <td>62.769552</td>\n",
       "      <td>197.0</td>\n",
       "      <td>-1.580986</td>\n",
       "      <td>0.921891</td>\n",
       "      <td>1.168449</td>\n",
       "      <td>...</td>\n",
       "      <td>0.999980</td>\n",
       "      <td>0.316221</td>\n",
       "      <td>0.316237</td>\n",
       "      <td>0.999992</td>\n",
       "      <td>0.806214</td>\n",
       "      <td>0.412306</td>\n",
       "      <td>0.670814</td>\n",
       "      <td>0.582803</td>\n",
       "      <td>4.153104</td>\n",
       "      <td>10.039340</td>\n",
       "    </tr>\n",
       "    <tr>\n",
       "      <th>2</th>\n",
       "      <td>2</td>\n",
       "      <td>1090_35_-1</td>\n",
       "      <td>160.880005</td>\n",
       "      <td>131.339996</td>\n",
       "      <td>53.870057</td>\n",
       "      <td>56.870057</td>\n",
       "      <td>206.5</td>\n",
       "      <td>-0.681903</td>\n",
       "      <td>0.804048</td>\n",
       "      <td>1.216809</td>\n",
       "      <td>...</td>\n",
       "      <td>1.060660</td>\n",
       "      <td>0.500000</td>\n",
       "      <td>8.513782</td>\n",
       "      <td>0.335000</td>\n",
       "      <td>0.338663</td>\n",
       "      <td>0.857214</td>\n",
       "      <td>0.364281</td>\n",
       "      <td>0.297795</td>\n",
       "      <td>11.168884</td>\n",
       "      <td>17.567078</td>\n",
       "    </tr>\n",
       "    <tr>\n",
       "      <th>3</th>\n",
       "      <td>3</td>\n",
       "      <td>1090_35_-1</td>\n",
       "      <td>162.000000</td>\n",
       "      <td>130.000000</td>\n",
       "      <td>58.870057</td>\n",
       "      <td>60.870057</td>\n",
       "      <td>239.5</td>\n",
       "      <td>-0.542389</td>\n",
       "      <td>0.761347</td>\n",
       "      <td>1.182848</td>\n",
       "      <td>...</td>\n",
       "      <td>8.513782</td>\n",
       "      <td>0.335000</td>\n",
       "      <td>0.338663</td>\n",
       "      <td>0.857214</td>\n",
       "      <td>0.364281</td>\n",
       "      <td>0.297795</td>\n",
       "      <td>0.492527</td>\n",
       "      <td>0.401686</td>\n",
       "      <td>10.183136</td>\n",
       "      <td>15.929362</td>\n",
       "    </tr>\n",
       "    <tr>\n",
       "      <th>4</th>\n",
       "      <td>4</td>\n",
       "      <td>1091_35_-1</td>\n",
       "      <td>155.280823</td>\n",
       "      <td>158.917801</td>\n",
       "      <td>114.154328</td>\n",
       "      <td>115.154328</td>\n",
       "      <td>818.5</td>\n",
       "      <td>-0.119862</td>\n",
       "      <td>0.450121</td>\n",
       "      <td>1.168843</td>\n",
       "      <td>...</td>\n",
       "      <td>1.445862</td>\n",
       "      <td>0.353562</td>\n",
       "      <td>1.114765</td>\n",
       "      <td>0.683001</td>\n",
       "      <td>1.196618</td>\n",
       "      <td>1.404376</td>\n",
       "      <td>0.780883</td>\n",
       "      <td>1.581139</td>\n",
       "      <td>3.271400</td>\n",
       "      <td>12.007259</td>\n",
       "    </tr>\n",
       "  </tbody>\n",
       "</table>\n",
       "<p>5 rows × 446 columns</p>\n",
       "</div>"
      ],
      "text/plain": [
       "   Unnamed: 0          no      axis_x      axis_y       girth  girth_full  \\\n",
       "0           0  1001_35_-1  172.923065  124.384598   56.355338   57.355338   \n",
       "1           1  1001_35_-1  173.400009  124.800003   58.769552   62.769552   \n",
       "2           2  1090_35_-1  160.880005  131.339996   53.870057   56.870057   \n",
       "3           3  1090_35_-1  162.000000  130.000000   58.870057   60.870057   \n",
       "4           4  1091_35_-1  155.280823  158.917801  114.154328  115.154328   \n",
       "\n",
       "    area  elongation  eccentricity  convexity  ...   shift_4   shift_5  \\\n",
       "0  141.5   -2.157556      0.948526   1.160555  ...  1.421513  1.581158   \n",
       "1  197.0   -1.580986      0.921891   1.168449  ...  0.999980  0.316221   \n",
       "2  206.5   -0.681903      0.804048   1.216809  ...  1.060660  0.500000   \n",
       "3  239.5   -0.542389      0.761347   1.182848  ...  8.513782  0.335000   \n",
       "4  818.5   -0.119862      0.450121   1.168843  ...  1.445862  0.353562   \n",
       "\n",
       "    shift_6   shift_7   shift_8   shift_9  shift_10  shift_11  shift_sum  \\\n",
       "0  0.999980  0.316221  0.316237  0.999992  0.806214  0.412306   4.967586   \n",
       "1  0.316237  0.999992  0.806214  0.412306  0.670814  0.582803   4.153104   \n",
       "2  8.513782  0.335000  0.338663  0.857214  0.364281  0.297795  11.168884   \n",
       "3  0.338663  0.857214  0.364281  0.297795  0.492527  0.401686  10.183136   \n",
       "4  1.114765  0.683001  1.196618  1.404376  0.780883  1.581139   3.271400   \n",
       "\n",
       "    distance  \n",
       "0   9.690323  \n",
       "1  10.039340  \n",
       "2  17.567078  \n",
       "3  15.929362  \n",
       "4  12.007259  \n",
       "\n",
       "[5 rows x 446 columns]"
      ]
     },
     "metadata": {},
     "execution_count": 100
    }
   ],
   "metadata": {}
  },
  {
   "cell_type": "code",
   "execution_count": 101,
   "source": [
    "df.shape"
   ],
   "outputs": [
    {
     "output_type": "execute_result",
     "data": {
      "text/plain": [
       "(26329, 446)"
      ]
     },
     "metadata": {},
     "execution_count": 101
    }
   ],
   "metadata": {}
  },
  {
   "cell_type": "code",
   "execution_count": 86,
   "source": [
    "%load_ext autoreload\n",
    "%autoreload 2\n",
    "all_real_no = all_val['no'].drop_duplicates()\n",
    "all_val.shape"
   ],
   "outputs": [
    {
     "output_type": "stream",
     "name": "stdout",
     "text": [
      "The autoreload extension is already loaded. To reload it, use:\n",
      "  %reload_ext autoreload\n"
     ]
    },
    {
     "output_type": "execute_result",
     "data": {
      "text/plain": [
       "(11244, 18)"
      ]
     },
     "metadata": {},
     "execution_count": 86
    }
   ],
   "metadata": {}
  },
  {
   "cell_type": "code",
   "execution_count": 87,
   "source": [
    "val_no = val_X[val_X['label'] == 1]['no'].drop_duplicates()\n",
    "val_no.shape"
   ],
   "outputs": [
    {
     "output_type": "execute_result",
     "data": {
      "text/plain": [
       "(31,)"
      ]
     },
     "metadata": {},
     "execution_count": 87
    }
   ],
   "metadata": {}
  },
  {
   "cell_type": "code",
   "execution_count": 88,
   "source": [
    "feat"
   ],
   "outputs": [
    {
     "output_type": "execute_result",
     "data": {
      "text/plain": [
       "[0, 1, 2, 3, 4, 5, 6, 7, 8, 9, 10, 11, 12, 13, 14, 'id']"
      ]
     },
     "metadata": {},
     "execution_count": 88
    }
   ],
   "metadata": {}
  },
  {
   "cell_type": "code",
   "execution_count": 59,
   "source": [
    "svm_clf = Pipeline(\n",
    "    (\n",
    "        ('scaler', StandardScaler()),\n",
    "        ('svm_clf', SVC(kernel='rbf', C=10, gamma=0.1))\n",
    "    )\n",
    ")\n",
    "y_predict, y_true = svm_classification_2(X_resampled, svm_clf, feat)\n",
    "a = svm_clf.predict(val_X[feat])\n",
    "print(calculate_precision(a, val_X['label']))"
   ],
   "outputs": [
    {
     "output_type": "stream",
     "name": "stdout",
     "text": [
      "epoch 0 precision_score 0.8546950145634356\n",
      "epoch 1 precision_score 0.824279578216889\n",
      "epoch 2 precision_score 0.8122271334309342\n",
      "epoch 3 precision_score 0.837158946261553\n",
      "epoch 4 precision_score 0.7956076767438662\n",
      "<class 'numpy.ndarray'> <class 'pandas.core.series.Series'>\n",
      "466 575\n",
      "0.8104347826086956\n"
     ]
    }
   ],
   "metadata": {}
  },
  {
   "cell_type": "code",
   "execution_count": 60,
   "source": [
    "a = svm_clf.predict(all_val[feat])\n",
    "print(calculate_precision(a, all_val['label']))"
   ],
   "outputs": [
    {
     "output_type": "stream",
     "name": "stdout",
     "text": [
      "<class 'numpy.ndarray'> <class 'pandas.core.series.Series'>\n",
      "5037 5971\n",
      "0.8435772902361414\n"
     ]
    }
   ],
   "metadata": {}
  },
  {
   "cell_type": "code",
   "execution_count": 61,
   "source": [
    "a, d,e, f = lgb_classification_2(X_resampled, all_val[feat], feat)"
   ],
   "outputs": [
    {
     "output_type": "stream",
     "name": "stdout",
     "text": [
      "Training until validation scores don't improve for 100 rounds\n",
      "[100]\tvalid_0's precision: 0.919858\n",
      "[200]\tvalid_0's precision: 0.9252\n",
      "[300]\tvalid_0's precision: 0.926981\n",
      "Early stopping, best iteration is:\n",
      "[214]\tvalid_0's precision: 0.931434\n",
      "Training until validation scores don't improve for 100 rounds\n",
      "[100]\tvalid_0's precision: 0.904175\n",
      "Early stopping, best iteration is:\n",
      "[1]\tvalid_0's precision: 0.906072\n",
      "Training until validation scores don't improve for 100 rounds\n",
      "[100]\tvalid_0's precision: 0.942806\n",
      "Early stopping, best iteration is:\n",
      "[2]\tvalid_0's precision: 0.946381\n",
      "Training until validation scores don't improve for 100 rounds\n",
      "[100]\tvalid_0's precision: 0.998843\n",
      "Early stopping, best iteration is:\n",
      "[1]\tvalid_0's precision: 0.998843\n",
      "Training until validation scores don't improve for 100 rounds\n",
      "[100]\tvalid_0's precision: 0.96861\n",
      "Early stopping, best iteration is:\n",
      "[1]\tvalid_0's precision: 0.980942\n",
      "feature importance:\n",
      "feature\n",
      "id    28679.454614\n",
      "11      281.567749\n",
      "0       164.950945\n",
      "6       133.310246\n",
      "2       131.972814\n",
      "1       128.405197\n",
      "8       110.358179\n",
      "3       101.872828\n",
      "12       78.186657\n",
      "5        71.204456\n",
      "4        70.269954\n",
      "9        66.962354\n",
      "13       51.215929\n",
      "7        43.392062\n",
      "14       40.462134\n",
      "Name: importance, dtype: float64\n"
     ]
    }
   ],
   "metadata": {}
  },
  {
   "cell_type": "code",
   "execution_count": 62,
   "source": [
    "x = np.mean(d, axis=0)\n",
    "x = x > 0.5\n",
    "print(calculate_precision(x, all_val['label']))"
   ],
   "outputs": [
    {
     "output_type": "stream",
     "name": "stdout",
     "text": [
      "<class 'numpy.ndarray'> <class 'pandas.core.series.Series'>\n",
      "4019 4300\n",
      "0.9346511627906977\n"
     ]
    }
   ],
   "metadata": {}
  },
  {
   "cell_type": "code",
   "execution_count": 63,
   "source": [
    "np.sum(all_val[(all_val['label'] == 1) & (all_val['label'] == x)]['label'])"
   ],
   "outputs": [
    {
     "output_type": "execute_result",
     "data": {
      "text/plain": [
       "4019"
      ]
     },
     "metadata": {},
     "execution_count": 63
    }
   ],
   "metadata": {}
  },
  {
   "cell_type": "code",
   "execution_count": 64,
   "source": [
    "a = xgb_classification(X_resampled, val_X[feat], feat)"
   ],
   "outputs": [
    {
     "output_type": "stream",
     "name": "stdout",
     "text": [
      "[0]\ttrain-auc:0.999834\tvalid-auc:0.987093\ttrain-precision:0.999745\tvalid-precision:0.975957\n",
      "Multiple eval metrics have been passed: 'valid-precision' will be used for early stopping.\n",
      "\n",
      "Will train until valid-precision hasn't improved in 100 rounds.\n"
     ]
    },
    {
     "output_type": "stream",
     "name": "stderr",
     "text": [
      "[15:08:32] src/tree/updater_prune.cc:74: tree pruning end, 1 roots, 28 extra nodes, 0 pruned nodes, max_depth=7\n",
      "[15:08:32] src/tree/updater_prune.cc:74: tree pruning end, 1 roots, 88 extra nodes, 2 pruned nodes, max_depth=8\n",
      "[15:08:32] src/tree/updater_prune.cc:74: tree pruning end, 1 roots, 190 extra nodes, 0 pruned nodes, max_depth=8\n",
      "[15:08:32] src/tree/updater_prune.cc:74: tree pruning end, 1 roots, 162 extra nodes, 0 pruned nodes, max_depth=8\n",
      "[15:08:32] src/tree/updater_prune.cc:74: tree pruning end, 1 roots, 152 extra nodes, 0 pruned nodes, max_depth=8\n",
      "[15:08:32] src/tree/updater_prune.cc:74: tree pruning end, 1 roots, 108 extra nodes, 0 pruned nodes, max_depth=8\n",
      "[15:08:32] src/tree/updater_prune.cc:74: tree pruning end, 1 roots, 28 extra nodes, 0 pruned nodes, max_depth=7\n",
      "[15:08:32] src/tree/updater_prune.cc:74: tree pruning end, 1 roots, 28 extra nodes, 0 pruned nodes, max_depth=8\n",
      "[15:08:32] src/tree/updater_prune.cc:74: tree pruning end, 1 roots, 136 extra nodes, 0 pruned nodes, max_depth=8\n",
      "[15:08:32] src/tree/updater_prune.cc:74: tree pruning end, 1 roots, 204 extra nodes, 0 pruned nodes, max_depth=8\n",
      "[15:08:32] src/tree/updater_prune.cc:74: tree pruning end, 1 roots, 168 extra nodes, 0 pruned nodes, max_depth=8\n",
      "[15:08:32] src/tree/updater_prune.cc:74: tree pruning end, 1 roots, 28 extra nodes, 0 pruned nodes, max_depth=7\n",
      "[15:08:32] src/tree/updater_prune.cc:74: tree pruning end, 1 roots, 180 extra nodes, 2 pruned nodes, max_depth=8\n",
      "[15:08:32] src/tree/updater_prune.cc:74: tree pruning end, 1 roots, 28 extra nodes, 0 pruned nodes, max_depth=7\n",
      "[15:08:32] src/tree/updater_prune.cc:74: tree pruning end, 1 roots, 200 extra nodes, 2 pruned nodes, max_depth=8\n",
      "[15:08:32] src/tree/updater_prune.cc:74: tree pruning end, 1 roots, 28 extra nodes, 0 pruned nodes, max_depth=7\n",
      "[15:08:32] src/tree/updater_prune.cc:74: tree pruning end, 1 roots, 216 extra nodes, 0 pruned nodes, max_depth=8\n",
      "[15:08:32] src/tree/updater_prune.cc:74: tree pruning end, 1 roots, 28 extra nodes, 0 pruned nodes, max_depth=7\n",
      "[15:08:32] src/tree/updater_prune.cc:74: tree pruning end, 1 roots, 180 extra nodes, 0 pruned nodes, max_depth=8\n",
      "[15:08:32] src/tree/updater_prune.cc:74: tree pruning end, 1 roots, 28 extra nodes, 0 pruned nodes, max_depth=8\n",
      "[15:08:32] src/tree/updater_prune.cc:74: tree pruning end, 1 roots, 28 extra nodes, 0 pruned nodes, max_depth=7\n",
      "[15:08:32] src/tree/updater_prune.cc:74: tree pruning end, 1 roots, 28 extra nodes, 0 pruned nodes, max_depth=7\n",
      "[15:08:33] src/tree/updater_prune.cc:74: tree pruning end, 1 roots, 128 extra nodes, 2 pruned nodes, max_depth=8\n",
      "[15:08:33] src/tree/updater_prune.cc:74: tree pruning end, 1 roots, 162 extra nodes, 4 pruned nodes, max_depth=8\n",
      "[15:08:33] src/tree/updater_prune.cc:74: tree pruning end, 1 roots, 154 extra nodes, 0 pruned nodes, max_depth=8\n",
      "[15:08:33] src/tree/updater_prune.cc:74: tree pruning end, 1 roots, 28 extra nodes, 0 pruned nodes, max_depth=7\n",
      "[15:08:33] src/tree/updater_prune.cc:74: tree pruning end, 1 roots, 28 extra nodes, 0 pruned nodes, max_depth=7\n",
      "[15:08:33] src/tree/updater_prune.cc:74: tree pruning end, 1 roots, 28 extra nodes, 0 pruned nodes, max_depth=7\n",
      "[15:08:33] src/tree/updater_prune.cc:74: tree pruning end, 1 roots, 28 extra nodes, 0 pruned nodes, max_depth=7\n",
      "[15:08:33] src/tree/updater_prune.cc:74: tree pruning end, 1 roots, 28 extra nodes, 0 pruned nodes, max_depth=8\n",
      "[15:08:33] src/tree/updater_prune.cc:74: tree pruning end, 1 roots, 190 extra nodes, 2 pruned nodes, max_depth=8\n",
      "[15:08:33] src/tree/updater_prune.cc:74: tree pruning end, 1 roots, 152 extra nodes, 0 pruned nodes, max_depth=8\n",
      "[15:08:33] src/tree/updater_prune.cc:74: tree pruning end, 1 roots, 176 extra nodes, 0 pruned nodes, max_depth=8\n",
      "[15:08:33] src/tree/updater_prune.cc:74: tree pruning end, 1 roots, 28 extra nodes, 0 pruned nodes, max_depth=7\n",
      "[15:08:33] src/tree/updater_prune.cc:74: tree pruning end, 1 roots, 28 extra nodes, 0 pruned nodes, max_depth=8\n",
      "[15:08:33] src/tree/updater_prune.cc:74: tree pruning end, 1 roots, 170 extra nodes, 0 pruned nodes, max_depth=8\n",
      "[15:08:33] src/tree/updater_prune.cc:74: tree pruning end, 1 roots, 28 extra nodes, 0 pruned nodes, max_depth=8\n",
      "[15:08:33] src/tree/updater_prune.cc:74: tree pruning end, 1 roots, 200 extra nodes, 0 pruned nodes, max_depth=8\n",
      "[15:08:33] src/tree/updater_prune.cc:74: tree pruning end, 1 roots, 112 extra nodes, 0 pruned nodes, max_depth=8\n",
      "[15:08:33] src/tree/updater_prune.cc:74: tree pruning end, 1 roots, 186 extra nodes, 2 pruned nodes, max_depth=8\n",
      "[15:08:33] src/tree/updater_prune.cc:74: tree pruning end, 1 roots, 122 extra nodes, 0 pruned nodes, max_depth=8\n",
      "[15:08:33] src/tree/updater_prune.cc:74: tree pruning end, 1 roots, 110 extra nodes, 0 pruned nodes, max_depth=8\n",
      "[15:08:33] src/tree/updater_prune.cc:74: tree pruning end, 1 roots, 114 extra nodes, 0 pruned nodes, max_depth=8\n",
      "[15:08:33] src/tree/updater_prune.cc:74: tree pruning end, 1 roots, 28 extra nodes, 0 pruned nodes, max_depth=8\n",
      "[15:08:33] src/tree/updater_prune.cc:74: tree pruning end, 1 roots, 28 extra nodes, 0 pruned nodes, max_depth=8\n",
      "[15:08:33] src/tree/updater_prune.cc:74: tree pruning end, 1 roots, 28 extra nodes, 0 pruned nodes, max_depth=7\n",
      "[15:08:33] src/tree/updater_prune.cc:74: tree pruning end, 1 roots, 28 extra nodes, 0 pruned nodes, max_depth=8\n",
      "[15:08:33] src/tree/updater_prune.cc:74: tree pruning end, 1 roots, 28 extra nodes, 0 pruned nodes, max_depth=7\n",
      "[15:08:33] src/tree/updater_prune.cc:74: tree pruning end, 1 roots, 28 extra nodes, 0 pruned nodes, max_depth=8\n",
      "[15:08:33] src/tree/updater_prune.cc:74: tree pruning end, 1 roots, 28 extra nodes, 0 pruned nodes, max_depth=7\n",
      "[15:08:33] src/tree/updater_prune.cc:74: tree pruning end, 1 roots, 200 extra nodes, 2 pruned nodes, max_depth=8\n",
      "[15:08:33] src/tree/updater_prune.cc:74: tree pruning end, 1 roots, 196 extra nodes, 0 pruned nodes, max_depth=8\n",
      "[15:08:33] src/tree/updater_prune.cc:74: tree pruning end, 1 roots, 28 extra nodes, 0 pruned nodes, max_depth=8\n",
      "[15:08:33] src/tree/updater_prune.cc:74: tree pruning end, 1 roots, 28 extra nodes, 0 pruned nodes, max_depth=7\n",
      "[15:08:33] src/tree/updater_prune.cc:74: tree pruning end, 1 roots, 180 extra nodes, 0 pruned nodes, max_depth=8\n",
      "[15:08:33] src/tree/updater_prune.cc:74: tree pruning end, 1 roots, 56 extra nodes, 0 pruned nodes, max_depth=8\n",
      "[15:08:33] src/tree/updater_prune.cc:74: tree pruning end, 1 roots, 28 extra nodes, 0 pruned nodes, max_depth=7\n",
      "[15:08:33] src/tree/updater_prune.cc:74: tree pruning end, 1 roots, 146 extra nodes, 0 pruned nodes, max_depth=8\n",
      "[15:08:33] src/tree/updater_prune.cc:74: tree pruning end, 1 roots, 124 extra nodes, 2 pruned nodes, max_depth=8\n",
      "[15:08:33] src/tree/updater_prune.cc:74: tree pruning end, 1 roots, 28 extra nodes, 0 pruned nodes, max_depth=7\n",
      "[15:08:33] src/tree/updater_prune.cc:74: tree pruning end, 1 roots, 160 extra nodes, 2 pruned nodes, max_depth=8\n",
      "[15:08:33] src/tree/updater_prune.cc:74: tree pruning end, 1 roots, 28 extra nodes, 0 pruned nodes, max_depth=8\n",
      "[15:08:33] src/tree/updater_prune.cc:74: tree pruning end, 1 roots, 28 extra nodes, 0 pruned nodes, max_depth=8\n",
      "[15:08:33] src/tree/updater_prune.cc:74: tree pruning end, 1 roots, 28 extra nodes, 0 pruned nodes, max_depth=8\n",
      "[15:08:34] src/tree/updater_prune.cc:74: tree pruning end, 1 roots, 28 extra nodes, 0 pruned nodes, max_depth=7\n",
      "[15:08:34] src/tree/updater_prune.cc:74: tree pruning end, 1 roots, 28 extra nodes, 0 pruned nodes, max_depth=8\n",
      "[15:08:34] src/tree/updater_prune.cc:74: tree pruning end, 1 roots, 174 extra nodes, 0 pruned nodes, max_depth=8\n",
      "[15:08:34] src/tree/updater_prune.cc:74: tree pruning end, 1 roots, 28 extra nodes, 0 pruned nodes, max_depth=7\n",
      "[15:08:34] src/tree/updater_prune.cc:74: tree pruning end, 1 roots, 28 extra nodes, 0 pruned nodes, max_depth=7\n",
      "[15:08:34] src/tree/updater_prune.cc:74: tree pruning end, 1 roots, 28 extra nodes, 0 pruned nodes, max_depth=7\n",
      "[15:08:34] src/tree/updater_prune.cc:74: tree pruning end, 1 roots, 28 extra nodes, 0 pruned nodes, max_depth=8\n",
      "[15:08:34] src/tree/updater_prune.cc:74: tree pruning end, 1 roots, 204 extra nodes, 2 pruned nodes, max_depth=8\n",
      "[15:08:34] src/tree/updater_prune.cc:74: tree pruning end, 1 roots, 156 extra nodes, 0 pruned nodes, max_depth=8\n",
      "[15:08:34] src/tree/updater_prune.cc:74: tree pruning end, 1 roots, 28 extra nodes, 0 pruned nodes, max_depth=8\n",
      "[15:08:34] src/tree/updater_prune.cc:74: tree pruning end, 1 roots, 28 extra nodes, 0 pruned nodes, max_depth=7\n",
      "[15:08:34] src/tree/updater_prune.cc:74: tree pruning end, 1 roots, 28 extra nodes, 0 pruned nodes, max_depth=8\n",
      "[15:08:34] src/tree/updater_prune.cc:74: tree pruning end, 1 roots, 166 extra nodes, 0 pruned nodes, max_depth=8\n",
      "[15:08:34] src/tree/updater_prune.cc:74: tree pruning end, 1 roots, 96 extra nodes, 0 pruned nodes, max_depth=8\n",
      "[15:08:34] src/tree/updater_prune.cc:74: tree pruning end, 1 roots, 170 extra nodes, 2 pruned nodes, max_depth=8\n",
      "[15:08:34] src/tree/updater_prune.cc:74: tree pruning end, 1 roots, 172 extra nodes, 0 pruned nodes, max_depth=8\n",
      "[15:08:34] src/tree/updater_prune.cc:74: tree pruning end, 1 roots, 28 extra nodes, 0 pruned nodes, max_depth=8\n",
      "[15:08:34] src/tree/updater_prune.cc:74: tree pruning end, 1 roots, 28 extra nodes, 0 pruned nodes, max_depth=7\n",
      "[15:08:34] src/tree/updater_prune.cc:74: tree pruning end, 1 roots, 162 extra nodes, 2 pruned nodes, max_depth=8\n",
      "[15:08:34] src/tree/updater_prune.cc:74: tree pruning end, 1 roots, 180 extra nodes, 0 pruned nodes, max_depth=8\n",
      "[15:08:34] src/tree/updater_prune.cc:74: tree pruning end, 1 roots, 134 extra nodes, 6 pruned nodes, max_depth=8\n",
      "[15:08:34] src/tree/updater_prune.cc:74: tree pruning end, 1 roots, 28 extra nodes, 0 pruned nodes, max_depth=8\n",
      "[15:08:34] src/tree/updater_prune.cc:74: tree pruning end, 1 roots, 28 extra nodes, 0 pruned nodes, max_depth=8\n",
      "[15:08:34] src/tree/updater_prune.cc:74: tree pruning end, 1 roots, 28 extra nodes, 0 pruned nodes, max_depth=7\n",
      "[15:08:34] src/tree/updater_prune.cc:74: tree pruning end, 1 roots, 116 extra nodes, 0 pruned nodes, max_depth=8\n",
      "[15:08:34] src/tree/updater_prune.cc:74: tree pruning end, 1 roots, 28 extra nodes, 0 pruned nodes, max_depth=8\n",
      "[15:08:34] src/tree/updater_prune.cc:74: tree pruning end, 1 roots, 166 extra nodes, 2 pruned nodes, max_depth=8\n",
      "[15:08:34] src/tree/updater_prune.cc:74: tree pruning end, 1 roots, 28 extra nodes, 0 pruned nodes, max_depth=8\n",
      "[15:08:34] src/tree/updater_prune.cc:74: tree pruning end, 1 roots, 128 extra nodes, 0 pruned nodes, max_depth=8\n",
      "[15:08:34] src/tree/updater_prune.cc:74: tree pruning end, 1 roots, 28 extra nodes, 0 pruned nodes, max_depth=7\n",
      "[15:08:34] src/tree/updater_prune.cc:74: tree pruning end, 1 roots, 28 extra nodes, 0 pruned nodes, max_depth=7\n",
      "[15:08:34] src/tree/updater_prune.cc:74: tree pruning end, 1 roots, 46 extra nodes, 2 pruned nodes, max_depth=8\n",
      "[15:08:34] src/tree/updater_prune.cc:74: tree pruning end, 1 roots, 156 extra nodes, 2 pruned nodes, max_depth=8\n",
      "[15:08:34] src/tree/updater_prune.cc:74: tree pruning end, 1 roots, 66 extra nodes, 0 pruned nodes, max_depth=8\n"
     ]
    },
    {
     "output_type": "stream",
     "name": "stdout",
     "text": [
      "[100]\ttrain-auc:0.999999\tvalid-auc:0.991048\ttrain-precision:0.999745\tvalid-precision:0.975957\n",
      "Stopping. Best iteration:\n",
      "[5]\ttrain-auc:0.995514\tvalid-auc:0.958202\ttrain-precision:0.978366\tvalid-precision:0.914515\n",
      "\n"
     ]
    },
    {
     "output_type": "stream",
     "name": "stderr",
     "text": [
      "[15:08:34] src/tree/updater_prune.cc:74: tree pruning end, 1 roots, 28 extra nodes, 0 pruned nodes, max_depth=8\n",
      "[15:08:34] src/tree/updater_prune.cc:74: tree pruning end, 1 roots, 138 extra nodes, 2 pruned nodes, max_depth=8\n",
      "[15:08:34] src/tree/updater_prune.cc:74: tree pruning end, 1 roots, 152 extra nodes, 0 pruned nodes, max_depth=8\n",
      "[15:08:34] src/tree/updater_prune.cc:74: tree pruning end, 1 roots, 114 extra nodes, 0 pruned nodes, max_depth=8\n",
      "[15:08:34] src/tree/updater_prune.cc:74: tree pruning end, 1 roots, 28 extra nodes, 0 pruned nodes, max_depth=7\n",
      "[15:08:34] src/tree/updater_prune.cc:74: tree pruning end, 1 roots, 48 extra nodes, 0 pruned nodes, max_depth=8\n",
      "[15:08:34] src/tree/updater_prune.cc:74: tree pruning end, 1 roots, 140 extra nodes, 0 pruned nodes, max_depth=8\n",
      "[15:08:34] src/tree/updater_prune.cc:74: tree pruning end, 1 roots, 28 extra nodes, 0 pruned nodes, max_depth=7\n"
     ]
    },
    {
     "output_type": "stream",
     "name": "stdout",
     "text": [
      "epoch 0 precision : 0.9210762331838565\n",
      "[0]\ttrain-auc:0.999813\tvalid-auc:0.977648\ttrain-precision:0.998249\tvalid-precision:0.934535\n",
      "Multiple eval metrics have been passed: 'valid-precision' will be used for early stopping.\n",
      "\n",
      "Will train until valid-precision hasn't improved in 100 rounds.\n"
     ]
    },
    {
     "output_type": "stream",
     "name": "stderr",
     "text": [
      "[15:08:35] src/tree/updater_prune.cc:74: tree pruning end, 1 roots, 24 extra nodes, 0 pruned nodes, max_depth=6\n",
      "[15:08:35] src/tree/updater_prune.cc:74: tree pruning end, 1 roots, 162 extra nodes, 2 pruned nodes, max_depth=8\n",
      "[15:08:35] src/tree/updater_prune.cc:74: tree pruning end, 1 roots, 24 extra nodes, 0 pruned nodes, max_depth=6\n",
      "[15:08:35] src/tree/updater_prune.cc:74: tree pruning end, 1 roots, 174 extra nodes, 0 pruned nodes, max_depth=8\n",
      "[15:08:35] src/tree/updater_prune.cc:74: tree pruning end, 1 roots, 26 extra nodes, 0 pruned nodes, max_depth=6\n",
      "[15:08:35] src/tree/updater_prune.cc:74: tree pruning end, 1 roots, 26 extra nodes, 0 pruned nodes, max_depth=6\n",
      "[15:08:35] src/tree/updater_prune.cc:74: tree pruning end, 1 roots, 24 extra nodes, 0 pruned nodes, max_depth=6\n",
      "[15:08:35] src/tree/updater_prune.cc:74: tree pruning end, 1 roots, 186 extra nodes, 2 pruned nodes, max_depth=8\n",
      "[15:08:35] src/tree/updater_prune.cc:74: tree pruning end, 1 roots, 222 extra nodes, 0 pruned nodes, max_depth=8\n",
      "[15:08:35] src/tree/updater_prune.cc:74: tree pruning end, 1 roots, 26 extra nodes, 0 pruned nodes, max_depth=6\n",
      "[15:08:35] src/tree/updater_prune.cc:74: tree pruning end, 1 roots, 24 extra nodes, 0 pruned nodes, max_depth=6\n",
      "[15:08:35] src/tree/updater_prune.cc:74: tree pruning end, 1 roots, 212 extra nodes, 0 pruned nodes, max_depth=8\n",
      "[15:08:35] src/tree/updater_prune.cc:74: tree pruning end, 1 roots, 176 extra nodes, 2 pruned nodes, max_depth=8\n",
      "[15:08:35] src/tree/updater_prune.cc:74: tree pruning end, 1 roots, 202 extra nodes, 0 pruned nodes, max_depth=8\n",
      "[15:08:35] src/tree/updater_prune.cc:74: tree pruning end, 1 roots, 26 extra nodes, 0 pruned nodes, max_depth=6\n",
      "[15:08:35] src/tree/updater_prune.cc:74: tree pruning end, 1 roots, 24 extra nodes, 0 pruned nodes, max_depth=8\n",
      "[15:08:35] src/tree/updater_prune.cc:74: tree pruning end, 1 roots, 196 extra nodes, 4 pruned nodes, max_depth=8\n",
      "[15:08:35] src/tree/updater_prune.cc:74: tree pruning end, 1 roots, 26 extra nodes, 0 pruned nodes, max_depth=6\n",
      "[15:08:35] src/tree/updater_prune.cc:74: tree pruning end, 1 roots, 142 extra nodes, 0 pruned nodes, max_depth=8\n",
      "[15:08:35] src/tree/updater_prune.cc:74: tree pruning end, 1 roots, 92 extra nodes, 0 pruned nodes, max_depth=8\n",
      "[15:08:35] src/tree/updater_prune.cc:74: tree pruning end, 1 roots, 188 extra nodes, 0 pruned nodes, max_depth=8\n",
      "[15:08:35] src/tree/updater_prune.cc:74: tree pruning end, 1 roots, 162 extra nodes, 2 pruned nodes, max_depth=8\n",
      "[15:08:35] src/tree/updater_prune.cc:74: tree pruning end, 1 roots, 24 extra nodes, 0 pruned nodes, max_depth=8\n",
      "[15:08:35] src/tree/updater_prune.cc:74: tree pruning end, 1 roots, 24 extra nodes, 0 pruned nodes, max_depth=6\n",
      "[15:08:35] src/tree/updater_prune.cc:74: tree pruning end, 1 roots, 164 extra nodes, 0 pruned nodes, max_depth=8\n",
      "[15:08:35] src/tree/updater_prune.cc:74: tree pruning end, 1 roots, 26 extra nodes, 0 pruned nodes, max_depth=6\n",
      "[15:08:35] src/tree/updater_prune.cc:74: tree pruning end, 1 roots, 24 extra nodes, 0 pruned nodes, max_depth=6\n",
      "[15:08:35] src/tree/updater_prune.cc:74: tree pruning end, 1 roots, 26 extra nodes, 0 pruned nodes, max_depth=8\n",
      "[15:08:35] src/tree/updater_prune.cc:74: tree pruning end, 1 roots, 24 extra nodes, 0 pruned nodes, max_depth=6\n",
      "[15:08:35] src/tree/updater_prune.cc:74: tree pruning end, 1 roots, 24 extra nodes, 0 pruned nodes, max_depth=6\n",
      "[15:08:35] src/tree/updater_prune.cc:74: tree pruning end, 1 roots, 170 extra nodes, 0 pruned nodes, max_depth=8\n",
      "[15:08:35] src/tree/updater_prune.cc:74: tree pruning end, 1 roots, 24 extra nodes, 0 pruned nodes, max_depth=6\n",
      "[15:08:35] src/tree/updater_prune.cc:74: tree pruning end, 1 roots, 26 extra nodes, 0 pruned nodes, max_depth=8\n",
      "[15:08:35] src/tree/updater_prune.cc:74: tree pruning end, 1 roots, 26 extra nodes, 0 pruned nodes, max_depth=6\n",
      "[15:08:35] src/tree/updater_prune.cc:74: tree pruning end, 1 roots, 148 extra nodes, 0 pruned nodes, max_depth=8\n",
      "[15:08:35] src/tree/updater_prune.cc:74: tree pruning end, 1 roots, 24 extra nodes, 0 pruned nodes, max_depth=6\n",
      "[15:08:35] src/tree/updater_prune.cc:74: tree pruning end, 1 roots, 24 extra nodes, 0 pruned nodes, max_depth=8\n",
      "[15:08:35] src/tree/updater_prune.cc:74: tree pruning end, 1 roots, 174 extra nodes, 2 pruned nodes, max_depth=8\n",
      "[15:08:35] src/tree/updater_prune.cc:74: tree pruning end, 1 roots, 24 extra nodes, 0 pruned nodes, max_depth=8\n",
      "[15:08:35] src/tree/updater_prune.cc:74: tree pruning end, 1 roots, 28 extra nodes, 0 pruned nodes, max_depth=7\n",
      "[15:08:35] src/tree/updater_prune.cc:74: tree pruning end, 1 roots, 150 extra nodes, 0 pruned nodes, max_depth=8\n",
      "[15:08:35] src/tree/updater_prune.cc:74: tree pruning end, 1 roots, 216 extra nodes, 0 pruned nodes, max_depth=8\n",
      "[15:08:36] src/tree/updater_prune.cc:74: tree pruning end, 1 roots, 172 extra nodes, 0 pruned nodes, max_depth=8\n",
      "[15:08:36] src/tree/updater_prune.cc:74: tree pruning end, 1 roots, 24 extra nodes, 0 pruned nodes, max_depth=6\n",
      "[15:08:36] src/tree/updater_prune.cc:74: tree pruning end, 1 roots, 146 extra nodes, 0 pruned nodes, max_depth=8\n",
      "[15:08:36] src/tree/updater_prune.cc:74: tree pruning end, 1 roots, 24 extra nodes, 0 pruned nodes, max_depth=6\n",
      "[15:08:36] src/tree/updater_prune.cc:74: tree pruning end, 1 roots, 152 extra nodes, 2 pruned nodes, max_depth=8\n",
      "[15:08:36] src/tree/updater_prune.cc:74: tree pruning end, 1 roots, 140 extra nodes, 2 pruned nodes, max_depth=8\n",
      "[15:08:36] src/tree/updater_prune.cc:74: tree pruning end, 1 roots, 26 extra nodes, 0 pruned nodes, max_depth=6\n",
      "[15:08:36] src/tree/updater_prune.cc:74: tree pruning end, 1 roots, 24 extra nodes, 0 pruned nodes, max_depth=6\n",
      "[15:08:36] src/tree/updater_prune.cc:74: tree pruning end, 1 roots, 172 extra nodes, 2 pruned nodes, max_depth=8\n",
      "[15:08:36] src/tree/updater_prune.cc:74: tree pruning end, 1 roots, 160 extra nodes, 6 pruned nodes, max_depth=8\n",
      "[15:08:36] src/tree/updater_prune.cc:74: tree pruning end, 1 roots, 194 extra nodes, 4 pruned nodes, max_depth=8\n",
      "[15:08:36] src/tree/updater_prune.cc:74: tree pruning end, 1 roots, 186 extra nodes, 0 pruned nodes, max_depth=8\n",
      "[15:08:36] src/tree/updater_prune.cc:74: tree pruning end, 1 roots, 24 extra nodes, 0 pruned nodes, max_depth=6\n",
      "[15:08:36] src/tree/updater_prune.cc:74: tree pruning end, 1 roots, 26 extra nodes, 0 pruned nodes, max_depth=6\n",
      "[15:08:36] src/tree/updater_prune.cc:74: tree pruning end, 1 roots, 24 extra nodes, 0 pruned nodes, max_depth=6\n",
      "[15:08:36] src/tree/updater_prune.cc:74: tree pruning end, 1 roots, 26 extra nodes, 0 pruned nodes, max_depth=6\n",
      "[15:08:36] src/tree/updater_prune.cc:74: tree pruning end, 1 roots, 164 extra nodes, 2 pruned nodes, max_depth=8\n",
      "[15:08:36] src/tree/updater_prune.cc:74: tree pruning end, 1 roots, 132 extra nodes, 0 pruned nodes, max_depth=8\n",
      "[15:08:36] src/tree/updater_prune.cc:74: tree pruning end, 1 roots, 116 extra nodes, 2 pruned nodes, max_depth=8\n",
      "[15:08:36] src/tree/updater_prune.cc:74: tree pruning end, 1 roots, 24 extra nodes, 0 pruned nodes, max_depth=6\n",
      "[15:08:36] src/tree/updater_prune.cc:74: tree pruning end, 1 roots, 26 extra nodes, 0 pruned nodes, max_depth=6\n",
      "[15:08:36] src/tree/updater_prune.cc:74: tree pruning end, 1 roots, 26 extra nodes, 0 pruned nodes, max_depth=6\n",
      "[15:08:36] src/tree/updater_prune.cc:74: tree pruning end, 1 roots, 24 extra nodes, 0 pruned nodes, max_depth=8\n",
      "[15:08:36] src/tree/updater_prune.cc:74: tree pruning end, 1 roots, 130 extra nodes, 2 pruned nodes, max_depth=8\n",
      "[15:08:36] src/tree/updater_prune.cc:74: tree pruning end, 1 roots, 158 extra nodes, 0 pruned nodes, max_depth=8\n",
      "[15:08:36] src/tree/updater_prune.cc:74: tree pruning end, 1 roots, 26 extra nodes, 0 pruned nodes, max_depth=6\n",
      "[15:08:36] src/tree/updater_prune.cc:74: tree pruning end, 1 roots, 26 extra nodes, 0 pruned nodes, max_depth=6\n",
      "[15:08:36] src/tree/updater_prune.cc:74: tree pruning end, 1 roots, 26 extra nodes, 0 pruned nodes, max_depth=6\n",
      "[15:08:36] src/tree/updater_prune.cc:74: tree pruning end, 1 roots, 24 extra nodes, 0 pruned nodes, max_depth=6\n",
      "[15:08:36] src/tree/updater_prune.cc:74: tree pruning end, 1 roots, 184 extra nodes, 4 pruned nodes, max_depth=8\n",
      "[15:08:36] src/tree/updater_prune.cc:74: tree pruning end, 1 roots, 178 extra nodes, 2 pruned nodes, max_depth=8\n",
      "[15:08:36] src/tree/updater_prune.cc:74: tree pruning end, 1 roots, 26 extra nodes, 0 pruned nodes, max_depth=8\n",
      "[15:08:36] src/tree/updater_prune.cc:74: tree pruning end, 1 roots, 144 extra nodes, 2 pruned nodes, max_depth=8\n",
      "[15:08:36] src/tree/updater_prune.cc:74: tree pruning end, 1 roots, 26 extra nodes, 0 pruned nodes, max_depth=6\n",
      "[15:08:36] src/tree/updater_prune.cc:74: tree pruning end, 1 roots, 26 extra nodes, 0 pruned nodes, max_depth=6\n",
      "[15:08:36] src/tree/updater_prune.cc:74: tree pruning end, 1 roots, 26 extra nodes, 0 pruned nodes, max_depth=6\n",
      "[15:08:36] src/tree/updater_prune.cc:74: tree pruning end, 1 roots, 26 extra nodes, 0 pruned nodes, max_depth=8\n",
      "[15:08:36] src/tree/updater_prune.cc:74: tree pruning end, 1 roots, 26 extra nodes, 0 pruned nodes, max_depth=8\n",
      "[15:08:36] src/tree/updater_prune.cc:74: tree pruning end, 1 roots, 176 extra nodes, 0 pruned nodes, max_depth=8\n",
      "[15:08:36] src/tree/updater_prune.cc:74: tree pruning end, 1 roots, 26 extra nodes, 0 pruned nodes, max_depth=8\n",
      "[15:08:36] src/tree/updater_prune.cc:74: tree pruning end, 1 roots, 168 extra nodes, 4 pruned nodes, max_depth=8\n",
      "[15:08:36] src/tree/updater_prune.cc:74: tree pruning end, 1 roots, 170 extra nodes, 0 pruned nodes, max_depth=8\n",
      "[15:08:36] src/tree/updater_prune.cc:74: tree pruning end, 1 roots, 24 extra nodes, 0 pruned nodes, max_depth=8\n",
      "[15:08:37] src/tree/updater_prune.cc:74: tree pruning end, 1 roots, 26 extra nodes, 0 pruned nodes, max_depth=6\n",
      "[15:08:37] src/tree/updater_prune.cc:74: tree pruning end, 1 roots, 26 extra nodes, 0 pruned nodes, max_depth=8\n",
      "[15:08:37] src/tree/updater_prune.cc:74: tree pruning end, 1 roots, 26 extra nodes, 0 pruned nodes, max_depth=6\n",
      "[15:08:37] src/tree/updater_prune.cc:74: tree pruning end, 1 roots, 152 extra nodes, 2 pruned nodes, max_depth=8\n",
      "[15:08:37] src/tree/updater_prune.cc:74: tree pruning end, 1 roots, 24 extra nodes, 0 pruned nodes, max_depth=6\n",
      "[15:08:37] src/tree/updater_prune.cc:74: tree pruning end, 1 roots, 106 extra nodes, 0 pruned nodes, max_depth=8\n",
      "[15:08:37] src/tree/updater_prune.cc:74: tree pruning end, 1 roots, 164 extra nodes, 4 pruned nodes, max_depth=8\n",
      "[15:08:37] src/tree/updater_prune.cc:74: tree pruning end, 1 roots, 24 extra nodes, 0 pruned nodes, max_depth=6\n",
      "[15:08:37] src/tree/updater_prune.cc:74: tree pruning end, 1 roots, 210 extra nodes, 4 pruned nodes, max_depth=8\n",
      "[15:08:37] src/tree/updater_prune.cc:74: tree pruning end, 1 roots, 24 extra nodes, 0 pruned nodes, max_depth=8\n",
      "[15:08:37] src/tree/updater_prune.cc:74: tree pruning end, 1 roots, 26 extra nodes, 0 pruned nodes, max_depth=6\n",
      "[15:08:37] src/tree/updater_prune.cc:74: tree pruning end, 1 roots, 24 extra nodes, 0 pruned nodes, max_depth=8\n",
      "[15:08:37] src/tree/updater_prune.cc:74: tree pruning end, 1 roots, 26 extra nodes, 0 pruned nodes, max_depth=8\n",
      "[15:08:37] src/tree/updater_prune.cc:74: tree pruning end, 1 roots, 84 extra nodes, 2 pruned nodes, max_depth=8\n",
      "[15:08:37] src/tree/updater_prune.cc:74: tree pruning end, 1 roots, 26 extra nodes, 0 pruned nodes, max_depth=6\n"
     ]
    },
    {
     "output_type": "stream",
     "name": "stdout",
     "text": [
      "[100]\ttrain-auc:0.999999\tvalid-auc:0.964627\ttrain-precision:0.998749\tvalid-precision:0.934535\n",
      "Stopping. Best iteration:\n",
      "[0]\ttrain-auc:0.999813\tvalid-auc:0.977648\ttrain-precision:0.998249\tvalid-precision:0.934535\n",
      "\n",
      "epoch 1 precision : 1.0\n",
      "[0]\ttrain-auc:0.674597\tvalid-auc:0.549394\ttrain-precision:0.475973\tvalid-precision:0.336908\n",
      "Multiple eval metrics have been passed: 'valid-precision' will be used for early stopping.\n",
      "\n",
      "Will train until valid-precision hasn't improved in 100 rounds.\n"
     ]
    },
    {
     "output_type": "stream",
     "name": "stderr",
     "text": [
      "[15:08:37] src/tree/updater_prune.cc:74: tree pruning end, 1 roots, 164 extra nodes, 4 pruned nodes, max_depth=8\n",
      "[15:08:37] src/tree/updater_prune.cc:74: tree pruning end, 1 roots, 162 extra nodes, 0 pruned nodes, max_depth=8\n",
      "[15:08:37] src/tree/updater_prune.cc:74: tree pruning end, 1 roots, 26 extra nodes, 0 pruned nodes, max_depth=8\n",
      "[15:08:37] src/tree/updater_prune.cc:74: tree pruning end, 1 roots, 26 extra nodes, 0 pruned nodes, max_depth=8\n",
      "[15:08:37] src/tree/updater_prune.cc:74: tree pruning end, 1 roots, 122 extra nodes, 0 pruned nodes, max_depth=8\n",
      "[15:08:37] src/tree/updater_prune.cc:74: tree pruning end, 1 roots, 182 extra nodes, 0 pruned nodes, max_depth=8\n",
      "[15:08:37] src/tree/updater_prune.cc:74: tree pruning end, 1 roots, 26 extra nodes, 0 pruned nodes, max_depth=8\n",
      "[15:08:37] src/tree/updater_prune.cc:74: tree pruning end, 1 roots, 26 extra nodes, 0 pruned nodes, max_depth=8\n",
      "[15:08:37] src/tree/updater_prune.cc:74: tree pruning end, 1 roots, 26 extra nodes, 0 pruned nodes, max_depth=8\n",
      "[15:08:37] src/tree/updater_prune.cc:74: tree pruning end, 1 roots, 26 extra nodes, 0 pruned nodes, max_depth=8\n",
      "[15:08:37] src/tree/updater_prune.cc:74: tree pruning end, 1 roots, 178 extra nodes, 0 pruned nodes, max_depth=8\n",
      "[15:08:37] src/tree/updater_prune.cc:74: tree pruning end, 1 roots, 178 extra nodes, 0 pruned nodes, max_depth=8\n",
      "[15:08:37] src/tree/updater_prune.cc:74: tree pruning end, 1 roots, 194 extra nodes, 0 pruned nodes, max_depth=8\n",
      "[15:08:37] src/tree/updater_prune.cc:74: tree pruning end, 1 roots, 166 extra nodes, 2 pruned nodes, max_depth=8\n",
      "[15:08:37] src/tree/updater_prune.cc:74: tree pruning end, 1 roots, 26 extra nodes, 0 pruned nodes, max_depth=8\n",
      "[15:08:37] src/tree/updater_prune.cc:74: tree pruning end, 1 roots, 22 extra nodes, 0 pruned nodes, max_depth=8\n",
      "[15:08:37] src/tree/updater_prune.cc:74: tree pruning end, 1 roots, 24 extra nodes, 0 pruned nodes, max_depth=8\n",
      "[15:08:37] src/tree/updater_prune.cc:74: tree pruning end, 1 roots, 24 extra nodes, 0 pruned nodes, max_depth=8\n",
      "[15:08:37] src/tree/updater_prune.cc:74: tree pruning end, 1 roots, 140 extra nodes, 0 pruned nodes, max_depth=8\n",
      "[15:08:37] src/tree/updater_prune.cc:74: tree pruning end, 1 roots, 26 extra nodes, 0 pruned nodes, max_depth=8\n",
      "[15:08:37] src/tree/updater_prune.cc:74: tree pruning end, 1 roots, 28 extra nodes, 0 pruned nodes, max_depth=8\n",
      "[15:08:37] src/tree/updater_prune.cc:74: tree pruning end, 1 roots, 196 extra nodes, 0 pruned nodes, max_depth=8\n",
      "[15:08:37] src/tree/updater_prune.cc:74: tree pruning end, 1 roots, 178 extra nodes, 0 pruned nodes, max_depth=8\n",
      "[15:08:37] src/tree/updater_prune.cc:74: tree pruning end, 1 roots, 26 extra nodes, 0 pruned nodes, max_depth=8\n",
      "[15:08:37] src/tree/updater_prune.cc:74: tree pruning end, 1 roots, 148 extra nodes, 0 pruned nodes, max_depth=8\n",
      "[15:08:37] src/tree/updater_prune.cc:74: tree pruning end, 1 roots, 150 extra nodes, 0 pruned nodes, max_depth=8\n",
      "[15:08:38] src/tree/updater_prune.cc:74: tree pruning end, 1 roots, 162 extra nodes, 0 pruned nodes, max_depth=8\n",
      "[15:08:38] src/tree/updater_prune.cc:74: tree pruning end, 1 roots, 26 extra nodes, 0 pruned nodes, max_depth=8\n",
      "[15:08:38] src/tree/updater_prune.cc:74: tree pruning end, 1 roots, 26 extra nodes, 0 pruned nodes, max_depth=8\n",
      "[15:08:38] src/tree/updater_prune.cc:74: tree pruning end, 1 roots, 120 extra nodes, 0 pruned nodes, max_depth=8\n",
      "[15:08:38] src/tree/updater_prune.cc:74: tree pruning end, 1 roots, 148 extra nodes, 2 pruned nodes, max_depth=8\n",
      "[15:08:38] src/tree/updater_prune.cc:74: tree pruning end, 1 roots, 196 extra nodes, 0 pruned nodes, max_depth=8\n",
      "[15:08:38] src/tree/updater_prune.cc:74: tree pruning end, 1 roots, 140 extra nodes, 0 pruned nodes, max_depth=8\n",
      "[15:08:38] src/tree/updater_prune.cc:74: tree pruning end, 1 roots, 26 extra nodes, 0 pruned nodes, max_depth=8\n",
      "[15:08:38] src/tree/updater_prune.cc:74: tree pruning end, 1 roots, 158 extra nodes, 0 pruned nodes, max_depth=8\n",
      "[15:08:38] src/tree/updater_prune.cc:74: tree pruning end, 1 roots, 22 extra nodes, 0 pruned nodes, max_depth=8\n",
      "[15:08:38] src/tree/updater_prune.cc:74: tree pruning end, 1 roots, 144 extra nodes, 2 pruned nodes, max_depth=8\n",
      "[15:08:38] src/tree/updater_prune.cc:74: tree pruning end, 1 roots, 26 extra nodes, 0 pruned nodes, max_depth=8\n",
      "[15:08:38] src/tree/updater_prune.cc:74: tree pruning end, 1 roots, 26 extra nodes, 0 pruned nodes, max_depth=8\n",
      "[15:08:38] src/tree/updater_prune.cc:74: tree pruning end, 1 roots, 24 extra nodes, 0 pruned nodes, max_depth=8\n",
      "[15:08:38] src/tree/updater_prune.cc:74: tree pruning end, 1 roots, 172 extra nodes, 2 pruned nodes, max_depth=8\n",
      "[15:08:38] src/tree/updater_prune.cc:74: tree pruning end, 1 roots, 26 extra nodes, 0 pruned nodes, max_depth=8\n",
      "[15:08:38] src/tree/updater_prune.cc:74: tree pruning end, 1 roots, 26 extra nodes, 0 pruned nodes, max_depth=8\n",
      "[15:08:38] src/tree/updater_prune.cc:74: tree pruning end, 1 roots, 138 extra nodes, 2 pruned nodes, max_depth=8\n",
      "[15:08:38] src/tree/updater_prune.cc:74: tree pruning end, 1 roots, 28 extra nodes, 0 pruned nodes, max_depth=8\n",
      "[15:08:38] src/tree/updater_prune.cc:74: tree pruning end, 1 roots, 26 extra nodes, 0 pruned nodes, max_depth=8\n",
      "[15:08:38] src/tree/updater_prune.cc:74: tree pruning end, 1 roots, 26 extra nodes, 0 pruned nodes, max_depth=8\n",
      "[15:08:38] src/tree/updater_prune.cc:74: tree pruning end, 1 roots, 150 extra nodes, 0 pruned nodes, max_depth=8\n",
      "[15:08:38] src/tree/updater_prune.cc:74: tree pruning end, 1 roots, 26 extra nodes, 0 pruned nodes, max_depth=8\n",
      "[15:08:38] src/tree/updater_prune.cc:74: tree pruning end, 1 roots, 116 extra nodes, 0 pruned nodes, max_depth=8\n",
      "[15:08:38] src/tree/updater_prune.cc:74: tree pruning end, 1 roots, 208 extra nodes, 2 pruned nodes, max_depth=8\n",
      "[15:08:38] src/tree/updater_prune.cc:74: tree pruning end, 1 roots, 154 extra nodes, 0 pruned nodes, max_depth=8\n",
      "[15:08:38] src/tree/updater_prune.cc:74: tree pruning end, 1 roots, 132 extra nodes, 0 pruned nodes, max_depth=8\n",
      "[15:08:38] src/tree/updater_prune.cc:74: tree pruning end, 1 roots, 26 extra nodes, 0 pruned nodes, max_depth=8\n",
      "[15:08:38] src/tree/updater_prune.cc:74: tree pruning end, 1 roots, 30 extra nodes, 0 pruned nodes, max_depth=8\n",
      "[15:08:38] src/tree/updater_prune.cc:74: tree pruning end, 1 roots, 28 extra nodes, 0 pruned nodes, max_depth=8\n",
      "[15:08:38] src/tree/updater_prune.cc:74: tree pruning end, 1 roots, 132 extra nodes, 2 pruned nodes, max_depth=8\n",
      "[15:08:38] src/tree/updater_prune.cc:74: tree pruning end, 1 roots, 26 extra nodes, 0 pruned nodes, max_depth=8\n",
      "[15:08:38] src/tree/updater_prune.cc:74: tree pruning end, 1 roots, 146 extra nodes, 2 pruned nodes, max_depth=8\n",
      "[15:08:38] src/tree/updater_prune.cc:74: tree pruning end, 1 roots, 158 extra nodes, 0 pruned nodes, max_depth=8\n",
      "[15:08:38] src/tree/updater_prune.cc:74: tree pruning end, 1 roots, 26 extra nodes, 0 pruned nodes, max_depth=8\n",
      "[15:08:38] src/tree/updater_prune.cc:74: tree pruning end, 1 roots, 26 extra nodes, 0 pruned nodes, max_depth=8\n",
      "[15:08:38] src/tree/updater_prune.cc:74: tree pruning end, 1 roots, 158 extra nodes, 0 pruned nodes, max_depth=8\n",
      "[15:08:38] src/tree/updater_prune.cc:74: tree pruning end, 1 roots, 144 extra nodes, 0 pruned nodes, max_depth=8\n",
      "[15:08:38] src/tree/updater_prune.cc:74: tree pruning end, 1 roots, 116 extra nodes, 0 pruned nodes, max_depth=8\n",
      "[15:08:38] src/tree/updater_prune.cc:74: tree pruning end, 1 roots, 158 extra nodes, 2 pruned nodes, max_depth=8\n",
      "[15:08:38] src/tree/updater_prune.cc:74: tree pruning end, 1 roots, 198 extra nodes, 2 pruned nodes, max_depth=8\n",
      "[15:08:38] src/tree/updater_prune.cc:74: tree pruning end, 1 roots, 28 extra nodes, 0 pruned nodes, max_depth=8\n",
      "[15:08:39] src/tree/updater_prune.cc:74: tree pruning end, 1 roots, 28 extra nodes, 0 pruned nodes, max_depth=8\n",
      "[15:08:39] src/tree/updater_prune.cc:74: tree pruning end, 1 roots, 26 extra nodes, 0 pruned nodes, max_depth=8\n",
      "[15:08:39] src/tree/updater_prune.cc:74: tree pruning end, 1 roots, 26 extra nodes, 0 pruned nodes, max_depth=8\n",
      "[15:08:39] src/tree/updater_prune.cc:74: tree pruning end, 1 roots, 160 extra nodes, 0 pruned nodes, max_depth=8\n",
      "[15:08:39] src/tree/updater_prune.cc:74: tree pruning end, 1 roots, 118 extra nodes, 2 pruned nodes, max_depth=8\n",
      "[15:08:39] src/tree/updater_prune.cc:74: tree pruning end, 1 roots, 30 extra nodes, 0 pruned nodes, max_depth=8\n",
      "[15:08:39] src/tree/updater_prune.cc:74: tree pruning end, 1 roots, 22 extra nodes, 0 pruned nodes, max_depth=8\n",
      "[15:08:39] src/tree/updater_prune.cc:74: tree pruning end, 1 roots, 116 extra nodes, 0 pruned nodes, max_depth=8\n",
      "[15:08:39] src/tree/updater_prune.cc:74: tree pruning end, 1 roots, 142 extra nodes, 2 pruned nodes, max_depth=8\n",
      "[15:08:39] src/tree/updater_prune.cc:74: tree pruning end, 1 roots, 28 extra nodes, 0 pruned nodes, max_depth=8\n",
      "[15:08:39] src/tree/updater_prune.cc:74: tree pruning end, 1 roots, 26 extra nodes, 0 pruned nodes, max_depth=8\n",
      "[15:08:39] src/tree/updater_prune.cc:74: tree pruning end, 1 roots, 26 extra nodes, 0 pruned nodes, max_depth=8\n",
      "[15:08:39] src/tree/updater_prune.cc:74: tree pruning end, 1 roots, 24 extra nodes, 0 pruned nodes, max_depth=8\n",
      "[15:08:39] src/tree/updater_prune.cc:74: tree pruning end, 1 roots, 26 extra nodes, 0 pruned nodes, max_depth=8\n",
      "[15:08:39] src/tree/updater_prune.cc:74: tree pruning end, 1 roots, 116 extra nodes, 2 pruned nodes, max_depth=8\n",
      "[15:08:39] src/tree/updater_prune.cc:74: tree pruning end, 1 roots, 172 extra nodes, 0 pruned nodes, max_depth=8\n",
      "[15:08:39] src/tree/updater_prune.cc:74: tree pruning end, 1 roots, 136 extra nodes, 2 pruned nodes, max_depth=8\n",
      "[15:08:39] src/tree/updater_prune.cc:74: tree pruning end, 1 roots, 194 extra nodes, 8 pruned nodes, max_depth=8\n",
      "[15:08:39] src/tree/updater_prune.cc:74: tree pruning end, 1 roots, 24 extra nodes, 0 pruned nodes, max_depth=8\n",
      "[15:08:39] src/tree/updater_prune.cc:74: tree pruning end, 1 roots, 140 extra nodes, 2 pruned nodes, max_depth=8\n",
      "[15:08:39] src/tree/updater_prune.cc:74: tree pruning end, 1 roots, 184 extra nodes, 0 pruned nodes, max_depth=8\n",
      "[15:08:39] src/tree/updater_prune.cc:74: tree pruning end, 1 roots, 28 extra nodes, 0 pruned nodes, max_depth=8\n",
      "[15:08:39] src/tree/updater_prune.cc:74: tree pruning end, 1 roots, 154 extra nodes, 0 pruned nodes, max_depth=8\n",
      "[15:08:39] src/tree/updater_prune.cc:74: tree pruning end, 1 roots, 124 extra nodes, 2 pruned nodes, max_depth=8\n",
      "[15:08:39] src/tree/updater_prune.cc:74: tree pruning end, 1 roots, 136 extra nodes, 4 pruned nodes, max_depth=8\n",
      "[15:08:39] src/tree/updater_prune.cc:74: tree pruning end, 1 roots, 170 extra nodes, 0 pruned nodes, max_depth=8\n",
      "[15:08:39] src/tree/updater_prune.cc:74: tree pruning end, 1 roots, 198 extra nodes, 0 pruned nodes, max_depth=8\n",
      "[15:08:39] src/tree/updater_prune.cc:74: tree pruning end, 1 roots, 26 extra nodes, 0 pruned nodes, max_depth=8\n",
      "[15:08:39] src/tree/updater_prune.cc:74: tree pruning end, 1 roots, 154 extra nodes, 2 pruned nodes, max_depth=8\n"
     ]
    },
    {
     "output_type": "stream",
     "name": "stdout",
     "text": [
      "[100]\ttrain-auc:0.999999\tvalid-auc:0.978076\ttrain-precision:0.997966\tvalid-precision:0.941912\n",
      "Stopping. Best iteration:\n",
      "[0]\ttrain-auc:0.674597\tvalid-auc:0.549394\ttrain-precision:0.475973\tvalid-precision:0.336908\n",
      "\n",
      "epoch 2 precision : 0.526536312849162\n",
      "[0]\ttrain-auc:0.658939\tvalid-auc:0.531546\ttrain-precision:0.624403\tvalid-precision:0.47338\n",
      "Multiple eval metrics have been passed: 'valid-precision' will be used for early stopping.\n",
      "\n",
      "Will train until valid-precision hasn't improved in 100 rounds.\n"
     ]
    },
    {
     "output_type": "stream",
     "name": "stderr",
     "text": [
      "[15:08:39] src/tree/updater_prune.cc:74: tree pruning end, 1 roots, 22 extra nodes, 0 pruned nodes, max_depth=8\n",
      "[15:08:39] src/tree/updater_prune.cc:74: tree pruning end, 1 roots, 150 extra nodes, 0 pruned nodes, max_depth=8\n",
      "[15:08:39] src/tree/updater_prune.cc:74: tree pruning end, 1 roots, 26 extra nodes, 0 pruned nodes, max_depth=8\n",
      "[15:08:39] src/tree/updater_prune.cc:74: tree pruning end, 1 roots, 106 extra nodes, 0 pruned nodes, max_depth=8\n",
      "[15:08:39] src/tree/updater_prune.cc:74: tree pruning end, 1 roots, 186 extra nodes, 0 pruned nodes, max_depth=8\n",
      "[15:08:39] src/tree/updater_prune.cc:74: tree pruning end, 1 roots, 218 extra nodes, 0 pruned nodes, max_depth=8\n",
      "[15:08:39] src/tree/updater_prune.cc:74: tree pruning end, 1 roots, 200 extra nodes, 4 pruned nodes, max_depth=8\n",
      "[15:08:39] src/tree/updater_prune.cc:74: tree pruning end, 1 roots, 30 extra nodes, 0 pruned nodes, max_depth=8\n",
      "[15:08:39] src/tree/updater_prune.cc:74: tree pruning end, 1 roots, 30 extra nodes, 0 pruned nodes, max_depth=8\n",
      "[15:08:39] src/tree/updater_prune.cc:74: tree pruning end, 1 roots, 160 extra nodes, 0 pruned nodes, max_depth=8\n",
      "[15:08:39] src/tree/updater_prune.cc:74: tree pruning end, 1 roots, 30 extra nodes, 0 pruned nodes, max_depth=8\n",
      "[15:08:40] src/tree/updater_prune.cc:74: tree pruning end, 1 roots, 28 extra nodes, 0 pruned nodes, max_depth=8\n",
      "[15:08:40] src/tree/updater_prune.cc:74: tree pruning end, 1 roots, 28 extra nodes, 0 pruned nodes, max_depth=8\n",
      "[15:08:40] src/tree/updater_prune.cc:74: tree pruning end, 1 roots, 30 extra nodes, 2 pruned nodes, max_depth=8\n",
      "[15:08:40] src/tree/updater_prune.cc:74: tree pruning end, 1 roots, 242 extra nodes, 0 pruned nodes, max_depth=8\n",
      "[15:08:40] src/tree/updater_prune.cc:74: tree pruning end, 1 roots, 132 extra nodes, 0 pruned nodes, max_depth=8\n",
      "[15:08:40] src/tree/updater_prune.cc:74: tree pruning end, 1 roots, 28 extra nodes, 0 pruned nodes, max_depth=8\n",
      "[15:08:40] src/tree/updater_prune.cc:74: tree pruning end, 1 roots, 28 extra nodes, 0 pruned nodes, max_depth=8\n",
      "[15:08:40] src/tree/updater_prune.cc:74: tree pruning end, 1 roots, 216 extra nodes, 0 pruned nodes, max_depth=8\n",
      "[15:08:40] src/tree/updater_prune.cc:74: tree pruning end, 1 roots, 28 extra nodes, 0 pruned nodes, max_depth=8\n",
      "[15:08:40] src/tree/updater_prune.cc:74: tree pruning end, 1 roots, 150 extra nodes, 0 pruned nodes, max_depth=8\n",
      "[15:08:40] src/tree/updater_prune.cc:74: tree pruning end, 1 roots, 194 extra nodes, 0 pruned nodes, max_depth=8\n",
      "[15:08:40] src/tree/updater_prune.cc:74: tree pruning end, 1 roots, 168 extra nodes, 0 pruned nodes, max_depth=8\n",
      "[15:08:40] src/tree/updater_prune.cc:74: tree pruning end, 1 roots, 32 extra nodes, 0 pruned nodes, max_depth=8\n",
      "[15:08:40] src/tree/updater_prune.cc:74: tree pruning end, 1 roots, 198 extra nodes, 0 pruned nodes, max_depth=8\n",
      "[15:08:40] src/tree/updater_prune.cc:74: tree pruning end, 1 roots, 162 extra nodes, 2 pruned nodes, max_depth=8\n",
      "[15:08:40] src/tree/updater_prune.cc:74: tree pruning end, 1 roots, 220 extra nodes, 0 pruned nodes, max_depth=8\n",
      "[15:08:40] src/tree/updater_prune.cc:74: tree pruning end, 1 roots, 28 extra nodes, 0 pruned nodes, max_depth=8\n",
      "[15:08:40] src/tree/updater_prune.cc:74: tree pruning end, 1 roots, 190 extra nodes, 0 pruned nodes, max_depth=8\n",
      "[15:08:40] src/tree/updater_prune.cc:74: tree pruning end, 1 roots, 28 extra nodes, 0 pruned nodes, max_depth=8\n",
      "[15:08:40] src/tree/updater_prune.cc:74: tree pruning end, 1 roots, 28 extra nodes, 0 pruned nodes, max_depth=8\n",
      "[15:08:40] src/tree/updater_prune.cc:74: tree pruning end, 1 roots, 206 extra nodes, 0 pruned nodes, max_depth=8\n",
      "[15:08:40] src/tree/updater_prune.cc:74: tree pruning end, 1 roots, 30 extra nodes, 0 pruned nodes, max_depth=8\n",
      "[15:08:40] src/tree/updater_prune.cc:74: tree pruning end, 1 roots, 166 extra nodes, 0 pruned nodes, max_depth=8\n",
      "[15:08:40] src/tree/updater_prune.cc:74: tree pruning end, 1 roots, 226 extra nodes, 0 pruned nodes, max_depth=8\n",
      "[15:08:40] src/tree/updater_prune.cc:74: tree pruning end, 1 roots, 28 extra nodes, 0 pruned nodes, max_depth=8\n",
      "[15:08:40] src/tree/updater_prune.cc:74: tree pruning end, 1 roots, 244 extra nodes, 0 pruned nodes, max_depth=8\n",
      "[15:08:40] src/tree/updater_prune.cc:74: tree pruning end, 1 roots, 214 extra nodes, 0 pruned nodes, max_depth=8\n",
      "[15:08:40] src/tree/updater_prune.cc:74: tree pruning end, 1 roots, 30 extra nodes, 0 pruned nodes, max_depth=8\n",
      "[15:08:40] src/tree/updater_prune.cc:74: tree pruning end, 1 roots, 30 extra nodes, 0 pruned nodes, max_depth=8\n",
      "[15:08:40] src/tree/updater_prune.cc:74: tree pruning end, 1 roots, 30 extra nodes, 0 pruned nodes, max_depth=8\n",
      "[15:08:40] src/tree/updater_prune.cc:74: tree pruning end, 1 roots, 30 extra nodes, 0 pruned nodes, max_depth=8\n",
      "[15:08:40] src/tree/updater_prune.cc:74: tree pruning end, 1 roots, 198 extra nodes, 0 pruned nodes, max_depth=8\n",
      "[15:08:40] src/tree/updater_prune.cc:74: tree pruning end, 1 roots, 28 extra nodes, 0 pruned nodes, max_depth=8\n",
      "[15:08:40] src/tree/updater_prune.cc:74: tree pruning end, 1 roots, 30 extra nodes, 0 pruned nodes, max_depth=8\n",
      "[15:08:40] src/tree/updater_prune.cc:74: tree pruning end, 1 roots, 28 extra nodes, 0 pruned nodes, max_depth=8\n",
      "[15:08:40] src/tree/updater_prune.cc:74: tree pruning end, 1 roots, 160 extra nodes, 0 pruned nodes, max_depth=8\n",
      "[15:08:40] src/tree/updater_prune.cc:74: tree pruning end, 1 roots, 30 extra nodes, 0 pruned nodes, max_depth=8\n",
      "[15:08:40] src/tree/updater_prune.cc:74: tree pruning end, 1 roots, 100 extra nodes, 0 pruned nodes, max_depth=8\n",
      "[15:08:40] src/tree/updater_prune.cc:74: tree pruning end, 1 roots, 28 extra nodes, 0 pruned nodes, max_depth=8\n",
      "[15:08:40] src/tree/updater_prune.cc:74: tree pruning end, 1 roots, 30 extra nodes, 0 pruned nodes, max_depth=8\n",
      "[15:08:40] src/tree/updater_prune.cc:74: tree pruning end, 1 roots, 176 extra nodes, 0 pruned nodes, max_depth=8\n",
      "[15:08:40] src/tree/updater_prune.cc:74: tree pruning end, 1 roots, 28 extra nodes, 0 pruned nodes, max_depth=8\n",
      "[15:08:41] src/tree/updater_prune.cc:74: tree pruning end, 1 roots, 30 extra nodes, 0 pruned nodes, max_depth=8\n",
      "[15:08:41] src/tree/updater_prune.cc:74: tree pruning end, 1 roots, 30 extra nodes, 0 pruned nodes, max_depth=8\n",
      "[15:08:41] src/tree/updater_prune.cc:74: tree pruning end, 1 roots, 132 extra nodes, 2 pruned nodes, max_depth=8\n",
      "[15:08:41] src/tree/updater_prune.cc:74: tree pruning end, 1 roots, 190 extra nodes, 4 pruned nodes, max_depth=8\n",
      "[15:08:41] src/tree/updater_prune.cc:74: tree pruning end, 1 roots, 32 extra nodes, 0 pruned nodes, max_depth=8\n",
      "[15:08:41] src/tree/updater_prune.cc:74: tree pruning end, 1 roots, 30 extra nodes, 0 pruned nodes, max_depth=8\n",
      "[15:08:41] src/tree/updater_prune.cc:74: tree pruning end, 1 roots, 28 extra nodes, 0 pruned nodes, max_depth=8\n",
      "[15:08:41] src/tree/updater_prune.cc:74: tree pruning end, 1 roots, 168 extra nodes, 2 pruned nodes, max_depth=8\n",
      "[15:08:41] src/tree/updater_prune.cc:74: tree pruning end, 1 roots, 28 extra nodes, 0 pruned nodes, max_depth=8\n",
      "[15:08:41] src/tree/updater_prune.cc:74: tree pruning end, 1 roots, 28 extra nodes, 0 pruned nodes, max_depth=8\n",
      "[15:08:41] src/tree/updater_prune.cc:74: tree pruning end, 1 roots, 186 extra nodes, 2 pruned nodes, max_depth=8\n",
      "[15:08:41] src/tree/updater_prune.cc:74: tree pruning end, 1 roots, 126 extra nodes, 2 pruned nodes, max_depth=8\n",
      "[15:08:41] src/tree/updater_prune.cc:74: tree pruning end, 1 roots, 196 extra nodes, 2 pruned nodes, max_depth=8\n",
      "[15:08:41] src/tree/updater_prune.cc:74: tree pruning end, 1 roots, 28 extra nodes, 0 pruned nodes, max_depth=8\n",
      "[15:08:41] src/tree/updater_prune.cc:74: tree pruning end, 1 roots, 212 extra nodes, 2 pruned nodes, max_depth=8\n",
      "[15:08:41] src/tree/updater_prune.cc:74: tree pruning end, 1 roots, 28 extra nodes, 0 pruned nodes, max_depth=8\n",
      "[15:08:41] src/tree/updater_prune.cc:74: tree pruning end, 1 roots, 30 extra nodes, 0 pruned nodes, max_depth=8\n",
      "[15:08:41] src/tree/updater_prune.cc:74: tree pruning end, 1 roots, 164 extra nodes, 2 pruned nodes, max_depth=8\n",
      "[15:08:41] src/tree/updater_prune.cc:74: tree pruning end, 1 roots, 30 extra nodes, 0 pruned nodes, max_depth=8\n",
      "[15:08:41] src/tree/updater_prune.cc:74: tree pruning end, 1 roots, 198 extra nodes, 4 pruned nodes, max_depth=8\n",
      "[15:08:41] src/tree/updater_prune.cc:74: tree pruning end, 1 roots, 214 extra nodes, 0 pruned nodes, max_depth=8\n",
      "[15:08:41] src/tree/updater_prune.cc:74: tree pruning end, 1 roots, 204 extra nodes, 0 pruned nodes, max_depth=8\n",
      "[15:08:41] src/tree/updater_prune.cc:74: tree pruning end, 1 roots, 28 extra nodes, 0 pruned nodes, max_depth=8\n",
      "[15:08:41] src/tree/updater_prune.cc:74: tree pruning end, 1 roots, 130 extra nodes, 0 pruned nodes, max_depth=8\n",
      "[15:08:41] src/tree/updater_prune.cc:74: tree pruning end, 1 roots, 194 extra nodes, 0 pruned nodes, max_depth=8\n",
      "[15:08:41] src/tree/updater_prune.cc:74: tree pruning end, 1 roots, 32 extra nodes, 0 pruned nodes, max_depth=8\n",
      "[15:08:41] src/tree/updater_prune.cc:74: tree pruning end, 1 roots, 32 extra nodes, 0 pruned nodes, max_depth=8\n",
      "[15:08:41] src/tree/updater_prune.cc:74: tree pruning end, 1 roots, 30 extra nodes, 0 pruned nodes, max_depth=8\n",
      "[15:08:41] src/tree/updater_prune.cc:74: tree pruning end, 1 roots, 32 extra nodes, 0 pruned nodes, max_depth=8\n",
      "[15:08:41] src/tree/updater_prune.cc:74: tree pruning end, 1 roots, 184 extra nodes, 2 pruned nodes, max_depth=8\n",
      "[15:08:41] src/tree/updater_prune.cc:74: tree pruning end, 1 roots, 32 extra nodes, 0 pruned nodes, max_depth=8\n",
      "[15:08:41] src/tree/updater_prune.cc:74: tree pruning end, 1 roots, 166 extra nodes, 2 pruned nodes, max_depth=8\n",
      "[15:08:41] src/tree/updater_prune.cc:74: tree pruning end, 1 roots, 138 extra nodes, 0 pruned nodes, max_depth=8\n",
      "[15:08:41] src/tree/updater_prune.cc:74: tree pruning end, 1 roots, 34 extra nodes, 0 pruned nodes, max_depth=8\n",
      "[15:08:41] src/tree/updater_prune.cc:74: tree pruning end, 1 roots, 174 extra nodes, 4 pruned nodes, max_depth=8\n",
      "[15:08:41] src/tree/updater_prune.cc:74: tree pruning end, 1 roots, 138 extra nodes, 0 pruned nodes, max_depth=8\n",
      "[15:08:41] src/tree/updater_prune.cc:74: tree pruning end, 1 roots, 30 extra nodes, 0 pruned nodes, max_depth=8\n",
      "[15:08:41] src/tree/updater_prune.cc:74: tree pruning end, 1 roots, 30 extra nodes, 0 pruned nodes, max_depth=8\n",
      "[15:08:41] src/tree/updater_prune.cc:74: tree pruning end, 1 roots, 32 extra nodes, 0 pruned nodes, max_depth=8\n",
      "[15:08:41] src/tree/updater_prune.cc:74: tree pruning end, 1 roots, 142 extra nodes, 2 pruned nodes, max_depth=8\n",
      "[15:08:41] src/tree/updater_prune.cc:74: tree pruning end, 1 roots, 28 extra nodes, 0 pruned nodes, max_depth=8\n",
      "[15:08:41] src/tree/updater_prune.cc:74: tree pruning end, 1 roots, 32 extra nodes, 0 pruned nodes, max_depth=8\n",
      "[15:08:42] src/tree/updater_prune.cc:74: tree pruning end, 1 roots, 168 extra nodes, 2 pruned nodes, max_depth=8\n",
      "[15:08:42] src/tree/updater_prune.cc:74: tree pruning end, 1 roots, 188 extra nodes, 4 pruned nodes, max_depth=8\n",
      "[15:08:42] src/tree/updater_prune.cc:74: tree pruning end, 1 roots, 98 extra nodes, 2 pruned nodes, max_depth=8\n",
      "[15:08:42] src/tree/updater_prune.cc:74: tree pruning end, 1 roots, 30 extra nodes, 0 pruned nodes, max_depth=8\n",
      "[15:08:42] src/tree/updater_prune.cc:74: tree pruning end, 1 roots, 190 extra nodes, 6 pruned nodes, max_depth=8\n",
      "[15:08:42] src/tree/updater_prune.cc:74: tree pruning end, 1 roots, 212 extra nodes, 2 pruned nodes, max_depth=8\n",
      "[15:08:42] src/tree/updater_prune.cc:74: tree pruning end, 1 roots, 30 extra nodes, 0 pruned nodes, max_depth=8\n",
      "[15:08:42] src/tree/updater_prune.cc:74: tree pruning end, 1 roots, 174 extra nodes, 0 pruned nodes, max_depth=8\n",
      "[15:08:42] src/tree/updater_prune.cc:74: tree pruning end, 1 roots, 224 extra nodes, 0 pruned nodes, max_depth=8\n",
      "[15:08:42] src/tree/updater_prune.cc:74"
     ]
    },
    {
     "output_type": "stream",
     "name": "stdout",
     "text": [
      "[100]\ttrain-auc:0.999997\tvalid-auc:0.995463\ttrain-precision:0.998329\tvalid-precision:0.998843\n",
      "Stopping. Best iteration:\n",
      "[0]\ttrain-auc:0.658939\tvalid-auc:0.531546\ttrain-precision:0.624403\tvalid-precision:0.47338\n",
      "\n",
      "epoch 3 precision : 0.46006749156355453\n",
      "[0]\ttrain-auc:0.999838\tvalid-auc:0.986244\ttrain-precision:0.998077\tvalid-precision:1\n",
      "Multiple eval metrics have been passed: 'valid-precision' will be used for early stopping.\n",
      "\n",
      "Will train until valid-precision hasn't improved in 100 rounds.\n"
     ]
    },
    {
     "output_type": "stream",
     "name": "stderr",
     "text": [
      ": tree pruning end, 1 roots, 32 extra nodes, 0 pruned nodes, max_depth=8\n",
      "[15:08:42] src/tree/updater_prune.cc:74: tree pruning end, 1 roots, 196 extra nodes, 2 pruned nodes, max_depth=8\n",
      "[15:08:42] src/tree/updater_prune.cc:74: tree pruning end, 1 roots, 28 extra nodes, 0 pruned nodes, max_depth=8\n",
      "[15:08:42] src/tree/updater_prune.cc:74: tree pruning end, 1 roots, 28 extra nodes, 0 pruned nodes, max_depth=8\n",
      "[15:08:42] src/tree/updater_prune.cc:74: tree pruning end, 1 roots, 30 extra nodes, 0 pruned nodes, max_depth=8\n",
      "[15:08:42] src/tree/updater_prune.cc:74: tree pruning end, 1 roots, 174 extra nodes, 0 pruned nodes, max_depth=8\n",
      "[15:08:42] src/tree/updater_prune.cc:74: tree pruning end, 1 roots, 200 extra nodes, 0 pruned nodes, max_depth=8\n",
      "[15:08:42] src/tree/updater_prune.cc:74: tree pruning end, 1 roots, 200 extra nodes, 0 pruned nodes, max_depth=8\n",
      "[15:08:42] src/tree/updater_prune.cc:74: tree pruning end, 1 roots, 144 extra nodes, 0 pruned nodes, max_depth=8\n",
      "[15:08:42] src/tree/updater_prune.cc:74: tree pruning end, 1 roots, 172 extra nodes, 0 pruned nodes, max_depth=8\n",
      "[15:08:42] src/tree/updater_prune.cc:74: tree pruning end, 1 roots, 162 extra nodes, 0 pruned nodes, max_depth=8\n",
      "[15:08:42] src/tree/updater_prune.cc:74: tree pruning end, 1 roots, 30 extra nodes, 0 pruned nodes, max_depth=8\n",
      "[15:08:42] src/tree/updater_prune.cc:74: tree pruning end, 1 roots, 146 extra nodes, 0 pruned nodes, max_depth=8\n",
      "[15:08:42] src/tree/updater_prune.cc:74: tree pruning end, 1 roots, 166 extra nodes, 0 pruned nodes, max_depth=8\n",
      "[15:08:42] src/tree/updater_prune.cc:74: tree pruning end, 1 roots, 30 extra nodes, 0 pruned nodes, max_depth=8\n",
      "[15:08:42] src/tree/updater_prune.cc:74: tree pruning end, 1 roots, 32 extra nodes, 0 pruned nodes, max_depth=8\n",
      "[15:08:42] src/tree/updater_prune.cc:74: tree pruning end, 1 roots, 28 extra nodes, 0 pruned nodes, max_depth=8\n",
      "[15:08:42] src/tree/updater_prune.cc:74: tree pruning end, 1 roots, 200 extra nodes, 0 pruned nodes, max_depth=8\n",
      "[15:08:42] src/tree/updater_prune.cc:74: tree pruning end, 1 roots, 28 extra nodes, 0 pruned nodes, max_depth=8\n",
      "[15:08:42] src/tree/updater_prune.cc:74: tree pruning end, 1 roots, 30 extra nodes, 0 pruned nodes, max_depth=8\n",
      "[15:08:42] src/tree/updater_prune.cc:74: tree pruning end, 1 roots, 32 extra nodes, 0 pruned nodes, max_depth=8\n",
      "[15:08:42] src/tree/updater_prune.cc:74: tree pruning end, 1 roots, 28 extra nodes, 0 pruned nodes, max_depth=8\n",
      "[15:08:42] src/tree/updater_prune.cc:74: tree pruning end, 1 roots, 180 extra nodes, 0 pruned nodes, max_depth=8\n",
      "[15:08:42] src/tree/updater_prune.cc:74: tree pruning end, 1 roots, 28 extra nodes, 0 pruned nodes, max_depth=8\n",
      "[15:08:42] src/tree/updater_prune.cc:74: tree pruning end, 1 roots, 28 extra nodes, 0 pruned nodes, max_depth=8\n",
      "[15:08:42] src/tree/updater_prune.cc:74: tree pruning end, 1 roots, 28 extra nodes, 0 pruned nodes, max_depth=8\n",
      "[15:08:42] src/tree/updater_prune.cc:74: tree pruning end, 1 roots, 32 extra nodes, 0 pruned nodes, max_depth=8\n",
      "[15:08:42] src/tree/updater_prune.cc:74: tree pruning end, 1 roots, 222 extra nodes, 0 pruned nodes, max_depth=8\n",
      "[15:08:42] src/tree/updater_prune.cc:74: tree pruning end, 1 roots, 30 extra nodes, 0 pruned nodes, max_depth=8\n",
      "[15:08:42] src/tree/updater_prune.cc:74: tree pruning end, 1 roots, 32 extra nodes, 0 pruned nodes, max_depth=8\n",
      "[15:08:43] src/tree/updater_prune.cc:74: tree pruning end, 1 roots, 194 extra nodes, 0 pruned nodes, max_depth=8\n",
      "[15:08:43] src/tree/updater_prune.cc:74: tree pruning end, 1 roots, 32 extra nodes, 0 pruned nodes, max_depth=8\n",
      "[15:08:43] src/tree/updater_prune.cc:74: tree pruning end, 1 roots, 30 extra nodes, 0 pruned nodes, max_depth=8\n",
      "[15:08:43] src/tree/updater_prune.cc:74: tree pruning end, 1 roots, 32 extra nodes, 0 pruned nodes, max_depth=8\n",
      "[15:08:43] src/tree/updater_prune.cc:74: tree pruning end, 1 roots, 194 extra nodes, 2 pruned nodes, max_depth=8\n",
      "[15:08:43] src/tree/updater_prune.cc:74: tree pruning end, 1 roots, 192 extra nodes, 0 pruned nodes, max_depth=8\n",
      "[15:08:43] src/tree/updater_prune.cc:74: tree pruning end, 1 roots, 154 extra nodes, 0 pruned nodes, max_depth=8\n",
      "[15:08:43] src/tree/updater_prune.cc:74: tree pruning end, 1 roots, 30 extra nodes, 0 pruned nodes, max_depth=8\n",
      "[15:08:43] src/tree/updater_prune.cc:74: tree pruning end, 1 roots, 198 extra nodes, 4 pruned nodes, max_depth=8\n",
      "[15:08:43] src/tree/updater_prune.cc:74: tree pruning end, 1 roots, 28 extra nodes, 0 pruned nodes, max_depth=8\n",
      "[15:08:43] src/tree/updater_prune.cc:74: tree pruning end, 1 roots, 28 extra nodes, 0 pruned nodes, max_depth=8\n",
      "[15:08:43] src/tree/updater_prune.cc:74: tree pruning end, 1 roots, 30 extra nodes, 0 pruned nodes, max_depth=8\n",
      "[15:08:43] src/tree/updater_prune.cc:74: tree pruning end, 1 roots, 30 extra nodes, 0 pruned nodes, max_depth=8\n",
      "[15:08:43] src/tree/updater_prune.cc:74: tree pruning end, 1 roots, 30 extra nodes, 0 pruned nodes, max_depth=8\n",
      "[15:08:43] src/tree/updater_prune.cc:74: tree pruning end, 1 roots, 154 extra nodes, 0 pruned nodes, max_depth=8\n",
      "[15:08:43] src/tree/updater_prune.cc:74: tree pruning end, 1 roots, 30 extra nodes, 0 pruned nodes, max_depth=8\n",
      "[15:08:43] src/tree/updater_prune.cc:74: tree pruning end, 1 roots, 28 extra nodes, 0 pruned nodes, max_depth=8\n",
      "[15:08:43] src/tree/updater_prune.cc:74: tree pruning end, 1 roots, 30 extra nodes, 0 pruned nodes, max_depth=8\n",
      "[15:08:43] src/tree/updater_prune.cc:74: tree pruning end, 1 roots, 28 extra nodes, 0 pruned nodes, max_depth=8\n",
      "[15:08:43] src/tree/updater_prune.cc:74: tree pruning end, 1 roots, 30 extra nodes, 0 pruned nodes, max_depth=8\n",
      "[15:08:43] src/tree/updater_prune.cc:74: tree pruning end, 1 roots, 28 extra nodes, 0 pruned nodes, max_depth=8\n",
      "[15:08:43] src/tree/updater_prune.cc:74: tree pruning end, 1 roots, 170 extra nodes, 2 pruned nodes, max_depth=8\n",
      "[15:08:43] src/tree/updater_prune.cc:74: tree pruning end, 1 roots, 120 extra nodes, 0 pruned nodes, max_depth=8\n",
      "[15:08:43] src/tree/updater_prune.cc:74: tree pruning end, 1 roots, 164 extra nodes, 0 pruned nodes, max_depth=8\n",
      "[15:08:43] src/tree/updater_prune.cc:74: tree pruning end, 1 roots, 30 extra nodes, 0 pruned nodes, max_depth=8\n",
      "[15:08:43] src/tree/updater_prune.cc:74: tree pruning end, 1 roots, 30 extra nodes, 0 pruned nodes, max_depth=8\n",
      "[15:08:43] src/tree/updater_prune.cc:74: tree pruning end, 1 roots, 148 extra nodes, 2 pruned nodes, max_depth=8\n",
      "[15:08:43] src/tree/updater_prune.cc:74: tree pruning end, 1 roots, 28 extra nodes, 0 pruned nodes, max_depth=8\n",
      "[15:08:43] src/tree/updater_prune.cc:74: tree pruning end, 1 roots, 172 extra nodes, 4 pruned nodes, max_depth=8\n",
      "[15:08:43] src/tree/updater_prune.cc:74: tree pruning end, 1 roots, 28 extra nodes, 0 pruned nodes, max_depth=8\n",
      "[15:08:43] src/tree/updater_prune.cc:74: tree pruning end, 1 roots, 30 extra nodes, 0 pruned nodes, max_depth=8\n",
      "[15:08:43] src/tree/updater_prune.cc:74: tree pruning end, 1 roots, 30 extra nodes, 0 pruned nodes, max_depth=8\n",
      "[15:08:43] src/tree/updater_prune.cc:74: tree pruning end, 1 roots, 170 extra nodes, 2 pruned nodes, max_depth=8\n",
      "[15:08:43] src/tree/updater_prune.cc:74: tree pruning end, 1 roots, 200 extra nodes, 4 pruned nodes, max_depth=8\n",
      "[15:08:43] src/tree/updater_prune.cc:74: tree pruning end, 1 roots, 30 extra nodes, 0 pruned nodes, max_depth=8\n",
      "[15:08:43] src/tree/updater_prune.cc:74: tree pruning end, 1 roots, 154 extra nodes, 0 pruned nodes, max_depth=8\n",
      "[15:08:43] src/tree/updater_prune.cc:74: tree pruning end, 1 roots, 30 extra nodes, 0 pruned nodes, max_depth=8\n",
      "[15:08:43] src/tree/updater_prune.cc:74: tree pruning end, 1 roots, 180 extra nodes, 4 pruned nodes, max_depth=8\n",
      "[15:08:43] src/tree/updater_prune.cc:74: tree pruning end, 1 roots, 28 extra nodes, 0 pruned nodes, max_depth=8\n",
      "[15:08:43] src/tree/updater_prune.cc:74: tree pruning end, 1 roots, 28 extra nodes, 0 pruned nodes, max_depth=8\n",
      "[15:08:43] src/tree/updater_prune.cc:74: tree pruning end, 1 roots, 30 extra nodes, 0 pruned nodes, max_depth=8\n",
      "[15:08:43] src/tree/updater_prune.cc:74: tree pruning end, 1 roots, 186 extra nodes, 2 pruned nodes, max_depth=8\n",
      "[15:08:43] src/tree/updater_prune.cc:74: tree pruning end, 1 roots, 32 extra nodes, 0 pruned nodes, max_depth=8\n",
      "[15:08:44] src/tree/updater_prune.cc:74: tree pruning end, 1 roots, 172 extra nodes, 0 pruned nodes, max_depth=8\n",
      "[15:08:44] src/tree/updater_prune.cc:74: tree pruning end, 1 roots, 30 extra nodes, 0 pruned nodes, max_depth=8\n",
      "[15:08:44] src/tree/updater_prune.cc:74: tree pruning end, 1 roots, 30 extra nodes, 0 pruned nodes, max_depth=8\n",
      "[15:08:44] src/tree/updater_prune.cc:74: tree pruning end, 1 roots, 170 extra nodes, 0 pruned nodes, max_depth=8\n",
      "[15:08:44] src/tree/updater_prune.cc:74: tree pruning end, 1 roots, 32 extra nodes, 0 pruned nodes, max_depth=8\n",
      "[15:08:44] src/tree/updater_prune.cc:74: tree pruning end, 1 roots, 30 extra nodes, 0 pruned nodes, max_depth=8\n",
      "[15:08:44] src/tree/updater_prune.cc:74: tree pruning end, 1 roots, 168 extra nodes, 0 pruned nodes, max_depth=8\n",
      "[15:08:44] src/tree/updater_prune.cc:74: tree pruning end, 1 roots, 30 extra nodes, 0 pruned nodes, max_depth=8\n",
      "[15:08:44] src/tree/updater_prune.cc:74: tree pruning end, 1 roots, 188 extra nodes, 0 pruned nodes, max_depth=8\n",
      "[15:08:44] src/tree/updater_prune.cc:74: tree pruning end, 1 roots, 30 extra nodes, 0 pruned nodes, max_depth=8\n",
      "[15:08:44] src/tree/updater_prune.cc:74: tree pruning end, 1 roots, 174 extra nodes, 2 pruned nodes, max_depth=8\n",
      "[15:08:44] src/tree/updater_prune.cc:74: tree pruning end, 1 roots, 242 extra nodes, 0 pruned nodes, max_depth=8\n",
      "[15:08:44] src/tree/updater_prune.cc:74: tree pruning end, 1 roots, 32 extra nodes, 0 pruned nodes, max_depth=8\n",
      "[15:08:44] src/tree/updater_prune.cc:74: tree pruning end, 1 roots, 134 extra nodes, 4 pruned nodes, max_depth=8\n",
      "[15:08:44] src/tree/updater_prune.cc:74: tree pruning end, 1 roots, 28 extra nodes, 0 pruned nodes, max_depth=8\n",
      "[15:08:44] src/tree/updater_prune.cc:74: tree pruning end, 1 roots, 30 extra nodes, 0 pruned nodes, max_depth=8\n",
      "[15:08:44] src/tree/updater_prune.cc:74: tree pruning end, 1 roots, 28 extra nodes, 0 pruned nodes, max_depth=8\n",
      "[15:08:44] src/tree/updater_prune.cc:74: tree pruning end, 1 roots, 30 extra nodes, 0 pruned nodes, max_depth=8\n",
      "[15:08:44] src/tree/updater_prune.cc:74: tree pruning end, 1 roots, 190 extra nodes, 2 pruned nodes, max_depth=8\n",
      "[15:08:44] src/tree/updater_prune.cc:74: tree pruning end, 1 roots, 164 extra nodes, 0 pruned nodes, max_depth=8\n",
      "[15:08:44] src/tree/updater_prune.cc:74: tree pruning end, 1 roots, 30 extra nodes, 0 pruned nodes, max_depth=8\n",
      "[15:08:44] src/tree/updater_prune.cc:74: tree pruning end, 1 roots, 150 extra nodes, 2 pruned nodes, max_depth=8\n",
      "[15:08:44] src/tree/updater_prune.cc:74: tree pruning end, 1 roots, 194 extra nodes, 2 pruned nodes, max_depth=8\n",
      "[15:08:44] src/tree/updater_prune.cc:74: tree pruning end, 1 roots, 192 extra nodes, 2 pruned nodes, max_depth=8\n",
      "[15:08:44] src/tree/updater_prune.cc:74: tree pruning end, 1 roots, 30 extra nodes, 0 pruned nodes, max_depth=8\n"
     ]
    },
    {
     "output_type": "stream",
     "name": "stdout",
     "text": [
      "[100]\ttrain-auc:0.999996\tvalid-auc:0.984196\ttrain-precision:0.998077\tvalid-precision:1\n"
     ]
    },
    {
     "output_type": "stream",
     "name": "stderr",
     "text": [
      "[15:08:44] src/tree/updater_prune.cc:74: tree pruning end, 1 roots, 178 extra nodes, 0 pruned nodes, max_depth=8\n",
      "[15:08:44] src/tree/updater_prune.cc:74: tree pruning end, 1 roots, 30 extra nodes, 0 pruned nodes, max_depth=8\n",
      "[15:08:44] src/tree/updater_prune.cc:74: tree pruning end, 1 roots, 148 extra nodes, 0 pruned nodes, max_depth=8\n",
      "[15:08:44] src/tree/updater_prune.cc:74: tree pruning end, 1 roots, 30 extra nodes, 0 pruned nodes, max_depth=8\n",
      "[15:08:44] src/tree/updater_prune.cc:74: tree pruning end, 1 roots, 32 extra nodes, 0 pruned nodes, max_depth=8\n",
      "[15:08:44] src/tree/updater_prune.cc:74: tree pruning end, 1 roots, 30 extra nodes, 0 pruned nodes, max_depth=8\n",
      "[15:08:44] src/tree/updater_prune.cc:74: tree pruning end, 1 roots, 32 extra nodes, 0 pruned nodes, max_depth=8\n",
      "[15:08:44] src/tree/updater_prune.cc:74: tree pruning end, 1 roots, 96 extra nodes, 4 pruned nodes, max_depth=8\n",
      "[15:08:44] src/tree/updater_prune.cc:74: tree pruning end, 1 roots, 30 extra nodes, 0 pruned nodes, max_depth=8\n"
     ]
    },
    {
     "output_type": "stream",
     "name": "stdout",
     "text": [
      "Stopping. Best iteration:\n",
      "[8]\ttrain-auc:0.999633\tvalid-auc:0.980098\ttrain-precision:0.996635\tvalid-precision:0.974215\n",
      "\n",
      "epoch 4 precision : 0.9528508771929824\n"
     ]
    },
    {
     "output_type": "stream",
     "name": "stderr",
     "text": [
      "[15:08:44] src/tree/updater_prune.cc:74: tree pruning end, 1 roots, 32 extra nodes, 0 pruned nodes, max_depth=8\n",
      "[15:08:44] src/tree/updater_prune.cc:74: tree pruning end, 1 roots, 146 extra nodes, 0 pruned nodes, max_depth=8\n",
      "[15:08:44] src/tree/updater_prune.cc:74: tree pruning end, 1 roots, 30 extra nodes, 0 pruned nodes, max_depth=8\n",
      "[15:08:44] src/tree/updater_prune.cc:74: tree pruning end, 1 roots, 124 extra nodes, 2 pruned nodes, max_depth=8\n"
     ]
    }
   ],
   "metadata": {}
  },
  {
   "cell_type": "code",
   "execution_count": 65,
   "source": [
    "def confusion(x, data):\n",
    "    t = x\n",
    "    all_val = data\n",
    "    P = all_val[all_val['label'] == 1]\n",
    "    TP = all_val[(all_val['label'] == 1) & (all_val['label'] == t)]\n",
    "    FP = all_val[(all_val['label'] == 0) & (all_val['label'] != t)]\n",
    "    TP = TP[feat + ['no', 'label']]\n",
    "    FP = FP[feat + ['no', 'label']]\n",
    "\n",
    "    N = all_val[all_val['label'] == 0]\n",
    "    FN = all_val[(all_val['label'] == 1) & (all_val['label'] != t)]\n",
    "    TN = all_val[(all_val['label'] == 0) & (all_val['label'] == t)]\n",
    "    TN = TN[feat + ['no', 'label']]\n",
    "    FN = FN[feat + ['no', 'label']]\n",
    "    a, b =all_val[all_val['label']==1]['no'].drop_duplicates().shape[0], all_val[all_val['label']==0]['no'].drop_duplicates().shape[0]\n",
    "    print(all_val.shape)\n",
    "    print(TP.shape[0], FP.shape[0], TN.shape[0], FN.shape[0], a, b)\n",
    "    return TP, FP, TN, FN"
   ],
   "outputs": [],
   "metadata": {}
  },
  {
   "cell_type": "code",
   "execution_count": 66,
   "source": [
    "TP, FP, TN, FN = confusion(x, all_val)\n",
    "tp_no, fp_no = TP['no'].drop_duplicates(), FP['no'].drop_duplicates()\n",
    "tn_no, fn_no = TN['no'].drop_duplicates(), FN['no'].drop_duplicates()\n",
    "tp_no.shape[0], fp_no.shape[0], tn_no.shape[0], fn_no.shape[0]"
   ],
   "outputs": [
    {
     "output_type": "stream",
     "name": "stdout",
     "text": [
      "(11244, 18)\n",
      "4019 281 5341 1603 316 570\n"
     ]
    },
    {
     "output_type": "execute_result",
     "data": {
      "text/plain": [
       "(241, 32, 547, 92)"
      ]
     },
     "metadata": {},
     "execution_count": 66
    }
   ],
   "metadata": {}
  },
  {
   "cell_type": "code",
   "execution_count": 67,
   "source": [
    "tp_ls = []\n",
    "for i in tp_no.index:\n",
    "    tp_ls.append(tp_no[i])\n",
    "fp_ls = []\n",
    "for i in fp_no.index:\n",
    "    fp_ls.append(fp_no[i])\n",
    "tn_ls = []\n",
    "for i in tn_no.index:\n",
    "    tn_ls.append(tn_no[i])\n",
    "fn_ls = []\n",
    "for i in fn_no.index:\n",
    "    fn_ls.append(fn_no[i])\n",
    "all_real_ls = []\n",
    "for i in all_real_no.index:\n",
    "    all_real_ls.append(all_real_no[i])\n",
    "val_ls = []\n",
    "for i in val_no.index:\n",
    "    val_ls.append(val_no[i])"
   ],
   "outputs": [],
   "metadata": {}
  },
  {
   "cell_type": "code",
   "execution_count": 68,
   "source": [
    "fp_tn = [i for i in fp_ls if i in tn_ls]\n",
    "len(fp_tn), len(fp_ls), len(tn_ls) "
   ],
   "outputs": [
    {
     "output_type": "execute_result",
     "data": {
      "text/plain": [
       "(9, 32, 547)"
      ]
     },
     "metadata": {},
     "execution_count": 68
    }
   ],
   "metadata": {}
  },
  {
   "cell_type": "code",
   "execution_count": 69,
   "source": [
    "# 既被分为p也被分为n\n",
    "tp_fn = [i for i in tp_ls if i in fn_ls]\n",
    "len(tp_fn), len(tp_ls), len(fn_ls),"
   ],
   "outputs": [
    {
     "output_type": "execute_result",
     "data": {
      "text/plain": [
       "(17, 241, 92)"
      ]
     },
     "metadata": {},
     "execution_count": 69
    }
   ],
   "metadata": {}
  },
  {
   "cell_type": "code",
   "execution_count": 70,
   "source": [
    "# origin_data 中的val_X数据\n",
    "val_indf = origin_data[origin_data['no'].isin(all_real_no)][['no', 'len_trace']].drop_duplicates()"
   ],
   "outputs": [],
   "metadata": {}
  },
  {
   "cell_type": "code",
   "execution_count": 71,
   "source": [
    "val_indf_tp = val_indf[(val_indf['no'].isin(tp_ls)) & (~val_indf['no'].isin(tp_fn))]\n",
    "val_indf_tp['kind'] = 'TP'\n",
    "val_indf_fn = val_indf[(val_indf['no'].isin(fn_ls)) & (~val_indf['no'].isin(tp_fn))]\n",
    "val_indf_fn['kind'] = 'FN'\n",
    "# tp fn交集\n",
    "val_indf_in = val_indf[val_indf['no'].isin(tp_fn)]\n",
    "val_indf_in['kind'] = 'IN'\n",
    "val_indf_fp = val_indf[(val_indf['no'].isin(fp_ls)) & (~val_indf['no'].isin(fp_tn))]\n",
    "val_indf_fp['kind'] = 'FP'\n",
    "val_indf_tn = val_indf[(val_indf['no'].isin(tn_ls)) & (~val_indf['no'].isin(fp_tn))]\n",
    "val_indf_tn['kind'] = 'TN'\n",
    "val_indf_in2 = val_indf[(val_indf['no'].isin(fp_tn))]\n",
    "val_indf_in2['kind'] = 'IN2'\n",
    "plt_data = pd.concat([val_indf_tp, val_indf_fn, val_indf_in, val_indf_fp, val_indf_tn, val_indf_in2])"
   ],
   "outputs": [
    {
     "output_type": "stream",
     "name": "stderr",
     "text": [
      "/tmp/ipykernel_218629/943587312.py:2: SettingWithCopyWarning: \n",
      "A value is trying to be set on a copy of a slice from a DataFrame.\n",
      "Try using .loc[row_indexer,col_indexer] = value instead\n",
      "\n",
      "See the caveats in the documentation: https://pandas.pydata.org/pandas-docs/stable/user_guide/indexing.html#returning-a-view-versus-a-copy\n",
      "  val_indf_tp['kind'] = 'TP'\n",
      "/tmp/ipykernel_218629/943587312.py:4: SettingWithCopyWarning: \n",
      "A value is trying to be set on a copy of a slice from a DataFrame.\n",
      "Try using .loc[row_indexer,col_indexer] = value instead\n",
      "\n",
      "See the caveats in the documentation: https://pandas.pydata.org/pandas-docs/stable/user_guide/indexing.html#returning-a-view-versus-a-copy\n",
      "  val_indf_fn['kind'] = 'FN'\n",
      "/tmp/ipykernel_218629/943587312.py:7: SettingWithCopyWarning: \n",
      "A value is trying to be set on a copy of a slice from a DataFrame.\n",
      "Try using .loc[row_indexer,col_indexer] = value instead\n",
      "\n",
      "See the caveats in the documentation: https://pandas.pydata.org/pandas-docs/stable/user_guide/indexing.html#returning-a-view-versus-a-copy\n",
      "  val_indf_in['kind'] = 'IN'\n",
      "/tmp/ipykernel_218629/943587312.py:9: SettingWithCopyWarning: \n",
      "A value is trying to be set on a copy of a slice from a DataFrame.\n",
      "Try using .loc[row_indexer,col_indexer] = value instead\n",
      "\n",
      "See the caveats in the documentation: https://pandas.pydata.org/pandas-docs/stable/user_guide/indexing.html#returning-a-view-versus-a-copy\n",
      "  val_indf_fp['kind'] = 'FP'\n",
      "/tmp/ipykernel_218629/943587312.py:11: SettingWithCopyWarning: \n",
      "A value is trying to be set on a copy of a slice from a DataFrame.\n",
      "Try using .loc[row_indexer,col_indexer] = value instead\n",
      "\n",
      "See the caveats in the documentation: https://pandas.pydata.org/pandas-docs/stable/user_guide/indexing.html#returning-a-view-versus-a-copy\n",
      "  val_indf_tn['kind'] = 'TN'\n",
      "/tmp/ipykernel_218629/943587312.py:13: SettingWithCopyWarning: \n",
      "A value is trying to be set on a copy of a slice from a DataFrame.\n",
      "Try using .loc[row_indexer,col_indexer] = value instead\n",
      "\n",
      "See the caveats in the documentation: https://pandas.pydata.org/pandas-docs/stable/user_guide/indexing.html#returning-a-view-versus-a-copy\n",
      "  val_indf_in2['kind'] = 'IN2'\n"
     ]
    }
   ],
   "metadata": {}
  },
  {
   "cell_type": "code",
   "execution_count": 72,
   "source": [
    "from functools import cmp_to_key\n",
    "def cmp(a, b):\n",
    "    a = a.split('_')\n",
    "    b = b.split('_')\n",
    "    a1, a2 = int(a[0]), int(a[1])\n",
    "    b1, b2 = int(b[0]), int(b[1])\n",
    "    return a1-b1 if a2 == b2 else a2-b2\n",
    "all_real_no = sorted(all_real_no, key=cmp_to_key(cmp))"
   ],
   "outputs": [],
   "metadata": {}
  },
  {
   "cell_type": "code",
   "execution_count": 73,
   "source": [
    "val_indf_in.shape[0], val_indf_fn.shape[0], val_indf_tp.shape[0]"
   ],
   "outputs": [
    {
     "output_type": "execute_result",
     "data": {
      "text/plain": [
       "(17, 75, 224)"
      ]
     },
     "metadata": {},
     "execution_count": 73
    }
   ],
   "metadata": {}
  },
  {
   "cell_type": "code",
   "execution_count": 74,
   "source": [
    "plt_data['a1'] = plt_data['no'].apply(lambda x: int(x.split('_')[0]))\n",
    "plt_data['a2'] = plt_data['no'].apply(lambda x: int(x.split('_')[1]))\n",
    "plt_data = plt_data.sort_values(by=['a2', 'a1'],ascending=[True, True])\n",
    "plt_data.head()"
   ],
   "outputs": [
    {
     "output_type": "execute_result",
     "data": {
      "text/html": [
       "<div>\n",
       "<style scoped>\n",
       "    .dataframe tbody tr th:only-of-type {\n",
       "        vertical-align: middle;\n",
       "    }\n",
       "\n",
       "    .dataframe tbody tr th {\n",
       "        vertical-align: top;\n",
       "    }\n",
       "\n",
       "    .dataframe thead th {\n",
       "        text-align: right;\n",
       "    }\n",
       "</style>\n",
       "<table border=\"1\" class=\"dataframe\">\n",
       "  <thead>\n",
       "    <tr style=\"text-align: right;\">\n",
       "      <th></th>\n",
       "      <th>no</th>\n",
       "      <th>len_trace</th>\n",
       "      <th>kind</th>\n",
       "      <th>a1</th>\n",
       "      <th>a2</th>\n",
       "    </tr>\n",
       "  </thead>\n",
       "  <tbody>\n",
       "    <tr>\n",
       "      <th>1663</th>\n",
       "      <td>35_02_-1</td>\n",
       "      <td>77</td>\n",
       "      <td>TN</td>\n",
       "      <td>35</td>\n",
       "      <td>2</td>\n",
       "    </tr>\n",
       "    <tr>\n",
       "      <th>3054</th>\n",
       "      <td>55_02_-1</td>\n",
       "      <td>31</td>\n",
       "      <td>FN</td>\n",
       "      <td>55</td>\n",
       "      <td>2</td>\n",
       "    </tr>\n",
       "    <tr>\n",
       "      <th>4791</th>\n",
       "      <td>115_02_-1</td>\n",
       "      <td>138</td>\n",
       "      <td>TN</td>\n",
       "      <td>115</td>\n",
       "      <td>2</td>\n",
       "    </tr>\n",
       "    <tr>\n",
       "      <th>5715</th>\n",
       "      <td>156_02_-1</td>\n",
       "      <td>130</td>\n",
       "      <td>TN</td>\n",
       "      <td>156</td>\n",
       "      <td>2</td>\n",
       "    </tr>\n",
       "    <tr>\n",
       "      <th>5872</th>\n",
       "      <td>159_02_-1</td>\n",
       "      <td>29</td>\n",
       "      <td>TN</td>\n",
       "      <td>159</td>\n",
       "      <td>2</td>\n",
       "    </tr>\n",
       "  </tbody>\n",
       "</table>\n",
       "</div>"
      ],
      "text/plain": [
       "             no  len_trace kind   a1  a2\n",
       "1663   35_02_-1         77   TN   35   2\n",
       "3054   55_02_-1         31   FN   55   2\n",
       "4791  115_02_-1        138   TN  115   2\n",
       "5715  156_02_-1        130   TN  156   2\n",
       "5872  159_02_-1         29   TN  159   2"
      ]
     },
     "metadata": {},
     "execution_count": 74
    }
   ],
   "metadata": {}
  },
  {
   "cell_type": "code",
   "execution_count": 75,
   "source": [
    "plt_data.head()"
   ],
   "outputs": [
    {
     "output_type": "execute_result",
     "data": {
      "text/html": [
       "<div>\n",
       "<style scoped>\n",
       "    .dataframe tbody tr th:only-of-type {\n",
       "        vertical-align: middle;\n",
       "    }\n",
       "\n",
       "    .dataframe tbody tr th {\n",
       "        vertical-align: top;\n",
       "    }\n",
       "\n",
       "    .dataframe thead th {\n",
       "        text-align: right;\n",
       "    }\n",
       "</style>\n",
       "<table border=\"1\" class=\"dataframe\">\n",
       "  <thead>\n",
       "    <tr style=\"text-align: right;\">\n",
       "      <th></th>\n",
       "      <th>no</th>\n",
       "      <th>len_trace</th>\n",
       "      <th>kind</th>\n",
       "      <th>a1</th>\n",
       "      <th>a2</th>\n",
       "    </tr>\n",
       "  </thead>\n",
       "  <tbody>\n",
       "    <tr>\n",
       "      <th>1663</th>\n",
       "      <td>35_02_-1</td>\n",
       "      <td>77</td>\n",
       "      <td>TN</td>\n",
       "      <td>35</td>\n",
       "      <td>2</td>\n",
       "    </tr>\n",
       "    <tr>\n",
       "      <th>3054</th>\n",
       "      <td>55_02_-1</td>\n",
       "      <td>31</td>\n",
       "      <td>FN</td>\n",
       "      <td>55</td>\n",
       "      <td>2</td>\n",
       "    </tr>\n",
       "    <tr>\n",
       "      <th>4791</th>\n",
       "      <td>115_02_-1</td>\n",
       "      <td>138</td>\n",
       "      <td>TN</td>\n",
       "      <td>115</td>\n",
       "      <td>2</td>\n",
       "    </tr>\n",
       "    <tr>\n",
       "      <th>5715</th>\n",
       "      <td>156_02_-1</td>\n",
       "      <td>130</td>\n",
       "      <td>TN</td>\n",
       "      <td>156</td>\n",
       "      <td>2</td>\n",
       "    </tr>\n",
       "    <tr>\n",
       "      <th>5872</th>\n",
       "      <td>159_02_-1</td>\n",
       "      <td>29</td>\n",
       "      <td>TN</td>\n",
       "      <td>159</td>\n",
       "      <td>2</td>\n",
       "    </tr>\n",
       "  </tbody>\n",
       "</table>\n",
       "</div>"
      ],
      "text/plain": [
       "             no  len_trace kind   a1  a2\n",
       "1663   35_02_-1         77   TN   35   2\n",
       "3054   55_02_-1         31   FN   55   2\n",
       "4791  115_02_-1        138   TN  115   2\n",
       "5715  156_02_-1        130   TN  156   2\n",
       "5872  159_02_-1         29   TN  159   2"
      ]
     },
     "metadata": {},
     "execution_count": 75
    }
   ],
   "metadata": {}
  },
  {
   "cell_type": "code",
   "execution_count": 76,
   "source": [
    "plt.figure(figsize=(150, 25))\n",
    "ax = sns.barplot(x=plt_data['no'], y=plt_data[plt_data['kind'] == 'IN']['len_trace'], color='red')\n",
    "ax = sns.barplot(x=plt_data['no'], y=plt_data[plt_data['kind'] == 'TP']['len_trace'], color='green')\n",
    "ax = sns.barplot(x=plt_data['no'], y=plt_data[plt_data['kind'] == 'FN']['len_trace'], color='blue')\n",
    "# for bar in ax.patches:\n",
    "#     x = bar.get_x()\n",
    "#     width = bar.get_width()\n",
    "#     centre = x + width/2\n",
    "#     bar.set_x(centre - 0.4)\n",
    "#     bar.set_width(0.8)\n",
    "# plt.gca().set_xlim(-1,32) \n",
    "plt.show()"
   ],
   "outputs": [
    {
     "output_type": "display_data",
     "data": {
      "image/png": "[encoded data removed]",
      "text/plain": [
       "<Figure size 10800x1800 with 1 Axes>"
      ]
     },
     "metadata": {
      "needs_background": "light"
     }
    }
   ],
   "metadata": {}
  },
  {
   "cell_type": "code",
   "execution_count": 77,
   "source": [
    "freq = plt_data['kind'].value_counts()\n",
    "plt.pie(freq, labels=freq.index, explode=(0.05, 0, 0), autopct='%.1f%%',\n",
    "        colors=['#81ecec','#ff7675','#6c5ce7'], startangle=90, counterclock=False)\n",
    "plt.show()\n"
   ],
   "outputs": [
    {
     "output_type": "error",
     "ename": "ValueError",
     "evalue": "'explode' must be of length 'x'",
     "traceback": [
      "\u001b[0;31m---------------------------------------------------------------------------\u001b[0m",
      "\u001b[0;31mValueError\u001b[0m                                Traceback (most recent call last)",
      "\u001b[0;32m/tmp/ipykernel_218629/726335013.py\u001b[0m in \u001b[0;36m<module>\u001b[0;34m\u001b[0m\n\u001b[1;32m      1\u001b[0m \u001b[0mfreq\u001b[0m \u001b[0;34m=\u001b[0m \u001b[0mplt_data\u001b[0m\u001b[0;34m[\u001b[0m\u001b[0;34m'kind'\u001b[0m\u001b[0;34m]\u001b[0m\u001b[0;34m.\u001b[0m\u001b[0mvalue_counts\u001b[0m\u001b[0;34m(\u001b[0m\u001b[0;34m)\u001b[0m\u001b[0;34m\u001b[0m\u001b[0;34m\u001b[0m\u001b[0m\n\u001b[0;32m----> 2\u001b[0;31m plt.pie(freq, labels=freq.index, explode=(0.05, 0, 0), autopct='%.1f%%',\n\u001b[0m\u001b[1;32m      3\u001b[0m         colors=['#81ecec','#ff7675','#6c5ce7'], startangle=90, counterclock=False)\n\u001b[1;32m      4\u001b[0m \u001b[0mplt\u001b[0m\u001b[0;34m.\u001b[0m\u001b[0mshow\u001b[0m\u001b[0;34m(\u001b[0m\u001b[0;34m)\u001b[0m\u001b[0;34m\u001b[0m\u001b[0;34m\u001b[0m\u001b[0m\n",
      "\u001b[0;32m~/.conda/envs/rl/lib/python3.8/site-packages/matplotlib/pyplot.py\u001b[0m in \u001b[0;36mpie\u001b[0;34m(x, explode, labels, colors, autopct, pctdistance, shadow, labeldistance, startangle, radius, counterclock, wedgeprops, textprops, center, frame, rotatelabels, normalize, data)\u001b[0m\n\u001b[1;32m   3004\u001b[0m         \u001b[0mtextprops\u001b[0m\u001b[0;34m=\u001b[0m\u001b[0;32mNone\u001b[0m\u001b[0;34m,\u001b[0m \u001b[0mcenter\u001b[0m\u001b[0;34m=\u001b[0m\u001b[0;34m(\u001b[0m\u001b[0;36m0\u001b[0m\u001b[0;34m,\u001b[0m \u001b[0;36m0\u001b[0m\u001b[0;34m)\u001b[0m\u001b[0;34m,\u001b[0m \u001b[0mframe\u001b[0m\u001b[0;34m=\u001b[0m\u001b[0;32mFalse\u001b[0m\u001b[0;34m,\u001b[0m\u001b[0;34m\u001b[0m\u001b[0;34m\u001b[0m\u001b[0m\n\u001b[1;32m   3005\u001b[0m         rotatelabels=False, *, normalize=None, data=None):\n\u001b[0;32m-> 3006\u001b[0;31m     return gca().pie(\n\u001b[0m\u001b[1;32m   3007\u001b[0m         \u001b[0mx\u001b[0m\u001b[0;34m,\u001b[0m \u001b[0mexplode\u001b[0m\u001b[0;34m=\u001b[0m\u001b[0mexplode\u001b[0m\u001b[0;34m,\u001b[0m \u001b[0mlabels\u001b[0m\u001b[0;34m=\u001b[0m\u001b[0mlabels\u001b[0m\u001b[0;34m,\u001b[0m \u001b[0mcolors\u001b[0m\u001b[0;34m=\u001b[0m\u001b[0mcolors\u001b[0m\u001b[0;34m,\u001b[0m\u001b[0;34m\u001b[0m\u001b[0;34m\u001b[0m\u001b[0m\n\u001b[1;32m   3008\u001b[0m         \u001b[0mautopct\u001b[0m\u001b[0;34m=\u001b[0m\u001b[0mautopct\u001b[0m\u001b[0;34m,\u001b[0m \u001b[0mpctdistance\u001b[0m\u001b[0;34m=\u001b[0m\u001b[0mpctdistance\u001b[0m\u001b[0;34m,\u001b[0m \u001b[0mshadow\u001b[0m\u001b[0;34m=\u001b[0m\u001b[0mshadow\u001b[0m\u001b[0;34m,\u001b[0m\u001b[0;34m\u001b[0m\u001b[0;34m\u001b[0m\u001b[0m\n",
      "\u001b[0;32m~/.conda/envs/rl/lib/python3.8/site-packages/matplotlib/__init__.py\u001b[0m in \u001b[0;36minner\u001b[0;34m(ax, data, *args, **kwargs)\u001b[0m\n\u001b[1;32m   1359\u001b[0m     \u001b[0;32mdef\u001b[0m \u001b[0minner\u001b[0m\u001b[0;34m(\u001b[0m\u001b[0max\u001b[0m\u001b[0;34m,\u001b[0m \u001b[0;34m*\u001b[0m\u001b[0margs\u001b[0m\u001b[0;34m,\u001b[0m \u001b[0mdata\u001b[0m\u001b[0;34m=\u001b[0m\u001b[0;32mNone\u001b[0m\u001b[0;34m,\u001b[0m \u001b[0;34m**\u001b[0m\u001b[0mkwargs\u001b[0m\u001b[0;34m)\u001b[0m\u001b[0;34m:\u001b[0m\u001b[0;34m\u001b[0m\u001b[0;34m\u001b[0m\u001b[0m\n\u001b[1;32m   1360\u001b[0m         \u001b[0;32mif\u001b[0m \u001b[0mdata\u001b[0m \u001b[0;32mis\u001b[0m \u001b[0;32mNone\u001b[0m\u001b[0;34m:\u001b[0m\u001b[0;34m\u001b[0m\u001b[0;34m\u001b[0m\u001b[0m\n\u001b[0;32m-> 1361\u001b[0;31m             \u001b[0;32mreturn\u001b[0m \u001b[0mfunc\u001b[0m\u001b[0;34m(\u001b[0m\u001b[0max\u001b[0m\u001b[0;34m,\u001b[0m \u001b[0;34m*\u001b[0m\u001b[0mmap\u001b[0m\u001b[0;34m(\u001b[0m\u001b[0msanitize_sequence\u001b[0m\u001b[0;34m,\u001b[0m \u001b[0margs\u001b[0m\u001b[0;34m)\u001b[0m\u001b[0;34m,\u001b[0m \u001b[0;34m**\u001b[0m\u001b[0mkwargs\u001b[0m\u001b[0;34m)\u001b[0m\u001b[0;34m\u001b[0m\u001b[0;34m\u001b[0m\u001b[0m\n\u001b[0m\u001b[1;32m   1362\u001b[0m \u001b[0;34m\u001b[0m\u001b[0m\n\u001b[1;32m   1363\u001b[0m         \u001b[0mbound\u001b[0m \u001b[0;34m=\u001b[0m \u001b[0mnew_sig\u001b[0m\u001b[0;34m.\u001b[0m\u001b[0mbind\u001b[0m\u001b[0;34m(\u001b[0m\u001b[0max\u001b[0m\u001b[0;34m,\u001b[0m \u001b[0;34m*\u001b[0m\u001b[0margs\u001b[0m\u001b[0;34m,\u001b[0m \u001b[0;34m**\u001b[0m\u001b[0mkwargs\u001b[0m\u001b[0;34m)\u001b[0m\u001b[0;34m\u001b[0m\u001b[0;34m\u001b[0m\u001b[0m\n",
      "\u001b[0;32m~/.conda/envs/rl/lib/python3.8/site-packages/matplotlib/axes/_axes.py\u001b[0m in \u001b[0;36mpie\u001b[0;34m(self, x, explode, labels, colors, autopct, pctdistance, shadow, labeldistance, startangle, radius, counterclock, wedgeprops, textprops, center, frame, rotatelabels, normalize)\u001b[0m\n\u001b[1;32m   3059\u001b[0m             \u001b[0;32mraise\u001b[0m \u001b[0mValueError\u001b[0m\u001b[0;34m(\u001b[0m\u001b[0;34m\"'label' must be of length 'x'\"\u001b[0m\u001b[0;34m)\u001b[0m\u001b[0;34m\u001b[0m\u001b[0;34m\u001b[0m\u001b[0m\n\u001b[1;32m   3060\u001b[0m         \u001b[0;32mif\u001b[0m \u001b[0mlen\u001b[0m\u001b[0;34m(\u001b[0m\u001b[0mx\u001b[0m\u001b[0;34m)\u001b[0m \u001b[0;34m!=\u001b[0m \u001b[0mlen\u001b[0m\u001b[0;34m(\u001b[0m\u001b[0mexplode\u001b[0m\u001b[0;34m)\u001b[0m\u001b[0;34m:\u001b[0m\u001b[0;34m\u001b[0m\u001b[0;34m\u001b[0m\u001b[0m\n\u001b[0;32m-> 3061\u001b[0;31m             \u001b[0;32mraise\u001b[0m \u001b[0mValueError\u001b[0m\u001b[0;34m(\u001b[0m\u001b[0;34m\"'explode' must be of length 'x'\"\u001b[0m\u001b[0;34m)\u001b[0m\u001b[0;34m\u001b[0m\u001b[0;34m\u001b[0m\u001b[0m\n\u001b[0m\u001b[1;32m   3062\u001b[0m         \u001b[0;32mif\u001b[0m \u001b[0mcolors\u001b[0m \u001b[0;32mis\u001b[0m \u001b[0;32mNone\u001b[0m\u001b[0;34m:\u001b[0m\u001b[0;34m\u001b[0m\u001b[0;34m\u001b[0m\u001b[0m\n\u001b[1;32m   3063\u001b[0m             \u001b[0mget_next_color\u001b[0m \u001b[0;34m=\u001b[0m \u001b[0mself\u001b[0m\u001b[0;34m.\u001b[0m\u001b[0m_get_patches_for_fill\u001b[0m\u001b[0;34m.\u001b[0m\u001b[0mget_next_color\u001b[0m\u001b[0;34m\u001b[0m\u001b[0;34m\u001b[0m\u001b[0m\n",
      "\u001b[0;31mValueError\u001b[0m: 'explode' must be of length 'x'"
     ]
    },
    {
     "output_type": "display_data",
     "data": {
      "image/png": "[encoded data removed]",
      "text/plain": [
       "<Figure size 432x288 with 1 Axes>"
      ]
     },
     "metadata": {
      "needs_background": "light"
     }
    }
   ],
   "metadata": {}
  },
  {
   "cell_type": "code",
   "execution_count": null,
   "source": [
    "plt_data.to_csv('plt_data.csv', index=False)"
   ],
   "outputs": [],
   "metadata": {}
  },
  {
   "cell_type": "code",
   "execution_count": null,
   "source": [
    "plt_data.head()"
   ],
   "outputs": [
    {
     "output_type": "execute_result",
     "data": {
      "text/html": [
       "<div>\n",
       "<style scoped>\n",
       "    .dataframe tbody tr th:only-of-type {\n",
       "        vertical-align: middle;\n",
       "    }\n",
       "\n",
       "    .dataframe tbody tr th {\n",
       "        vertical-align: top;\n",
       "    }\n",
       "\n",
       "    .dataframe thead th {\n",
       "        text-align: right;\n",
       "    }\n",
       "</style>\n",
       "<table border=\"1\" class=\"dataframe\">\n",
       "  <thead>\n",
       "    <tr style=\"text-align: right;\">\n",
       "      <th></th>\n",
       "      <th>no</th>\n",
       "      <th>len_trace</th>\n",
       "      <th>kind</th>\n",
       "    </tr>\n",
       "  </thead>\n",
       "  <tbody>\n",
       "    <tr>\n",
       "      <th>3054</th>\n",
       "      <td>55_02_-1</td>\n",
       "      <td>31</td>\n",
       "      <td>TP</td>\n",
       "    </tr>\n",
       "    <tr>\n",
       "      <th>7142</th>\n",
       "      <td>272_02_-1</td>\n",
       "      <td>37</td>\n",
       "      <td>TP</td>\n",
       "    </tr>\n",
       "    <tr>\n",
       "      <th>34914</th>\n",
       "      <td>44_06_-1</td>\n",
       "      <td>71</td>\n",
       "      <td>TP</td>\n",
       "    </tr>\n",
       "    <tr>\n",
       "      <th>91497</th>\n",
       "      <td>1017_07_-1</td>\n",
       "      <td>46</td>\n",
       "      <td>TP</td>\n",
       "    </tr>\n",
       "    <tr>\n",
       "      <th>91837</th>\n",
       "      <td>1029_07_-1</td>\n",
       "      <td>48</td>\n",
       "      <td>TP</td>\n",
       "    </tr>\n",
       "  </tbody>\n",
       "</table>\n",
       "</div>"
      ],
      "text/plain": [
       "               no  len_trace kind\n",
       "3054     55_02_-1         31   TP\n",
       "7142    272_02_-1         37   TP\n",
       "34914    44_06_-1         71   TP\n",
       "91497  1017_07_-1         46   TP\n",
       "91837  1029_07_-1         48   TP"
      ]
     },
     "metadata": {},
     "execution_count": 43
    }
   ],
   "metadata": {}
  },
  {
   "cell_type": "code",
   "execution_count": null,
   "source": [
    "len([i for i in tp_ls if i not in no]), len(tp_ls), len(no)"
   ],
   "outputs": [
    {
     "output_type": "execute_result",
     "data": {
      "text/plain": [
       "(48, 237, 472)"
      ]
     },
     "metadata": {},
     "execution_count": 85
    }
   ],
   "metadata": {}
  },
  {
   "cell_type": "code",
   "execution_count": null,
   "source": [
    "len([i for i in tp_ls if i not in all_real_ls]), len(tp_ls), len(all_real_ls)"
   ],
   "outputs": [
    {
     "output_type": "execute_result",
     "data": {
      "text/plain": [
       "(0, 237, 760)"
      ]
     },
     "metadata": {},
     "execution_count": 86
    }
   ],
   "metadata": {}
  },
  {
   "cell_type": "code",
   "execution_count": null,
   "source": [
    "len([i for i in fp_ls if i not in all_real_ls]), len(fp_ls), len(all_real_ls)"
   ],
   "outputs": [
    {
     "output_type": "execute_result",
     "data": {
      "text/plain": [
       "(0, 295, 760)"
      ]
     },
     "metadata": {},
     "execution_count": 87
    }
   ],
   "metadata": {}
  },
  {
   "cell_type": "code",
   "execution_count": null,
   "source": [
    "200/(217)"
   ],
   "outputs": [
    {
     "output_type": "execute_result",
     "data": {
      "text/plain": [
       "0.9216589861751152"
      ]
     },
     "metadata": {},
     "execution_count": 88
    }
   ],
   "metadata": {}
  }
 ],
 "metadata": {
  "orig_nbformat": 4,
  "language_info": {
   "name": "python",
   "version": "3.8.8",
   "mimetype": "text/x-python",
   "codemirror_mode": {
    "name": "ipython",
    "version": 3
   },
   "pygments_lexer": "ipython3",
   "nbconvert_exporter": "python",
   "file_extension": ".py"
  },
  "kernelspec": {
   "name": "python3",
   "display_name": "Python 3.8.8 64-bit ('rl': conda)"
  },
  "interpreter": {
   "hash": "8bc2d6c57ea69934086bb7edff828de01749c0241e83f386100f7cd5df1c2969"
  }
 },
 "nbformat": 4,
 "nbformat_minor": 2
}