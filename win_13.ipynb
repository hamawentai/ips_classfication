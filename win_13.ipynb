{
 "cells": [
  {
   "cell_type": "code",
   "execution_count": 36,
   "source": [
    "import numpy as np\n",
    "import pandas as pd\n",
    "import os\n",
    "import matplotlib.pyplot as plt\n",
    "import seaborn as sns\n",
    "\n",
    "# sklearn\n",
    "from sklearn.preprocessing import StandardScaler\n",
    "from sklearn.pipeline import Pipeline\n",
    "from sklearn.svm import SVC,  LinearSVC\n",
    "from sklearn.model_selection import KFold, StratifiedKFold\n",
    "from sklearn.decomposition import PCA\n",
    "import lightgbm as lgb\n",
    "from sklearn.metrics import cohen_kappa_score, confusion_matrix, classification_report, precision_score\n",
    "from imblearn.under_sampling import RandomUnderSampler\n",
    "from collections import Counter\n",
    "from sklearn.datasets import make_classification\n",
    "import xgboost as xgb\n",
    "from classification_model import xgb_classification, lgb_classification_2, svm_classification_2, calculate_precision\n",
    "rus = RandomUnderSampler(random_state=2021)"
   ],
   "outputs": [],
   "metadata": {}
  },
  {
   "cell_type": "code",
   "execution_count": 2,
   "source": [
    "def train_plt(score):\n",
    "    plt.barh(y=range(1, len(score)), width=score)\n",
    "    plt.ylabel('epoch',fontsize=14)\n",
    "    plt.xlabel('precision',fontsize=14)\n",
    "    return np.mean(score), np.std(score)"
   ],
   "outputs": [],
   "metadata": {}
  },
  {
   "cell_type": "code",
   "execution_count": 3,
   "source": [
    "def get_real_no():\n",
    "    no = []\n",
    "    with open('hands_no.txt') as f:\n",
    "        for i in f.readlines():\n",
    "            lines = i.strip().split(' ')\n",
    "            win_no = lines[-1]\n",
    "            for j in lines[:-1]:\n",
    "                no.append('{}_{}_-1'.format(j, win_no))\n",
    "    return no\n",
    "no = get_real_no()\n",
    "\n"
   ],
   "outputs": [],
   "metadata": {}
  },
  {
   "cell_type": "code",
   "execution_count": 37,
   "source": [
    "df = pd.read_csv('res/final_23.csv')"
   ],
   "outputs": [],
   "metadata": {}
  },
  {
   "cell_type": "code",
   "execution_count": 5,
   "source": [
    "origin_data = pd.read_csv('../res/res.csv')\n",
    "origin_data = origin_data[origin_data.columns[1:]]\n",
    "origin_data['len_trace'] = origin_data['end'] - origin_data['start'] + 1\n",
    "origin_data.head()"
   ],
   "outputs": [
    {
     "output_type": "execute_result",
     "data": {
      "text/html": [
       "<div>\n",
       "<style scoped>\n",
       "    .dataframe tbody tr th:only-of-type {\n",
       "        vertical-align: middle;\n",
       "    }\n",
       "\n",
       "    .dataframe tbody tr th {\n",
       "        vertical-align: top;\n",
       "    }\n",
       "\n",
       "    .dataframe thead th {\n",
       "        text-align: right;\n",
       "    }\n",
       "</style>\n",
       "<table border=\"1\" class=\"dataframe\">\n",
       "  <thead>\n",
       "    <tr style=\"text-align: right;\">\n",
       "      <th></th>\n",
       "      <th>no</th>\n",
       "      <th>win_no</th>\n",
       "      <th>start</th>\n",
       "      <th>end</th>\n",
       "      <th>parent</th>\n",
       "      <th>frame_no</th>\n",
       "      <th>axis_x</th>\n",
       "      <th>axis_y</th>\n",
       "      <th>girth</th>\n",
       "      <th>girth_full</th>\n",
       "      <th>...</th>\n",
       "      <th>hu_m5</th>\n",
       "      <th>hu_m6</th>\n",
       "      <th>contrast</th>\n",
       "      <th>dissimilarity</th>\n",
       "      <th>homogeneity</th>\n",
       "      <th>energy</th>\n",
       "      <th>correlation</th>\n",
       "      <th>ASM</th>\n",
       "      <th>label</th>\n",
       "      <th>len_trace</th>\n",
       "    </tr>\n",
       "  </thead>\n",
       "  <tbody>\n",
       "    <tr>\n",
       "      <th>0</th>\n",
       "      <td>1_02_-1</td>\n",
       "      <td>2</td>\n",
       "      <td>0</td>\n",
       "      <td>45</td>\n",
       "      <td>0_02_-1</td>\n",
       "      <td>0</td>\n",
       "      <td>664.750061</td>\n",
       "      <td>29.749968</td>\n",
       "      <td>161.865004</td>\n",
       "      <td>163.865004</td>\n",
       "      <td>...</td>\n",
       "      <td>0.000523</td>\n",
       "      <td>1.453520e-09</td>\n",
       "      <td>3.234091</td>\n",
       "      <td>0.042158</td>\n",
       "      <td>0.998660</td>\n",
       "      <td>0.998582</td>\n",
       "      <td>0.820172</td>\n",
       "      <td>0.997166</td>\n",
       "      <td>0</td>\n",
       "      <td>46</td>\n",
       "    </tr>\n",
       "    <tr>\n",
       "      <th>1</th>\n",
       "      <td>1_02_-1</td>\n",
       "      <td>2</td>\n",
       "      <td>0</td>\n",
       "      <td>45</td>\n",
       "      <td>0_02_-1</td>\n",
       "      <td>1</td>\n",
       "      <td>662.500061</td>\n",
       "      <td>28.499977</td>\n",
       "      <td>148.965510</td>\n",
       "      <td>153.965510</td>\n",
       "      <td>...</td>\n",
       "      <td>0.000153</td>\n",
       "      <td>3.327892e-09</td>\n",
       "      <td>2.791609</td>\n",
       "      <td>0.038952</td>\n",
       "      <td>0.998690</td>\n",
       "      <td>0.998602</td>\n",
       "      <td>0.816545</td>\n",
       "      <td>0.997205</td>\n",
       "      <td>0</td>\n",
       "      <td>46</td>\n",
       "    </tr>\n",
       "    <tr>\n",
       "      <th>2</th>\n",
       "      <td>1_02_-1</td>\n",
       "      <td>2</td>\n",
       "      <td>0</td>\n",
       "      <td>45</td>\n",
       "      <td>0_02_-1</td>\n",
       "      <td>2</td>\n",
       "      <td>662.073181</td>\n",
       "      <td>28.841480</td>\n",
       "      <td>148.722870</td>\n",
       "      <td>153.722870</td>\n",
       "      <td>...</td>\n",
       "      <td>0.000288</td>\n",
       "      <td>1.791276e-08</td>\n",
       "      <td>2.878099</td>\n",
       "      <td>0.038858</td>\n",
       "      <td>0.998683</td>\n",
       "      <td>0.998595</td>\n",
       "      <td>0.814135</td>\n",
       "      <td>0.997191</td>\n",
       "      <td>0</td>\n",
       "      <td>46</td>\n",
       "    </tr>\n",
       "    <tr>\n",
       "      <th>3</th>\n",
       "      <td>1_02_-1</td>\n",
       "      <td>2</td>\n",
       "      <td>0</td>\n",
       "      <td>45</td>\n",
       "      <td>0_02_-1</td>\n",
       "      <td>3</td>\n",
       "      <td>661.451233</td>\n",
       "      <td>28.439020</td>\n",
       "      <td>145.308655</td>\n",
       "      <td>150.308655</td>\n",
       "      <td>...</td>\n",
       "      <td>0.000078</td>\n",
       "      <td>1.473819e-08</td>\n",
       "      <td>2.831595</td>\n",
       "      <td>0.039124</td>\n",
       "      <td>0.998702</td>\n",
       "      <td>0.998612</td>\n",
       "      <td>0.817924</td>\n",
       "      <td>0.997227</td>\n",
       "      <td>0</td>\n",
       "      <td>46</td>\n",
       "    </tr>\n",
       "    <tr>\n",
       "      <th>4</th>\n",
       "      <td>1_02_-1</td>\n",
       "      <td>2</td>\n",
       "      <td>0</td>\n",
       "      <td>45</td>\n",
       "      <td>0_02_-1</td>\n",
       "      <td>4</td>\n",
       "      <td>661.500061</td>\n",
       "      <td>27.999968</td>\n",
       "      <td>146.308657</td>\n",
       "      <td>150.308657</td>\n",
       "      <td>...</td>\n",
       "      <td>0.000239</td>\n",
       "      <td>2.107708e-08</td>\n",
       "      <td>2.712877</td>\n",
       "      <td>0.040664</td>\n",
       "      <td>0.998603</td>\n",
       "      <td>0.998525</td>\n",
       "      <td>0.813886</td>\n",
       "      <td>0.997052</td>\n",
       "      <td>0</td>\n",
       "      <td>46</td>\n",
       "    </tr>\n",
       "  </tbody>\n",
       "</table>\n",
       "<p>5 rows × 40 columns</p>\n",
       "</div>"
      ],
      "text/plain": [
       "        no  win_no  start  end   parent  frame_no      axis_x     axis_y  \\\n",
       "0  1_02_-1       2      0   45  0_02_-1         0  664.750061  29.749968   \n",
       "1  1_02_-1       2      0   45  0_02_-1         1  662.500061  28.499977   \n",
       "2  1_02_-1       2      0   45  0_02_-1         2  662.073181  28.841480   \n",
       "3  1_02_-1       2      0   45  0_02_-1         3  661.451233  28.439020   \n",
       "4  1_02_-1       2      0   45  0_02_-1         4  661.500061  27.999968   \n",
       "\n",
       "        girth  girth_full  ...     hu_m5         hu_m6  contrast  \\\n",
       "0  161.865004  163.865004  ...  0.000523  1.453520e-09  3.234091   \n",
       "1  148.965510  153.965510  ...  0.000153  3.327892e-09  2.791609   \n",
       "2  148.722870  153.722870  ...  0.000288  1.791276e-08  2.878099   \n",
       "3  145.308655  150.308655  ...  0.000078  1.473819e-08  2.831595   \n",
       "4  146.308657  150.308657  ...  0.000239  2.107708e-08  2.712877   \n",
       "\n",
       "   dissimilarity  homogeneity    energy  correlation       ASM  label  \\\n",
       "0       0.042158     0.998660  0.998582     0.820172  0.997166      0   \n",
       "1       0.038952     0.998690  0.998602     0.816545  0.997205      0   \n",
       "2       0.038858     0.998683  0.998595     0.814135  0.997191      0   \n",
       "3       0.039124     0.998702  0.998612     0.817924  0.997227      0   \n",
       "4       0.040664     0.998603  0.998525     0.813886  0.997052      0   \n",
       "\n",
       "   len_trace  \n",
       "0         46  \n",
       "1         46  \n",
       "2         46  \n",
       "3         46  \n",
       "4         46  \n",
       "\n",
       "[5 rows x 40 columns]"
      ]
     },
     "metadata": {},
     "execution_count": 5
    }
   ],
   "metadata": {}
  },
  {
   "cell_type": "code",
   "execution_count": 39,
   "source": [
    "def read_data_to_train(df, ile='../res/final_13.csv'):\n",
    "    # df = pd.read_csv(file)\n",
    "    y = df['label']\n",
    "    no = df['no']\n",
    "    no_cols = ['Unnamed: 0', 'label', 'no']\n",
    "    # df = df[[i for i in df.columns if i not in no_cols]]\n",
    "    print(df.shape)\n",
    "    pca = PCA(n_components=0.9)\n",
    "    X = pca.fit_transform(df[[i for i in df.columns if i not in no_cols]])\n",
    "    X = pd.DataFrame(data=X, columns=list(range(X.shape[1])))\n",
    "    X['no'] = no\n",
    "    X['label'] = y\n",
    "    print(X.shape)\n",
    "    p_no = df[df['label'] == 1]['no'].drop_duplicates()\n",
    "\n",
    "    ## 将所有正例作为验证集合\n",
    "    all_p = X[X['no'].isin(p_no)]\n",
    "    part_np = X[~X['no'].isin(p_no)].sample(n=all_p.shape[0], replace=False, random_state=2021)\n",
    "    all_val = pd.concat([all_p, part_np])\n",
    "\n",
    "    val_no = p_no.sample(n=p_no.shape[0]//10, replace=False, random_state=2021)\n",
    "    print(val_no.shape, p_no.shape)\n",
    "    p_no = p_no[~ p_no.isin(val_no)]\n",
    "    # print(p_no)\n",
    "    val_X = X[X['no'].isin(val_no)]\n",
    "    trn_X = X[~ X['no'].isin(val_no)]\n",
    "    feat = [i for i in trn_X.columns if i not in ['label', 'no']]\n",
    "    trn_X['id'] = list(range(trn_X.shape[0]))\n",
    "    X_resampled, y_resampled = rus.fit_resample(trn_X, trn_X['label'])\n",
    "    trn_no = X_resampled['id'].drop_duplicates()\n",
    "    print(trn_no.shape, p_no.shape)\n",
    "    # a = trn_X[~trn_X['no'].isin(trn_no)]\n",
    "    a = trn_X[~trn_X['id'].isin(trn_no)]\n",
    "    print(sorted(Counter(y_resampled).items()),\n",
    "          trn_X.shape, trn_no.shape, a.shape, val_X.shape)\n",
    "    val_X_np = a.sample(n=val_X.shape[0], replace=False, random_state=2021)\n",
    "    print(val_X_np[val_X_np['label'] == 1]['no'].drop_duplicates().shape)\n",
    "    val_X = pd.concat([val_X, val_X_np])\n",
    "    return val_X, X_resampled, y_resampled, feat, all_val\n"
   ],
   "outputs": [],
   "metadata": {}
  },
  {
   "cell_type": "code",
   "execution_count": 40,
   "source": [
    "val_X, X_resampled, y_resampled, feat, all_val = read_data_to_train(df, 'res/final_13.csv')"
   ],
   "outputs": [
    {
     "output_type": "stream",
     "name": "stdout",
     "text": [
      "(22024, 786)\n",
      "(22024, 25)\n",
      "(24,) (249,)\n",
      "(7564,) (225,)\n",
      "[(0, 3782), (1, 3782)] (21604, 26) (7564,) (14040, 26) (420, 25)\n",
      "(0,)\n"
     ]
    },
    {
     "output_type": "stream",
     "name": "stderr",
     "text": [
      "/tmp/ipykernel_68398/2614060581.py:28: SettingWithCopyWarning: \n",
      "A value is trying to be set on a copy of a slice from a DataFrame.\n",
      "Try using .loc[row_indexer,col_indexer] = value instead\n",
      "\n",
      "See the caveats in the documentation: https://pandas.pydata.org/pandas-docs/stable/user_guide/indexing.html#returning-a-view-versus-a-copy\n",
      "  trn_X['id'] = list(range(trn_X.shape[0]))\n"
     ]
    }
   ],
   "metadata": {}
  },
  {
   "cell_type": "code",
   "execution_count": 73,
   "source": [
    "%load_ext autoreload\n",
    "%autoreload 2\n",
    "all_real_no = all_val['no'].drop_duplicates()\n",
    "all_val.shape"
   ],
   "outputs": [
    {
     "output_type": "stream",
     "name": "stdout",
     "text": [
      "The autoreload extension is already loaded. To reload it, use:\n",
      "  %reload_ext autoreload\n"
     ]
    },
    {
     "output_type": "execute_result",
     "data": {
      "text/plain": [
       "(8404, 25)"
      ]
     },
     "metadata": {},
     "execution_count": 73
    }
   ],
   "metadata": {}
  },
  {
   "cell_type": "code",
   "execution_count": 42,
   "source": [
    "val_no = val_X[val_X['label'] == 1]['no'].drop_duplicates()\n",
    "val_no.shape"
   ],
   "outputs": [
    {
     "output_type": "execute_result",
     "data": {
      "text/plain": [
       "(24,)"
      ]
     },
     "metadata": {},
     "execution_count": 42
    }
   ],
   "metadata": {}
  },
  {
   "cell_type": "code",
   "execution_count": 44,
   "source": [
    "feat"
   ],
   "outputs": [
    {
     "output_type": "execute_result",
     "data": {
      "text/plain": [
       "[0,\n",
       " 1,\n",
       " 2,\n",
       " 3,\n",
       " 4,\n",
       " 5,\n",
       " 6,\n",
       " 7,\n",
       " 8,\n",
       " 9,\n",
       " 10,\n",
       " 11,\n",
       " 12,\n",
       " 13,\n",
       " 14,\n",
       " 15,\n",
       " 16,\n",
       " 17,\n",
       " 18,\n",
       " 19,\n",
       " 20,\n",
       " 21,\n",
       " 22]"
      ]
     },
     "metadata": {},
     "execution_count": 44
    }
   ],
   "metadata": {}
  },
  {
   "cell_type": "code",
   "execution_count": 45,
   "source": [
    "svm_clf = Pipeline(\n",
    "    (\n",
    "        ('scaler', StandardScaler()),\n",
    "        ('svm_clf', SVC(kernel='rbf', C=10, gamma=0.1))\n",
    "    )\n",
    ")\n",
    "y_predict, y_true = svm_classification_2(X_resampled, svm_clf, feat)\n",
    "a = svm_clf.predict(val_X[feat])\n",
    "print(calculate_precision(a, val_X['label']))"
   ],
   "outputs": [
    {
     "output_type": "stream",
     "name": "stdout",
     "text": [
      "epoch 0 precision_score 0.4921632453054724\n",
      "epoch 1 precision_score 0.5932026931864813\n",
      "epoch 2 precision_score 0.5440630797773655\n",
      "epoch 3 precision_score 0.48470986339140243\n",
      "epoch 4 precision_score 0.4740215436346575\n",
      "<class 'numpy.ndarray'> <class 'pandas.core.series.Series'>\n",
      "176 360\n",
      "0.4888888888888889\n"
     ]
    }
   ],
   "metadata": {}
  },
  {
   "cell_type": "code",
   "execution_count": 11,
   "source": [
    "a = svm_clf.predict(all_val[feat])\n",
    "print(calculate_precision(a, all_val['label']))"
   ],
   "outputs": [
    {
     "output_type": "stream",
     "name": "stdout",
     "text": [
      "<class 'numpy.ndarray'> <class 'pandas.core.series.Series'>\n",
      "4566 8019\n",
      "0.5693976805087916\n"
     ]
    }
   ],
   "metadata": {}
  },
  {
   "cell_type": "code",
   "execution_count": 63,
   "source": [
    "a, d,e, f = lgb_classification_2(X_resampled, all_val[feat], feat)"
   ],
   "outputs": [
    {
     "output_type": "stream",
     "name": "stdout",
     "text": [
      "Training until validation scores don't improve for 100 rounds\n",
      "[100]\tvalid_0's precision: 0.366178\n",
      "Early stopping, best iteration is:\n",
      "[1]\tvalid_0's precision: 0.55526\n",
      "Training until validation scores don't improve for 100 rounds\n",
      "[100]\tvalid_0's precision: 0.457447\n",
      "Early stopping, best iteration is:\n",
      "[21]\tvalid_0's precision: 0.516548\n",
      "Training until validation scores don't improve for 100 rounds\n",
      "[100]\tvalid_0's precision: 0.498309\n",
      "Early stopping, best iteration is:\n",
      "[27]\tvalid_0's precision: 0.54115\n",
      "Training until validation scores don't improve for 100 rounds\n",
      "[100]\tvalid_0's precision: 0.517857\n",
      "Early stopping, best iteration is:\n",
      "[1]\tvalid_0's precision: 0.933929\n",
      "Training until validation scores don't improve for 100 rounds\n",
      "[100]\tvalid_0's precision: 0.46206\n",
      "Early stopping, best iteration is:\n",
      "[20]\tvalid_0's precision: 0.47832\n",
      "feature importance:\n",
      "feature\n",
      "0     972.643151\n",
      "7     896.919358\n",
      "12    854.669992\n",
      "1     726.604373\n",
      "2     665.904618\n",
      "9     626.531305\n",
      "11    615.257425\n",
      "4     583.334448\n",
      "8     563.223089\n",
      "10    463.743762\n",
      "3     395.788217\n",
      "5     358.807570\n",
      "14    353.191951\n",
      "6     322.057107\n",
      "15    277.395204\n",
      "Name: importance, dtype: float64\n"
     ]
    }
   ],
   "metadata": {}
  },
  {
   "cell_type": "code",
   "execution_count": 65,
   "source": [
    "x = np.mean(d, axis=0)\n",
    "x = x > 0.5\n",
    "print(calculate_precision(x, all_val['label']))"
   ],
   "outputs": [
    {
     "output_type": "stream",
     "name": "stdout",
     "text": [
      "<class 'numpy.ndarray'> <class 'pandas.core.series.Series'>\n",
      "3343 4186\n",
      "0.7986144290492116\n"
     ]
    }
   ],
   "metadata": {}
  },
  {
   "cell_type": "code",
   "execution_count": 66,
   "source": [
    "a = xgb_classification(X_resampled, val_X[feat], feat)"
   ],
   "outputs": [
    {
     "output_type": "stream",
     "name": "stdout",
     "text": [
      "[0]\ttrain-auc:0.667694\tvalid-auc:0.518336\ttrain-precision:0.438799\tvalid-precision:0.267643\n",
      "Multiple eval metrics have been passed: 'valid-precision' will be used for early stopping.\n",
      "\n",
      "Will train until valid-precision hasn't improved in 100 rounds.\n"
     ]
    },
    {
     "output_type": "stream",
     "name": "stderr",
     "text": [
      "[15:41:03] src/tree/updater_prune.cc:74: tree pruning end, 1 roots, 152 extra nodes, 0 pruned nodes, max_depth=8\n",
      "[15:41:03] src/tree/updater_prune.cc:74: tree pruning end, 1 roots, 108 extra nodes, 0 pruned nodes, max_depth=8\n",
      "[15:41:03] src/tree/updater_prune.cc:74: tree pruning end, 1 roots, 142 extra nodes, 0 pruned nodes, max_depth=8\n",
      "[15:41:03] src/tree/updater_prune.cc:74: tree pruning end, 1 roots, 194 extra nodes, 0 pruned nodes, max_depth=8\n",
      "[15:41:03] src/tree/updater_prune.cc:74: tree pruning end, 1 roots, 150 extra nodes, 2 pruned nodes, max_depth=8\n",
      "[15:41:03] src/tree/updater_prune.cc:74: tree pruning end, 1 roots, 128 extra nodes, 0 pruned nodes, max_depth=8\n",
      "[15:41:03] src/tree/updater_prune.cc:74: tree pruning end, 1 roots, 176 extra nodes, 0 pruned nodes, max_depth=8\n",
      "[15:41:03] src/tree/updater_prune.cc:74: tree pruning end, 1 roots, 174 extra nodes, 0 pruned nodes, max_depth=8\n",
      "[15:41:03] src/tree/updater_prune.cc:74: tree pruning end, 1 roots, 134 extra nodes, 0 pruned nodes, max_depth=8\n",
      "[15:41:03] src/tree/updater_prune.cc:74: tree pruning end, 1 roots, 120 extra nodes, 2 pruned nodes, max_depth=8\n",
      "[15:41:03] src/tree/updater_prune.cc:74: tree pruning end, 1 roots, 162 extra nodes, 0 pruned nodes, max_depth=8\n",
      "[15:41:03] src/tree/updater_prune.cc:74: tree pruning end, 1 roots, 106 extra nodes, 0 pruned nodes, max_depth=8\n",
      "[15:41:03] src/tree/updater_prune.cc:74: tree pruning end, 1 roots, 166 extra nodes, 2 pruned nodes, max_depth=8\n",
      "[15:41:03] src/tree/updater_prune.cc:74: tree pruning end, 1 roots, 130 extra nodes, 0 pruned nodes, max_depth=8\n",
      "[15:41:03] src/tree/updater_prune.cc:74: tree pruning end, 1 roots, 124 extra nodes, 2 pruned nodes, max_depth=8\n",
      "[15:41:03] src/tree/updater_prune.cc:74: tree pruning end, 1 roots, 168 extra nodes, 0 pruned nodes, max_depth=8\n",
      "[15:41:04] src/tree/updater_prune.cc:74: tree pruning end, 1 roots, 168 extra nodes, 0 pruned nodes, max_depth=8\n",
      "[15:41:04] src/tree/updater_prune.cc:74: tree pruning end, 1 roots, 108 extra nodes, 4 pruned nodes, max_depth=8\n",
      "[15:41:04] src/tree/updater_prune.cc:74: tree pruning end, 1 roots, 120 extra nodes, 0 pruned nodes, max_depth=8\n",
      "[15:41:04] src/tree/updater_prune.cc:74: tree pruning end, 1 roots, 156 extra nodes, 2 pruned nodes, max_depth=8\n",
      "[15:41:04] src/tree/updater_prune.cc:74: tree pruning end, 1 roots, 144 extra nodes, 0 pruned nodes, max_depth=8\n",
      "[15:41:04] src/tree/updater_prune.cc:74: tree pruning end, 1 roots, 146 extra nodes, 0 pruned nodes, max_depth=8\n",
      "[15:41:04] src/tree/updater_prune.cc:74: tree pruning end, 1 roots, 164 extra nodes, 0 pruned nodes, max_depth=8\n",
      "[15:41:04] src/tree/updater_prune.cc:74: tree pruning end, 1 roots, 142 extra nodes, 0 pruned nodes, max_depth=8\n",
      "[15:41:04] src/tree/updater_prune.cc:74: tree pruning end, 1 roots, 138 extra nodes, 0 pruned nodes, max_depth=8\n",
      "[15:41:04] src/tree/updater_prune.cc:74: tree pruning end, 1 roots, 120 extra nodes, 2 pruned nodes, max_depth=8\n",
      "[15:41:04] src/tree/updater_prune.cc:74: tree pruning end, 1 roots, 154 extra nodes, 4 pruned nodes, max_depth=8\n",
      "[15:41:04] src/tree/updater_prune.cc:74: tree pruning end, 1 roots, 138 extra nodes, 2 pruned nodes, max_depth=8\n",
      "[15:41:04] src/tree/updater_prune.cc:74: tree pruning end, 1 roots, 162 extra nodes, 0 pruned nodes, max_depth=8\n",
      "[15:41:04] src/tree/updater_prune.cc:74: tree pruning end, 1 roots, 134 extra nodes, 0 pruned nodes, max_depth=8\n",
      "[15:41:04] src/tree/updater_prune.cc:74: tree pruning end, 1 roots, 94 extra nodes, 0 pruned nodes, max_depth=8\n",
      "[15:41:04] src/tree/updater_prune.cc:74: tree pruning end, 1 roots, 156 extra nodes, 0 pruned nodes, max_depth=8\n",
      "[15:41:04] src/tree/updater_prune.cc:74: tree pruning end, 1 roots, 136 extra nodes, 0 pruned nodes, max_depth=8\n",
      "[15:41:04] src/tree/updater_prune.cc:74: tree pruning end, 1 roots, 134 extra nodes, 0 pruned nodes, max_depth=8\n",
      "[15:41:04] src/tree/updater_prune.cc:74: tree pruning end, 1 roots, 136 extra nodes, 0 pruned nodes, max_depth=8\n",
      "[15:41:04] src/tree/updater_prune.cc:74: tree pruning end, 1 roots, 138 extra nodes, 2 pruned nodes, max_depth=8\n",
      "[15:41:04] src/tree/updater_prune.cc:74: tree pruning end, 1 roots, 152 extra nodes, 0 pruned nodes, max_depth=8\n",
      "[15:41:04] src/tree/updater_prune.cc:74: tree pruning end, 1 roots, 126 extra nodes, 0 pruned nodes, max_depth=8\n",
      "[15:41:04] src/tree/updater_prune.cc:74: tree pruning end, 1 roots, 150 extra nodes, 0 pruned nodes, max_depth=8\n",
      "[15:41:04] src/tree/updater_prune.cc:74: tree pruning end, 1 roots, 134 extra nodes, 0 pruned nodes, max_depth=8\n",
      "[15:41:04] src/tree/updater_prune.cc:74: tree pruning end, 1 roots, 168 extra nodes, 0 pruned nodes, max_depth=8\n",
      "[15:41:04] src/tree/updater_prune.cc:74: tree pruning end, 1 roots, 144 extra nodes, 0 pruned nodes, max_depth=8\n",
      "[15:41:04] src/tree/updater_prune.cc:74: tree pruning end, 1 roots, 144 extra nodes, 2 pruned nodes, max_depth=8\n",
      "[15:41:04] src/tree/updater_prune.cc:74: tree pruning end, 1 roots, 142 extra nodes, 0 pruned nodes, max_depth=8\n",
      "[15:41:04] src/tree/updater_prune.cc:74: tree pruning end, 1 roots, 136 extra nodes, 2 pruned nodes, max_depth=8\n",
      "[15:41:04] src/tree/updater_prune.cc:74: tree pruning end, 1 roots, 132 extra nodes, 0 pruned nodes, max_depth=8\n",
      "[15:41:04] src/tree/updater_prune.cc:74: tree pruning end, 1 roots, 154 extra nodes, 0 pruned nodes, max_depth=8\n",
      "[15:41:04] src/tree/updater_prune.cc:74: tree pruning end, 1 roots, 164 extra nodes, 0 pruned nodes, max_depth=8\n",
      "[15:41:04] src/tree/updater_prune.cc:74: tree pruning end, 1 roots, 160 extra nodes, 0 pruned nodes, max_depth=8\n",
      "[15:41:04] src/tree/updater_prune.cc:74: tree pruning end, 1 roots, 170 extra nodes, 2 pruned nodes, max_depth=8\n",
      "[15:41:04] src/tree/updater_prune.cc:74: tree pruning end, 1 roots, 144 extra nodes, 0 pruned nodes, max_depth=8\n",
      "[15:41:04] src/tree/updater_prune.cc:74: tree pruning end, 1 roots, 148 extra nodes, 2 pruned nodes, max_depth=8\n",
      "[15:41:04] src/tree/updater_prune.cc:74: tree pruning end, 1 roots, 130 extra nodes, 0 pruned nodes, max_depth=8\n",
      "[15:41:04] src/tree/updater_prune.cc:74: tree pruning end, 1 roots, 176 extra nodes, 0 pruned nodes, max_depth=8\n",
      "[15:41:04] src/tree/updater_prune.cc:74: tree pruning end, 1 roots, 152 extra nodes, 0 pruned nodes, max_depth=8\n",
      "[15:41:04] src/tree/updater_prune.cc:74: tree pruning end, 1 roots, 128 extra nodes, 0 pruned nodes, max_depth=8\n",
      "[15:41:05] src/tree/updater_prune.cc:74: tree pruning end, 1 roots, 114 extra nodes, 0 pruned nodes, max_depth=8\n",
      "[15:41:05] src/tree/updater_prune.cc:74: tree pruning end, 1 roots, 150 extra nodes, 0 pruned nodes, max_depth=8\n",
      "[15:41:05] src/tree/updater_prune.cc:74: tree pruning end, 1 roots, 82 extra nodes, 0 pruned nodes, max_depth=8\n",
      "[15:41:05] src/tree/updater_prune.cc:74: tree pruning end, 1 roots, 106 extra nodes, 0 pruned nodes, max_depth=8\n",
      "[15:41:05] src/tree/updater_prune.cc:74: tree pruning end, 1 roots, 180 extra nodes, 0 pruned nodes, max_depth=8\n",
      "[15:41:05] src/tree/updater_prune.cc:74: tree pruning end, 1 roots, 176 extra nodes, 0 pruned nodes, max_depth=8\n",
      "[15:41:05] src/tree/updater_prune.cc:74: tree pruning end, 1 roots, 172 extra nodes, 2 pruned nodes, max_depth=8\n",
      "[15:41:05] src/tree/updater_prune.cc:74: tree pruning end, 1 roots, 130 extra nodes, 0 pruned nodes, max_depth=8\n",
      "[15:41:05] src/tree/updater_prune.cc:74: tree pruning end, 1 roots, 160 extra nodes, 0 pruned nodes, max_depth=8\n",
      "[15:41:05] src/tree/updater_prune.cc:74: tree pruning end, 1 roots, 152 extra nodes, 0 pruned nodes, max_depth=8\n",
      "[15:41:05] src/tree/updater_prune.cc:74: tree pruning end, 1 roots, 184 extra nodes, 0 pruned nodes, max_depth=8\n",
      "[15:41:05] src/tree/updater_prune.cc:74: tree pruning end, 1 roots, 162 extra nodes, 4 pruned nodes, max_depth=8\n",
      "[15:41:05] src/tree/updater_prune.cc:74: tree pruning end, 1 roots, 154 extra nodes, 2 pruned nodes, max_depth=8\n",
      "[15:41:05] src/tree/updater_prune.cc:74: tree pruning end, 1 roots, 138 extra nodes, 0 pruned nodes, max_depth=8\n",
      "[15:41:05] src/tree/updater_prune.cc:74: tree pruning end, 1 roots, 156 extra nodes, 0 pruned nodes, max_depth=8\n",
      "[15:41:05] src/tree/updater_prune.cc:74: tree pruning end, 1 roots, 172 extra nodes, 0 pruned nodes, max_depth=8\n",
      "[15:41:05] src/tree/updater_prune.cc:74: tree pruning end, 1 roots, 170 extra nodes, 0 pruned nodes, max_depth=8\n",
      "[15:41:05] src/tree/updater_prune.cc:74: tree pruning end, 1 roots, 110 extra nodes, 0 pruned nodes, max_depth=8\n",
      "[15:41:05] src/tree/updater_prune.cc:74: tree pruning end, 1 roots, 96 extra nodes, 0 pruned nodes, max_depth=8\n",
      "[15:41:05] src/tree/updater_prune.cc:74: tree pruning end, 1 roots, 106 extra nodes, 0 pruned nodes, max_depth=8\n",
      "[15:41:05] src/tree/updater_prune.cc:74: tree pruning end, 1 roots, 112 extra nodes, 2 pruned nodes, max_depth=8\n",
      "[15:41:05] src/tree/updater_prune.cc:74: tree pruning end, 1 roots, 130 extra nodes, 2 pruned nodes, max_depth=8\n",
      "[15:41:05] src/tree/updater_prune.cc:74: tree pruning end, 1 roots, 126 extra nodes, 2 pruned nodes, max_depth=8\n",
      "[15:41:05] src/tree/updater_prune.cc:74: tree pruning end, 1 roots, 172 extra nodes, 0 pruned nodes, max_depth=8\n",
      "[15:41:05] src/tree/updater_prune.cc:74: tree pruning end, 1 roots, 118 extra nodes, 0 pruned nodes, max_depth=8\n",
      "[15:41:05] src/tree/updater_prune.cc:74: tree pruning end, 1 roots, 94 extra nodes, 0 pruned nodes, max_depth=8\n",
      "[15:41:05] src/tree/updater_prune.cc:74: tree pruning end, 1 roots, 176 extra nodes, 0 pruned nodes, max_depth=8\n",
      "[15:41:05] src/tree/updater_prune.cc:74: tree pruning end, 1 roots, 130 extra nodes, 4 pruned nodes, max_depth=8\n",
      "[15:41:05] src/tree/updater_prune.cc:74: tree pruning end, 1 roots, 218 extra nodes, 2 pruned nodes, max_depth=8\n",
      "[15:41:05] src/tree/updater_prune.cc:74: tree pruning end, 1 roots, 146 extra nodes, 0 pruned nodes, max_depth=8\n",
      "[15:41:05] src/tree/updater_prune.cc:74: tree pruning end, 1 roots, 140 extra nodes, 0 pruned nodes, max_depth=8\n",
      "[15:41:05] src/tree/updater_prune.cc:74: tree pruning end, 1 roots, 80 extra nodes, 0 pruned nodes, max_depth=8\n",
      "[15:41:05] src/tree/updater_prune.cc:74: tree pruning end, 1 roots, 134 extra nodes, 0 pruned nodes, max_depth=8\n",
      "[15:41:05] src/tree/updater_prune.cc:74: tree pruning end, 1 roots, 146 extra nodes, 2 pruned nodes, max_depth=8\n",
      "[15:41:05] src/tree/updater_prune.cc:74: tree pruning end, 1 roots, 134 extra nodes, 2 pruned nodes, max_depth=8\n",
      "[15:41:05] src/tree/updater_prune.cc:74: tree pruning end, 1 roots, 168 extra nodes, 0 pruned nodes, max_depth=8\n",
      "[15:41:05] src/tree/updater_prune.cc:74: tree pruning end, 1 roots, 122 extra nodes, 0 pruned nodes, max_depth=8\n",
      "[15:41:05] src/tree/updater_prune.cc:74: tree pruning end, 1 roots, 160 extra nodes, 2 pruned nodes, max_depth=8\n",
      "[15:41:05] src/tree/updater_prune.cc:74: tree pruning end, 1 roots, 158 extra nodes, 0 pruned nodes, max_depth=8\n",
      "[15:41:06] src/tree/updater_prune.cc:74: tree pruning end, 1 roots, 122 extra nodes, 2 pruned nodes, max_depth=8\n",
      "[15:41:06] src/tree/updater_prune.cc:74: tree pruning end, 1 roots, 168 extra nodes, 0 pruned nodes, max_depth=8\n",
      "[15:41:06] src/tree/updater_prune.cc:74: tree pruning end, 1 roots, 142 extra nodes, 0 pruned nodes, max_depth=8\n",
      "[15:41:06] src/tree/updater_prune.cc:74: tree pruning end, 1 roots, 84 extra nodes, 0 pruned nodes, max_depth=8\n",
      "[15:41:06] src/tree/updater_prune.cc:74: tree pruning end, 1 roots, 130 extra nodes, 2 pruned nodes, max_depth=8\n"
     ]
    },
    {
     "output_type": "stream",
     "name": "stdout",
     "text": [
      "[100]\ttrain-auc:0.922573\tvalid-auc:0.50443\ttrain-precision:0.851204\tvalid-precision:0.42743\n",
      "Stopping. Best iteration:\n",
      "[0]\ttrain-auc:0.667694\tvalid-auc:0.518336\ttrain-precision:0.438799\tvalid-precision:0.267643\n",
      "\n",
      "epoch 0 precision : 0.4878640776699029\n",
      "[0]\ttrain-auc:0.62816\tvalid-auc:0.466441\ttrain-precision:0.553134\tvalid-precision:0.414894\n",
      "Multiple eval metrics have been passed: 'valid-precision' will be used for early stopping.\n",
      "\n",
      "Will train until valid-precision hasn't improved in 100 rounds.\n"
     ]
    },
    {
     "output_type": "stream",
     "name": "stderr",
     "text": [
      "[15:41:06] src/tree/updater_prune.cc:74: tree pruning end, 1 roots, 146 extra nodes, 0 pruned nodes, max_depth=8\n",
      "[15:41:06] src/tree/updater_prune.cc:74: tree pruning end, 1 roots, 102 extra nodes, 2 pruned nodes, max_depth=8\n",
      "[15:41:06] src/tree/updater_prune.cc:74: tree pruning end, 1 roots, 154 extra nodes, 0 pruned nodes, max_depth=8\n",
      "[15:41:06] src/tree/updater_prune.cc:74: tree pruning end, 1 roots, 150 extra nodes, 0 pruned nodes, max_depth=8\n",
      "[15:41:06] src/tree/updater_prune.cc:74: tree pruning end, 1 roots, 112 extra nodes, 0 pruned nodes, max_depth=8\n",
      "[15:41:06] src/tree/updater_prune.cc:74: tree pruning end, 1 roots, 194 extra nodes, 2 pruned nodes, max_depth=8\n",
      "[15:41:06] src/tree/updater_prune.cc:74: tree pruning end, 1 roots, 150 extra nodes, 0 pruned nodes, max_depth=8\n",
      "[15:41:06] src/tree/updater_prune.cc:74: tree pruning end, 1 roots, 150 extra nodes, 2 pruned nodes, max_depth=8\n",
      "[15:41:06] src/tree/updater_prune.cc:74: tree pruning end, 1 roots, 128 extra nodes, 0 pruned nodes, max_depth=8\n",
      "[15:41:06] src/tree/updater_prune.cc:74: tree pruning end, 1 roots, 108 extra nodes, 0 pruned nodes, max_depth=8\n",
      "[15:41:06] src/tree/updater_prune.cc:74: tree pruning end, 1 roots, 96 extra nodes, 0 pruned nodes, max_depth=8\n",
      "[15:41:06] src/tree/updater_prune.cc:74: tree pruning end, 1 roots, 156 extra nodes, 0 pruned nodes, max_depth=8\n",
      "[15:41:06] src/tree/updater_prune.cc:74: tree pruning end, 1 roots, 172 extra nodes, 0 pruned nodes, max_depth=8\n",
      "[15:41:06] src/tree/updater_prune.cc:74: tree pruning end, 1 roots, 140 extra nodes, 0 pruned nodes, max_depth=8\n",
      "[15:41:06] src/tree/updater_prune.cc:74: tree pruning end, 1 roots, 150 extra nodes, 2 pruned nodes, max_depth=8\n",
      "[15:41:06] src/tree/updater_prune.cc:74: tree pruning end, 1 roots, 114 extra nodes, 0 pruned nodes, max_depth=8\n",
      "[15:41:06] src/tree/updater_prune.cc:74: tree pruning end, 1 roots, 108 extra nodes, 0 pruned nodes, max_depth=8\n",
      "[15:41:06] src/tree/updater_prune.cc:74: tree pruning end, 1 roots, 64 extra nodes, 0 pruned nodes, max_depth=8\n",
      "[15:41:06] src/tree/updater_prune.cc:74: tree pruning end, 1 roots, 118 extra nodes, 0 pruned nodes, max_depth=8\n",
      "[15:41:06] src/tree/updater_prune.cc:74: tree pruning end, 1 roots, 124 extra nodes, 0 pruned nodes, max_depth=8\n",
      "[15:41:06] src/tree/updater_prune.cc:74: tree pruning end, 1 roots, 184 extra nodes, 0 pruned nodes, max_depth=8\n",
      "[15:41:06] src/tree/updater_prune.cc:74: tree pruning end, 1 roots, 146 extra nodes, 2 pruned nodes, max_depth=8\n",
      "[15:41:06] src/tree/updater_prune.cc:74: tree pruning end, 1 roots, 142 extra nodes, 0 pruned nodes, max_depth=8\n",
      "[15:41:06] src/tree/updater_prune.cc:74: tree pruning end, 1 roots, 170 extra nodes, 0 pruned nodes, max_depth=8\n",
      "[15:41:06] src/tree/updater_prune.cc:74: tree pruning end, 1 roots, 150 extra nodes, 0 pruned nodes, max_depth=8\n",
      "[15:41:06] src/tree/updater_prune.cc:74: tree pruning end, 1 roots, 190 extra nodes, 0 pruned nodes, max_depth=8\n",
      "[15:41:06] src/tree/updater_prune.cc:74: tree pruning end, 1 roots, 138 extra nodes, 0 pruned nodes, max_depth=8\n",
      "[15:41:06] src/tree/updater_prune.cc:74: tree pruning end, 1 roots, 132 extra nodes, 0 pruned nodes, max_depth=8\n",
      "[15:41:06] src/tree/updater_prune.cc:74: tree pruning end, 1 roots, 144 extra nodes, 0 pruned nodes, max_depth=8\n",
      "[15:41:06] src/tree/updater_prune.cc:74: tree pruning end, 1 roots, 90 extra nodes, 0 pruned nodes, max_depth=8\n",
      "[15:41:06] src/tree/updater_prune.cc:74: tree pruning end, 1 roots, 132 extra nodes, 0 pruned nodes, max_depth=8\n",
      "[15:41:06] src/tree/updater_prune.cc:74: tree pruning end, 1 roots, 122 extra nodes, 2 pruned nodes, max_depth=8\n",
      "[15:41:06] src/tree/updater_prune.cc:74: tree pruning end, 1 roots, 126 extra nodes, 0 pruned nodes, max_depth=8\n",
      "[15:41:06] src/tree/updater_prune.cc:74: tree pruning end, 1 roots, 134 extra nodes, 0 pruned nodes, max_depth=8\n",
      "[15:41:07] src/tree/updater_prune.cc:74: tree pruning end, 1 roots, 110 extra nodes, 0 pruned nodes, max_depth=8\n",
      "[15:41:07] src/tree/updater_prune.cc:74: tree pruning end, 1 roots, 168 extra nodes, 2 pruned nodes, max_depth=8\n",
      "[15:41:07] src/tree/updater_prune.cc:74: tree pruning end, 1 roots, 148 extra nodes, 0 pruned nodes, max_depth=8\n",
      "[15:41:07] src/tree/updater_prune.cc:74: tree pruning end, 1 roots, 112 extra nodes, 0 pruned nodes, max_depth=8\n",
      "[15:41:07] src/tree/updater_prune.cc:74: tree pruning end, 1 roots, 174 extra nodes, 0 pruned nodes, max_depth=8\n",
      "[15:41:07] src/tree/updater_prune.cc:74: tree pruning end, 1 roots, 148 extra nodes, 0 pruned nodes, max_depth=8\n",
      "[15:41:07] src/tree/updater_prune.cc:74: tree pruning end, 1 roots, 144 extra nodes, 0 pruned nodes, max_depth=8\n",
      "[15:41:07] src/tree/updater_prune.cc:74: tree pruning end, 1 roots, 110 extra nodes, 0 pruned nodes, max_depth=8\n",
      "[15:41:07] src/tree/updater_prune.cc:74: tree pruning end, 1 roots, 72 extra nodes, 2 pruned nodes, max_depth=8\n",
      "[15:41:07] src/tree/updater_prune.cc:74: tree pruning end, 1 roots, 108 extra nodes, 0 pruned nodes, max_depth=8\n",
      "[15:41:07] src/tree/updater_prune.cc:74: tree pruning end, 1 roots, 138 extra nodes, 4 pruned nodes, max_depth=8\n",
      "[15:41:07] src/tree/updater_prune.cc:74: tree pruning end, 1 roots, 126 extra nodes, 0 pruned nodes, max_depth=8\n",
      "[15:41:07] src/tree/updater_prune.cc:74: tree pruning end, 1 roots, 194 extra nodes, 0 pruned nodes, max_depth=8\n",
      "[15:41:07] src/tree/updater_prune.cc:74: tree pruning end, 1 roots, 152 extra nodes, 0 pruned nodes, max_depth=8\n",
      "[15:41:07] src/tree/updater_prune.cc:74: tree pruning end, 1 roots, 142 extra nodes, 0 pruned nodes, max_depth=8\n",
      "[15:41:07] src/tree/updater_prune.cc:74: tree pruning end, 1 roots, 138 extra nodes, 0 pruned nodes, max_depth=8\n",
      "[15:41:07] src/tree/updater_prune.cc:74: tree pruning end, 1 roots, 118 extra nodes, 0 pruned nodes, max_depth=8\n",
      "[15:41:07] src/tree/updater_prune.cc:74: tree pruning end, 1 roots, 90 extra nodes, 0 pruned nodes, max_depth=8\n",
      "[15:41:07] src/tree/updater_prune.cc:74: tree pruning end, 1 roots, 162 extra nodes, 0 pruned nodes, max_depth=8\n",
      "[15:41:07] src/tree/updater_prune.cc:74: tree pruning end, 1 roots, 166 extra nodes, 0 pruned nodes, max_depth=8\n",
      "[15:41:07] src/tree/updater_prune.cc:74: tree pruning end, 1 roots, 134 extra nodes, 0 pruned nodes, max_depth=8\n",
      "[15:41:07] src/tree/updater_prune.cc:74: tree pruning end, 1 roots, 104 extra nodes, 0 pruned nodes, max_depth=8\n",
      "[15:41:07] src/tree/updater_prune.cc:74: tree pruning end, 1 roots, 112 extra nodes, 0 pruned nodes, max_depth=8\n",
      "[15:41:07] src/tree/updater_prune.cc:74: tree pruning end, 1 roots, 82 extra nodes, 0 pruned nodes, max_depth=8\n",
      "[15:41:07] src/tree/updater_prune.cc:74: tree pruning end, 1 roots, 182 extra nodes, 2 pruned nodes, max_depth=8\n",
      "[15:41:07] src/tree/updater_prune.cc:74: tree pruning end, 1 roots, 176 extra nodes, 0 pruned nodes, max_depth=8\n",
      "[15:41:07] src/tree/updater_prune.cc:74: tree pruning end, 1 roots, 138 extra nodes, 0 pruned nodes, max_depth=8\n",
      "[15:41:07] src/tree/updater_prune.cc:74: tree pruning end, 1 roots, 84 extra nodes, 0 pruned nodes, max_depth=8\n",
      "[15:41:07] src/tree/updater_prune.cc:74: tree pruning end, 1 roots, 94 extra nodes, 0 pruned nodes, max_depth=8\n",
      "[15:41:07] src/tree/updater_prune.cc:74: tree pruning end, 1 roots, 138 extra nodes, 0 pruned nodes, max_depth=8\n",
      "[15:41:07] src/tree/updater_prune.cc:74: tree pruning end, 1 roots, 116 extra nodes, 0 pruned nodes, max_depth=8\n",
      "[15:41:07] src/tree/updater_prune.cc:74: tree pruning end, 1 roots, 102 extra nodes, 0 pruned nodes, max_depth=8\n",
      "[15:41:07] src/tree/updater_prune.cc:74: tree pruning end, 1 roots, 190 extra nodes, 2 pruned nodes, max_depth=8\n",
      "[15:41:07] src/tree/updater_prune.cc:74: tree pruning end, 1 roots, 174 extra nodes, 0 pruned nodes, max_depth=8\n",
      "[15:41:07] src/tree/updater_prune.cc:74: tree pruning end, 1 roots, 160 extra nodes, 0 pruned nodes, max_depth=8\n",
      "[15:41:07] src/tree/updater_prune.cc:74: tree pruning end, 1 roots, 168 extra nodes, 0 pruned nodes, max_depth=8\n",
      "[15:41:07] src/tree/updater_prune.cc:74: tree pruning end, 1 roots, 142 extra nodes, 0 pruned nodes, max_depth=8\n",
      "[15:41:07] src/tree/updater_prune.cc:74: tree pruning end, 1 roots, 146 extra nodes, 0 pruned nodes, max_depth=8\n",
      "[15:41:07] src/tree/updater_prune.cc:74: tree pruning end, 1 roots, 86 extra nodes, 0 pruned nodes, max_depth=8\n",
      "[15:41:07] src/tree/updater_prune.cc:74: tree pruning end, 1 roots, 140 extra nodes, 0 pruned nodes, max_depth=8\n",
      "[15:41:08] src/tree/updater_prune.cc:74: tree pruning end, 1 roots, 78 extra nodes, 0 pruned nodes, max_depth=8\n",
      "[15:41:08] src/tree/updater_prune.cc:74: tree pruning end, 1 roots, 124 extra nodes, 2 pruned nodes, max_depth=8\n",
      "[15:41:08] src/tree/updater_prune.cc:74: tree pruning end, 1 roots, 152 extra nodes, 0 pruned nodes, max_depth=8\n",
      "[15:41:08] src/tree/updater_prune.cc:74: tree pruning end, 1 roots, 150 extra nodes, 0 pruned nodes, max_depth=8\n",
      "[15:41:08] src/tree/updater_prune.cc:74: tree pruning end, 1 roots, 116 extra nodes, 0 pruned nodes, max_depth=8\n",
      "[15:41:08] src/tree/updater_prune.cc:74: tree pruning end, 1 roots, 256 extra nodes, 0 pruned nodes, max_depth=8\n",
      "[15:41:08] src/tree/updater_prune.cc:74: tree pruning end, 1 roots, 96 extra nodes, 0 pruned nodes, max_depth=8\n",
      "[15:41:08] src/tree/updater_prune.cc:74: tree pruning end, 1 roots, 174 extra nodes, 0 pruned nodes, max_depth=8\n",
      "[15:41:08] src/tree/updater_prune.cc:74: tree pruning end, 1 roots, 106 extra nodes, 0 pruned nodes, max_depth=8\n",
      "[15:41:08] src/tree/updater_prune.cc:74: tree pruning end, 1 roots, 136 extra nodes, 2 pruned nodes, max_depth=8\n",
      "[15:41:08] src/tree/updater_prune.cc:74: tree pruning end, 1 roots, 144 extra nodes, 0 pruned nodes, max_depth=8\n",
      "[15:41:08] src/tree/updater_prune.cc:74: tree pruning end, 1 roots, 206 extra nodes, 0 pruned nodes, max_depth=8\n",
      "[15:41:08] src/tree/updater_prune.cc:74: tree pruning end, 1 roots, 104 extra nodes, 0 pruned nodes, max_depth=8\n",
      "[15:41:08] src/tree/updater_prune.cc:74: tree pruning end, 1 roots, 68 extra nodes, 0 pruned nodes, max_depth=8\n",
      "[15:41:08] src/tree/updater_prune.cc:74: tree pruning end, 1 roots, 86 extra nodes, 0 pruned nodes, max_depth=8\n",
      "[15:41:08] src/tree/updater_prune.cc:74: tree pruning end, 1 roots, 146 extra nodes, 2 pruned nodes, max_depth=8\n",
      "[15:41:08] src/tree/updater_prune.cc:74: tree pruning end, 1 roots, 110 extra nodes, 0 pruned nodes, max_depth=8\n",
      "[15:41:08] src/tree/updater_prune.cc:74: tree pruning end, 1 roots, 156 extra nodes, 0 pruned nodes, max_depth=8\n",
      "[15:41:08] src/tree/updater_prune.cc:74: tree pruning end, 1 roots, 174 extra nodes, 0 pruned nodes, max_depth=8\n",
      "[15:41:08] src/tree/updater_prune.cc:74: tree pruning end, 1 roots, 116 extra nodes, 0 pruned nodes, max_depth=8\n",
      "[15:41:08] src/tree/updater_prune.cc:74: tree pruning end, 1 roots, 90 extra nodes, 0 pruned nodes, max_depth=8\n",
      "[15:41:08] src/tree/updater_prune.cc:74: tree pruning end, 1 roots, 104 extra nodes, 4 pruned nodes, max_depth=8\n",
      "[15:41:08] src/tree/updater_prune.cc:74: tree pruning end, 1 roots, 192 extra nodes, 0 pruned nodes, max_depth=8\n"
     ]
    },
    {
     "output_type": "stream",
     "name": "stdout",
     "text": [
      "[100]\ttrain-auc:0.926001\tvalid-auc:0.6005\ttrain-precision:0.81233\tvalid-precision:0.503546\n",
      "Stopping. Best iteration:\n",
      "[0]\ttrain-auc:0.62816\tvalid-auc:0.466441\ttrain-precision:0.553134\tvalid-precision:0.414894\n",
      "\n",
      "epoch 1 precision : 0.513909224011713\n",
      "[0]\ttrain-auc:0.686505\tvalid-auc:0.569154\ttrain-precision:0.524352\tvalid-precision:0.409245\n",
      "Multiple eval metrics have been passed: 'valid-precision' will be used for early stopping.\n",
      "\n",
      "Will train until valid-precision hasn't improved in 100 rounds.\n"
     ]
    },
    {
     "output_type": "stream",
     "name": "stderr",
     "text": [
      "[15:41:08] src/tree/updater_prune.cc:74: tree pruning end, 1 roots, 112 extra nodes, 0 pruned nodes, max_depth=8\n",
      "[15:41:08] src/tree/updater_prune.cc:74: tree pruning end, 1 roots, 130 extra nodes, 0 pruned nodes, max_depth=8\n",
      "[15:41:08] src/tree/updater_prune.cc:74: tree pruning end, 1 roots, 114 extra nodes, 4 pruned nodes, max_depth=8\n",
      "[15:41:08] src/tree/updater_prune.cc:74: tree pruning end, 1 roots, 158 extra nodes, 2 pruned nodes, max_depth=8\n",
      "[15:41:08] src/tree/updater_prune.cc:74: tree pruning end, 1 roots, 144 extra nodes, 2 pruned nodes, max_depth=8\n",
      "[15:41:08] src/tree/updater_prune.cc:74: tree pruning end, 1 roots, 172 extra nodes, 0 pruned nodes, max_depth=8\n",
      "[15:41:08] src/tree/updater_prune.cc:74: tree pruning end, 1 roots, 102 extra nodes, 0 pruned nodes, max_depth=8\n",
      "[15:41:08] src/tree/updater_prune.cc:74: tree pruning end, 1 roots, 96 extra nodes, 0 pruned nodes, max_depth=8\n",
      "[15:41:08] src/tree/updater_prune.cc:74: tree pruning end, 1 roots, 142 extra nodes, 0 pruned nodes, max_depth=8\n",
      "[15:41:08] src/tree/updater_prune.cc:74: tree pruning end, 1 roots, 92 extra nodes, 0 pruned nodes, max_depth=8\n",
      "[15:41:08] src/tree/updater_prune.cc:74: tree pruning end, 1 roots, 144 extra nodes, 0 pruned nodes, max_depth=8\n",
      "[15:41:08] src/tree/updater_prune.cc:74: tree pruning end, 1 roots, 80 extra nodes, 0 pruned nodes, max_depth=8\n",
      "[15:41:08] src/tree/updater_prune.cc:74: tree pruning end, 1 roots, 114 extra nodes, 0 pruned nodes, max_depth=8\n",
      "[15:41:08] src/tree/updater_prune.cc:74: tree pruning end, 1 roots, 116 extra nodes, 2 pruned nodes, max_depth=8\n",
      "[15:41:08] src/tree/updater_prune.cc:74: tree pruning end, 1 roots, 146 extra nodes, 0 pruned nodes, max_depth=8\n",
      "[15:41:08] src/tree/updater_prune.cc:74: tree pruning end, 1 roots, 110 extra nodes, 0 pruned nodes, max_depth=8\n",
      "[15:41:09] src/tree/updater_prune.cc:74: tree pruning end, 1 roots, 114 extra nodes, 0 pruned nodes, max_depth=8\n",
      "[15:41:09] src/tree/updater_prune.cc:74: tree pruning end, 1 roots, 122 extra nodes, 0 pruned nodes, max_depth=8\n",
      "[15:41:09] src/tree/updater_prune.cc:74: tree pruning end, 1 roots, 94 extra nodes, 2 pruned nodes, max_depth=8\n",
      "[15:41:09] src/tree/updater_prune.cc:74: tree pruning end, 1 roots, 136 extra nodes, 2 pruned nodes, max_depth=8\n",
      "[15:41:09] src/tree/updater_prune.cc:74: tree pruning end, 1 roots, 134 extra nodes, 0 pruned nodes, max_depth=8\n",
      "[15:41:09] src/tree/updater_prune.cc:74: tree pruning end, 1 roots, 150 extra nodes, 0 pruned nodes, max_depth=8\n",
      "[15:41:09] src/tree/updater_prune.cc:74: tree pruning end, 1 roots, 114 extra nodes, 0 pruned nodes, max_depth=8\n",
      "[15:41:09] src/tree/updater_prune.cc:74: tree pruning end, 1 roots, 96 extra nodes, 0 pruned nodes, max_depth=8\n",
      "[15:41:09] src/tree/updater_prune.cc:74: tree pruning end, 1 roots, 146 extra nodes, 0 pruned nodes, max_depth=8\n",
      "[15:41:09] src/tree/updater_prune.cc:74: tree pruning end, 1 roots, 128 extra nodes, 2 pruned nodes, max_depth=8\n",
      "[15:41:09] src/tree/updater_prune.cc:74: tree pruning end, 1 roots, 172 extra nodes, 0 pruned nodes, max_depth=8\n",
      "[15:41:09] src/tree/updater_prune.cc:74: tree pruning end, 1 roots, 106 extra nodes, 0 pruned nodes, max_depth=8\n",
      "[15:41:09] src/tree/updater_prune.cc:74: tree pruning end, 1 roots, 106 extra nodes, 0 pruned nodes, max_depth=8\n",
      "[15:41:09] src/tree/updater_prune.cc:74: tree pruning end, 1 roots, 114 extra nodes, 0 pruned nodes, max_depth=8\n",
      "[15:41:09] src/tree/updater_prune.cc:74: tree pruning end, 1 roots, 108 extra nodes, 0 pruned nodes, max_depth=8\n",
      "[15:41:09] src/tree/updater_prune.cc:74: tree pruning end, 1 roots, 156 extra nodes, 0 pruned nodes, max_depth=8\n",
      "[15:41:09] src/tree/updater_prune.cc:74: tree pruning end, 1 roots, 144 extra nodes, 0 pruned nodes, max_depth=8\n",
      "[15:41:09] src/tree/updater_prune.cc:74: tree pruning end, 1 roots, 124 extra nodes, 0 pruned nodes, max_depth=8\n",
      "[15:41:09] src/tree/updater_prune.cc:74: tree pruning end, 1 roots, 150 extra nodes, 0 pruned nodes, max_depth=8\n",
      "[15:41:09] src/tree/updater_prune.cc:74: tree pruning end, 1 roots, 110 extra nodes, 0 pruned nodes, max_depth=8\n",
      "[15:41:09] src/tree/updater_prune.cc:74: tree pruning end, 1 roots, 180 extra nodes, 0 pruned nodes, max_depth=8\n",
      "[15:41:09] src/tree/updater_prune.cc:74: tree pruning end, 1 roots, 102 extra nodes, 0 pruned nodes, max_depth=8\n",
      "[15:41:09] src/tree/updater_prune.cc:74: tree pruning end, 1 roots, 136 extra nodes, 0 pruned nodes, max_depth=8\n",
      "[15:41:09] src/tree/updater_prune.cc:74: tree pruning end, 1 roots, 134 extra nodes, 0 pruned nodes, max_depth=8\n",
      "[15:41:09] src/tree/updater_prune.cc:74: tree pruning end, 1 roots, 142 extra nodes, 2 pruned nodes, max_depth=8\n",
      "[15:41:09] src/tree/updater_prune.cc:74: tree pruning end, 1 roots, 62 extra nodes, 2 pruned nodes, max_depth=8\n",
      "[15:41:09] src/tree/updater_prune.cc:74: tree pruning end, 1 roots, 106 extra nodes, 0 pruned nodes, max_depth=8\n",
      "[15:41:09] src/tree/updater_prune.cc:74: tree pruning end, 1 roots, 144 extra nodes, 4 pruned nodes, max_depth=8\n",
      "[15:41:09] src/tree/updater_prune.cc:74: tree pruning end, 1 roots, 168 extra nodes, 2 pruned nodes, max_depth=8\n",
      "[15:41:09] src/tree/updater_prune.cc:74: tree pruning end, 1 roots, 106 extra nodes, 0 pruned nodes, max_depth=8\n",
      "[15:41:09] src/tree/updater_prune.cc:74: tree pruning end, 1 roots, 164 extra nodes, 0 pruned nodes, max_depth=8\n",
      "[15:41:09] src/tree/updater_prune.cc:74: tree pruning end, 1 roots, 144 extra nodes, 2 pruned nodes, max_depth=8\n",
      "[15:41:09] src/tree/updater_prune.cc:74: tree pruning end, 1 roots, 80 extra nodes, 0 pruned nodes, max_depth=8\n",
      "[15:41:09] src/tree/updater_prune.cc:74: tree pruning end, 1 roots, 146 extra nodes, 0 pruned nodes, max_depth=8\n",
      "[15:41:09] src/tree/updater_prune.cc:74: tree pruning end, 1 roots, 134 extra nodes, 0 pruned nodes, max_depth=8\n",
      "[15:41:09] src/tree/updater_prune.cc:74: tree pruning end, 1 roots, 106 extra nodes, 0 pruned nodes, max_depth=8\n",
      "[15:41:09] src/tree/updater_prune.cc:74: tree pruning end, 1 roots, 84 extra nodes, 2 pruned nodes, max_depth=8\n",
      "[15:41:09] src/tree/updater_prune.cc:74: tree pruning end, 1 roots, 144 extra nodes, 0 pruned nodes, max_depth=8\n",
      "[15:41:09] src/tree/updater_prune.cc:74: tree pruning end, 1 roots, 156 extra nodes, 0 pruned nodes, max_depth=8\n",
      "[15:41:09] src/tree/updater_prune.cc:74: tree pruning end, 1 roots, 150 extra nodes, 0 pruned nodes, max_depth=8\n",
      "[15:41:10] src/tree/updater_prune.cc:74: tree pruning end, 1 roots, 148 extra nodes, 0 pruned nodes, max_depth=8\n",
      "[15:41:10] src/tree/updater_prune.cc:74: tree pruning end, 1 roots, 124 extra nodes, 0 pruned nodes, max_depth=8\n",
      "[15:41:10] src/tree/updater_prune.cc:74: tree pruning end, 1 roots, 158 extra nodes, 0 pruned nodes, max_depth=8\n",
      "[15:41:10] src/tree/updater_prune.cc:74: tree pruning end, 1 roots, 116 extra nodes, 0 pruned nodes, max_depth=8\n",
      "[15:41:10] src/tree/updater_prune.cc:74: tree pruning end, 1 roots, 116 extra nodes, 0 pruned nodes, max_depth=8\n",
      "[15:41:10] src/tree/updater_prune.cc:74: tree pruning end, 1 roots, 110 extra nodes, 0 pruned nodes, max_depth=8\n",
      "[15:41:10] src/tree/updater_prune.cc:74: tree pruning end, 1 roots, 106 extra nodes, 0 pruned nodes, max_depth=8\n",
      "[15:41:10] src/tree/updater_prune.cc:74: tree pruning end, 1 roots, 148 extra nodes, 0 pruned nodes, max_depth=8\n",
      "[15:41:10] src/tree/updater_prune.cc:74: tree pruning end, 1 roots, 104 extra nodes, 0 pruned nodes, max_depth=8\n",
      "[15:41:10] src/tree/updater_prune.cc:74: tree pruning end, 1 roots, 90 extra nodes, 0 pruned nodes, max_depth=8\n",
      "[15:41:10] src/tree/updater_prune.cc:74: tree pruning end, 1 roots, 122 extra nodes, 0 pruned nodes, max_depth=8\n",
      "[15:41:10] src/tree/updater_prune.cc:74: tree pruning end, 1 roots, 96 extra nodes, 0 pruned nodes, max_depth=8\n",
      "[15:41:10] src/tree/updater_prune.cc:74: tree pruning end, 1 roots, 112 extra nodes, 0 pruned nodes, max_depth=8\n",
      "[15:41:10] src/tree/updater_prune.cc:74: tree pruning end, 1 roots, 164 extra nodes, 2 pruned nodes, max_depth=8\n",
      "[15:41:10] src/tree/updater_prune.cc:74: tree pruning end, 1 roots, 94 extra nodes, 0 pruned nodes, max_depth=8\n",
      "[15:41:10] src/tree/updater_prune.cc:74: tree pruning end, 1 roots, 104 extra nodes, 0 pruned nodes, max_depth=8\n",
      "[15:41:10] src/tree/updater_prune.cc:74: tree pruning end, 1 roots, 104 extra nodes, 0 pruned nodes, max_depth=8\n",
      "[15:41:10] src/tree/updater_prune.cc:74: tree pruning end, 1 roots, 114 extra nodes, 0 pruned nodes, max_depth=8\n",
      "[15:41:10] src/tree/updater_prune.cc:74: tree pruning end, 1 roots, 210 extra nodes, 4 pruned nodes, max_depth=8\n",
      "[15:41:10] src/tree/updater_prune.cc:74: tree pruning end, 1 roots, 88 extra nodes, 0 pruned nodes, max_depth=8\n",
      "[15:41:10] src/tree/updater_prune.cc:74: tree pruning end, 1 roots, 162 extra nodes, 0 pruned nodes, max_depth=8\n",
      "[15:41:10] src/tree/updater_prune.cc:74: tree pruning end, 1 roots, 192 extra nodes, 0 pruned nodes, max_depth=8\n",
      "[15:41:10] src/tree/updater_prune.cc:74: tree pruning end, 1 roots, 110 extra nodes, 2 pruned nodes, max_depth=8\n",
      "[15:41:10] src/tree/updater_prune.cc:74: tree pruning end, 1 roots, 120 extra nodes, 0 pruned nodes, max_depth=8\n",
      "[15:41:10] src/tree/updater_prune.cc:74: tree pruning end, 1 roots, 110 extra nodes, 0 pruned nodes, max_depth=8\n",
      "[15:41:10] src/tree/updater_prune.cc:74: tree pruning end, 1 roots, 158 extra nodes, 2 pruned nodes, max_depth=8\n",
      "[15:41:10] src/tree/updater_prune.cc:74: tree pruning end, 1 roots, 142 extra nodes, 0 pruned nodes, max_depth=8\n",
      "[15:41:10] src/tree/updater_prune.cc:74: tree pruning end, 1 roots, 100 extra nodes, 0 pruned nodes, max_depth=8\n",
      "[15:41:10] src/tree/updater_prune.cc:74: tree pruning end, 1 roots, 142 extra nodes, 0 pruned nodes, max_depth=8\n",
      "[15:41:10] src/tree/updater_prune.cc:74: tree pruning end, 1 roots, 138 extra nodes, 0 pruned nodes, max_depth=8\n",
      "[15:41:10] src/tree/updater_prune.cc:74: tree pruning end, 1 roots, 172 extra nodes, 0 pruned nodes, max_depth=8\n",
      "[15:41:10] src/tree/updater_prune.cc:74: tree pruning end, 1 roots, 156 extra nodes, 0 pruned nodes, max_depth=8\n",
      "[15:41:10] src/tree/updater_prune.cc:74: tree pruning end, 1 roots, 132 extra nodes, 0 pruned nodes, max_depth=8\n",
      "[15:41:10] src/tree/updater_prune.cc:74: tree pruning end, 1 roots, 68 extra nodes, 0 pruned nodes, max_depth=8\n",
      "[15:41:10] src/tree/updater_prune.cc:74: tree pruning end, 1 roots, 162 extra nodes, 0 pruned nodes, max_depth=8\n",
      "[15:41:10] src/tree/updater_prune.cc:74: tree pruning end, 1 roots, 146 extra nodes, 2 pruned nodes, max_depth=8\n",
      "[15:41:10] src/tree/updater_prune.cc:74: tree pruning end, 1 roots, 96 extra nodes, 0 pruned nodes, max_depth=8\n",
      "[15:41:10] src/tree/updater_prune.cc:74: tree pruning end, 1 roots, 180 extra nodes, 0 pruned nodes, max_depth=8\n",
      "[15:41:10] src/tree/updater_prune.cc:74: tree pruning end, 1 roots, 164 extra nodes, 2 pruned nodes, max_depth=8\n",
      "[15:41:10] src/tree/updater_prune.cc:74: tree pruning end, 1 roots, 174 extra nodes, 0 pruned nodes, max_depth=8\n",
      "[15:41:10] src/tree/updater_prune.cc:74: tree pruning end, 1 roots, 190 extra nodes, 0 pruned nodes, max_depth=8\n",
      "[15:41:11] src/tree/updater_prune.cc:74: tree pruning end, 1 roots, 102 extra nodes, 0 pruned nodes, max_depth=8\n",
      "[15:41:11] src/tree/updater_prune.cc:74: tree pruning end, 1 roots, 120 extra nodes, 0 pruned nodes, max_depth=8\n",
      "[15:41:11] src/tree/updater_prune.cc:74: tree pruning end, 1 roots, 104 extra nodes, 0 pruned nodes, max_depth=8\n",
      "[15:41:11] src/tree/updater_prune.cc:74: tree pruning end, 1 roots, 134 extra nodes, 0 pruned nodes, max_depth=8\n",
      "[15:41:11] src/tree/updater_prune.cc:74: tree pruning end, 1 roots, 172 extra nodes, 0 pruned nodes, max_depth=8\n",
      "[15:41:11] src/tree/updater_prune.cc:74: tree pruning end, 1 roots, 132 extra nodes, 2 pruned nodes, max_depth=8\n",
      "[15:41:11] src/tree/updater_prune.cc:74: tree pruning end, 1 roots, 68 extra nodes, 0 pruned nodes, max_depth=8\n",
      "[15:41:11] src/tree/updater_prune.cc:74: tree pruning end, 1 roots, 108 extra nodes, 0 pruned nodes, max_depth=8\n"
     ]
    },
    {
     "output_type": "stream",
     "name": "stdout",
     "text": [
      "[100]\ttrain-auc:0.919763\tvalid-auc:0.607303\ttrain-precision:0.872539\tvalid-precision:0.586246\n",
      "Stopping. Best iteration:\n",
      "[0]\ttrain-auc:0.686505\tvalid-auc:0.569154\ttrain-precision:0.524352\tvalid-precision:0.409245\n",
      "\n",
      "epoch 2 precision : 0.5836012861736335\n",
      "[0]\ttrain-auc:0.699667\tvalid-auc:0.495397\ttrain-precision:0.709808\tvalid-precision:0.555357\n",
      "Multiple eval metrics have been passed: 'valid-precision' will be used for early stopping.\n",
      "\n",
      "Will train until valid-precision hasn't improved in 100 rounds.\n"
     ]
    },
    {
     "output_type": "stream",
     "name": "stderr",
     "text": [
      "[15:41:11] src/tree/updater_prune.cc:74: tree pruning end, 1 roots, 72 extra nodes, 0 pruned nodes, max_depth=8\n",
      "[15:41:11] src/tree/updater_prune.cc:74: tree pruning end, 1 roots, 172 extra nodes, 0 pruned nodes, max_depth=8\n",
      "[15:41:11] src/tree/updater_prune.cc:74: tree pruning end, 1 roots, 154 extra nodes, 0 pruned nodes, max_depth=8\n",
      "[15:41:11] src/tree/updater_prune.cc:74: tree pruning end, 1 roots, 138 extra nodes, 0 pruned nodes, max_depth=8\n",
      "[15:41:11] src/tree/updater_prune.cc:74: tree pruning end, 1 roots, 140 extra nodes, 0 pruned nodes, max_depth=8\n",
      "[15:41:11] src/tree/updater_prune.cc:74: tree pruning end, 1 roots, 104 extra nodes, 0 pruned nodes, max_depth=8\n",
      "[15:41:11] src/tree/updater_prune.cc:74: tree pruning end, 1 roots, 122 extra nodes, 0 pruned nodes, max_depth=8\n",
      "[15:41:11] src/tree/updater_prune.cc:74: tree pruning end, 1 roots, 180 extra nodes, 0 pruned nodes, max_depth=8\n",
      "[15:41:11] src/tree/updater_prune.cc:74: tree pruning end, 1 roots, 102 extra nodes, 0 pruned nodes, max_depth=8\n",
      "[15:41:11] src/tree/updater_prune.cc:74: tree pruning end, 1 roots, 142 extra nodes, 4 pruned nodes, max_depth=8\n",
      "[15:41:11] src/tree/updater_prune.cc:74: tree pruning end, 1 roots, 142 extra nodes, 0 pruned nodes, max_depth=8\n",
      "[15:41:11] src/tree/updater_prune.cc:74: tree pruning end, 1 roots, 174 extra nodes, 0 pruned nodes, max_depth=8\n",
      "[15:41:11] src/tree/updater_prune.cc:74: tree pruning end, 1 roots, 176 extra nodes, 2 pruned nodes, max_depth=8\n",
      "[15:41:11] src/tree/updater_prune.cc:74: tree pruning end, 1 roots, 102 extra nodes, 0 pruned nodes, max_depth=8\n",
      "[15:41:11] src/tree/updater_prune.cc:74: tree pruning end, 1 roots, 170 extra nodes, 0 pruned nodes, max_depth=8\n",
      "[15:41:11] src/tree/updater_prune.cc:74: tree pruning end, 1 roots, 152 extra nodes, 2 pruned nodes, max_depth=8\n",
      "[15:41:11] src/tree/updater_prune.cc:74: tree pruning end, 1 roots, 170 extra nodes, 2 pruned nodes, max_depth=8\n",
      "[15:41:11] src/tree/updater_prune.cc:74: tree pruning end, 1 roots, 144 extra nodes, 0 pruned nodes, max_depth=8\n",
      "[15:41:11] src/tree/updater_prune.cc:74: tree pruning end, 1 roots, 126 extra nodes, 2 pruned nodes, max_depth=8\n",
      "[15:41:11] src/tree/updater_prune.cc:74: tree pruning end, 1 roots, 126 extra nodes, 0 pruned nodes, max_depth=8\n",
      "[15:41:11] src/tree/updater_prune.cc:74: tree pruning end, 1 roots, 156 extra nodes, 0 pruned nodes, max_depth=8\n",
      "[15:41:11] src/tree/updater_prune.cc:74: tree pruning end, 1 roots, 102 extra nodes, 0 pruned nodes, max_depth=8\n",
      "[15:41:11] src/tree/updater_prune.cc:74: tree pruning end, 1 roots, 130 extra nodes, 0 pruned nodes, max_depth=8\n",
      "[15:41:11] src/tree/updater_prune.cc:74: tree pruning end, 1 roots, 134 extra nodes, 2 pruned nodes, max_depth=8\n",
      "[15:41:11] src/tree/updater_prune.cc:74: tree pruning end, 1 roots, 170 extra nodes, 0 pruned nodes, max_depth=8\n",
      "[15:41:11] src/tree/updater_prune.cc:74: tree pruning end, 1 roots, 112 extra nodes, 0 pruned nodes, max_depth=8\n",
      "[15:41:11] src/tree/updater_prune.cc:74: tree pruning end, 1 roots, 132 extra nodes, 0 pruned nodes, max_depth=8\n",
      "[15:41:11] src/tree/updater_prune.cc:74: tree pruning end, 1 roots, 140 extra nodes, 0 pruned nodes, max_depth=8\n",
      "[15:41:11] src/tree/updater_prune.cc:74: tree pruning end, 1 roots, 102 extra nodes, 2 pruned nodes, max_depth=8\n",
      "[15:41:11] src/tree/updater_prune.cc:74: tree pruning end, 1 roots, 150 extra nodes, 2 pruned nodes, max_depth=8\n",
      "[15:41:12] src/tree/updater_prune.cc:74: tree pruning end, 1 roots, 142 extra nodes, 0 pruned nodes, max_depth=8\n",
      "[15:41:12] src/tree/updater_prune.cc:74: tree pruning end, 1 roots, 180 extra nodes, 2 pruned nodes, max_depth=8\n",
      "[15:41:12] src/tree/updater_prune.cc:74: tree pruning end, 1 roots, 156 extra nodes, 0 pruned nodes, max_depth=8\n",
      "[15:41:12] src/tree/updater_prune.cc:74: tree pruning end, 1 roots, 152 extra nodes, 0 pruned nodes, max_depth=8\n",
      "[15:41:12] src/tree/updater_prune.cc:74: tree pruning end, 1 roots, 122 extra nodes, 0 pruned nodes, max_depth=8\n",
      "[15:41:12] src/tree/updater_prune.cc:74: tree pruning end, 1 roots, 90 extra nodes, 0 pruned nodes, max_depth=8\n",
      "[15:41:12] src/tree/updater_prune.cc:74: tree pruning end, 1 roots, 116 extra nodes, 0 pruned nodes, max_depth=8\n",
      "[15:41:12] src/tree/updater_prune.cc:74: tree pruning end, 1 roots, 144 extra nodes, 0 pruned nodes, max_depth=8\n",
      "[15:41:12] src/tree/updater_prune.cc:74: tree pruning end, 1 roots, 130 extra nodes, 0 pruned nodes, max_depth=8\n",
      "[15:41:12] src/tree/updater_prune.cc:74: tree pruning end, 1 roots, 150 extra nodes, 0 pruned nodes, max_depth=8\n",
      "[15:41:12] src/tree/updater_prune.cc:74: tree pruning end, 1 roots, 104 extra nodes, 0 pruned nodes, max_depth=8\n",
      "[15:41:12] src/tree/updater_prune.cc:74: tree pruning end, 1 roots, 124 extra nodes, 0 pruned nodes, max_depth=8\n",
      "[15:41:12] src/tree/updater_prune.cc:74: tree pruning end, 1 roots, 158 extra nodes, 2 pruned nodes, max_depth=8\n",
      "[15:41:12] src/tree/updater_prune.cc:74: tree pruning end, 1 roots, 178 extra nodes, 0 pruned nodes, max_depth=8\n",
      "[15:41:12] src/tree/updater_prune.cc:74: tree pruning end, 1 roots, 120 extra nodes, 0 pruned nodes, max_depth=8\n",
      "[15:41:12] src/tree/updater_prune.cc:74: tree pruning end, 1 roots, 118 extra nodes, 0 pruned nodes, max_depth=8\n",
      "[15:41:12] src/tree/updater_prune.cc:74: tree pruning end, 1 roots, 88 extra nodes, 0 pruned nodes, max_depth=8\n",
      "[15:41:12] src/tree/updater_prune.cc:74: tree pruning end, 1 roots, 142 extra nodes, 0 pruned nodes, max_depth=8\n",
      "[15:41:12] src/tree/updater_prune.cc:74: tree pruning end, 1 roots, 114 extra nodes, 0 pruned nodes, max_depth=8\n",
      "[15:41:12] src/tree/updater_prune.cc:74: tree pruning end, 1 roots, 168 extra nodes, 0 pruned nodes, max_depth=8\n",
      "[15:41:12] src/tree/updater_prune.cc:74: tree pruning end, 1 roots, 90 extra nodes, 0 pruned nodes, max_depth=8\n",
      "[15:41:12] src/tree/updater_prune.cc:74: tree pruning end, 1 roots, 104 extra nodes, 0 pruned nodes, max_depth=8\n",
      "[15:41:12] src/tree/updater_prune.cc:74: tree pruning end, 1 roots, 118 extra nodes, 0 pruned nodes, max_depth=8\n",
      "[15:41:12] src/tree/updater_prune.cc:74: tree pruning end, 1 roots, 112 extra nodes, 2 pruned nodes, max_depth=8\n",
      "[15:41:12] src/tree/updater_prune.cc:74: tree pruning end, 1 roots, 100 extra nodes, 2 pruned nodes, max_depth=8\n",
      "[15:41:12] src/tree/updater_prune.cc:74: tree pruning end, 1 roots, 140 extra nodes, 0 pruned nodes, max_depth=8\n",
      "[15:41:12] src/tree/updater_prune.cc:74: tree pruning end, 1 roots, 136 extra nodes, 0 pruned nodes, max_depth=8\n",
      "[15:41:12] src/tree/updater_prune.cc:74: tree pruning end, 1 roots, 112 extra nodes, 2 pruned nodes, max_depth=8\n",
      "[15:41:12] src/tree/updater_prune.cc:74: tree pruning end, 1 roots, 162 extra nodes, 0 pruned nodes, max_depth=8\n",
      "[15:41:12] src/tree/updater_prune.cc:74: tree pruning end, 1 roots, 130 extra nodes, 2 pruned nodes, max_depth=8\n",
      "[15:41:12] src/tree/updater_prune.cc:74: tree pruning end, 1 roots, 176 extra nodes, 2 pruned nodes, max_depth=8\n",
      "[15:41:12] src/tree/updater_prune.cc:74: tree pruning end, 1 roots, 116 extra nodes, 0 pruned nodes, max_depth=8\n",
      "[15:41:12] src/tree/updater_prune.cc:74: tree pruning end, 1 roots, 152 extra nodes, 0 pruned nodes, max_depth=8\n",
      "[15:41:12] src/tree/updater_prune.cc:74: tree pruning end, 1 roots, 170 extra nodes, 0 pruned nodes, max_depth=8\n",
      "[15:41:12] src/tree/updater_prune.cc:74: tree pruning end, 1 roots, 142 extra nodes, 2 pruned nodes, max_depth=8\n",
      "[15:41:12] src/tree/updater_prune.cc:74: tree pruning end, 1 roots, 134 extra nodes, 0 pruned nodes, max_depth=8\n",
      "[15:41:13] src/tree/updater_prune.cc:74: tree pruning end, 1 roots, 168 extra nodes, 0 pruned nodes, max_depth=8\n",
      "[15:41:13] src/tree/updater_prune.cc:74: tree pruning end, 1 roots, 62 extra nodes, 2 pruned nodes, max_depth=8\n",
      "[15:41:13] src/tree/updater_prune.cc:74: tree pruning end, 1 roots, 182 extra nodes, 0 pruned nodes, max_depth=8\n",
      "[15:41:13] src/tree/updater_prune.cc:74: tree pruning end, 1 roots, 126 extra nodes, 0 pruned nodes, max_depth=8\n"
     ]
    },
    {
     "output_type": "error",
     "ename": "KeyboardInterrupt",
     "evalue": "",
     "traceback": [
      "\u001b[0;31m---------------------------------------------------------------------------\u001b[0m",
      "\u001b[0;31mKeyboardInterrupt\u001b[0m                         Traceback (most recent call last)",
      "\u001b[0;32m/tmp/ipykernel_68398/1170347467.py\u001b[0m in \u001b[0;36m<module>\u001b[0;34m\u001b[0m\n\u001b[0;32m----> 1\u001b[0;31m \u001b[0ma\u001b[0m \u001b[0;34m=\u001b[0m \u001b[0mxgb_classification\u001b[0m\u001b[0;34m(\u001b[0m\u001b[0mX_resampled\u001b[0m\u001b[0;34m,\u001b[0m \u001b[0mval_X\u001b[0m\u001b[0;34m[\u001b[0m\u001b[0mfeat\u001b[0m\u001b[0;34m]\u001b[0m\u001b[0;34m,\u001b[0m \u001b[0mfeat\u001b[0m\u001b[0;34m)\u001b[0m\u001b[0;34m\u001b[0m\u001b[0;34m\u001b[0m\u001b[0m\n\u001b[0m",
      "\u001b[0;32m~/ipsc/classification_model.py\u001b[0m in \u001b[0;36mxgb_classification\u001b[0;34m(X, test, feat, k)\u001b[0m\n\u001b[1;32m    245\u001b[0m         \u001b[0mevals\u001b[0m \u001b[0;34m=\u001b[0m \u001b[0;34m[\u001b[0m\u001b[0;34m(\u001b[0m\u001b[0mdtrain\u001b[0m\u001b[0;34m,\u001b[0m \u001b[0;34m'train'\u001b[0m\u001b[0;34m)\u001b[0m\u001b[0;34m,\u001b[0m \u001b[0;34m(\u001b[0m\u001b[0mdtest\u001b[0m\u001b[0;34m,\u001b[0m \u001b[0;34m'valid'\u001b[0m\u001b[0;34m)\u001b[0m\u001b[0;34m]\u001b[0m\u001b[0;34m\u001b[0m\u001b[0;34m\u001b[0m\u001b[0m\n\u001b[1;32m    246\u001b[0m \u001b[0;34m\u001b[0m\u001b[0m\n\u001b[0;32m--> 247\u001b[0;31m         xgb_model = xgb.train(params, dtrain, num_boost_round=2000,\n\u001b[0m\u001b[1;32m    248\u001b[0m                               \u001b[0mevals\u001b[0m\u001b[0;34m=\u001b[0m\u001b[0mevals\u001b[0m\u001b[0;34m,\u001b[0m \u001b[0mearly_stopping_rounds\u001b[0m\u001b[0;34m=\u001b[0m\u001b[0;36m100\u001b[0m\u001b[0;34m,\u001b[0m\u001b[0;34m\u001b[0m\u001b[0;34m\u001b[0m\u001b[0m\n\u001b[1;32m    249\u001b[0m                               verbose_eval=100, feval=xgb_precision)\n",
      "\u001b[0;32m~/.conda/envs/rl/lib/python3.8/site-packages/xgboost/training.py\u001b[0m in \u001b[0;36mtrain\u001b[0;34m(params, dtrain, num_boost_round, evals, obj, feval, maximize, early_stopping_rounds, evals_result, verbose_eval, xgb_model, callbacks, learning_rates)\u001b[0m\n\u001b[1;32m    198\u001b[0m         \u001b[0mcallbacks\u001b[0m\u001b[0;34m.\u001b[0m\u001b[0mappend\u001b[0m\u001b[0;34m(\u001b[0m\u001b[0mcallback\u001b[0m\u001b[0;34m.\u001b[0m\u001b[0mreset_learning_rate\u001b[0m\u001b[0;34m(\u001b[0m\u001b[0mlearning_rates\u001b[0m\u001b[0;34m)\u001b[0m\u001b[0;34m)\u001b[0m\u001b[0;34m\u001b[0m\u001b[0;34m\u001b[0m\u001b[0m\n\u001b[1;32m    199\u001b[0m \u001b[0;34m\u001b[0m\u001b[0m\n\u001b[0;32m--> 200\u001b[0;31m     return _train_internal(params, dtrain,\n\u001b[0m\u001b[1;32m    201\u001b[0m                            \u001b[0mnum_boost_round\u001b[0m\u001b[0;34m=\u001b[0m\u001b[0mnum_boost_round\u001b[0m\u001b[0;34m,\u001b[0m\u001b[0;34m\u001b[0m\u001b[0;34m\u001b[0m\u001b[0m\n\u001b[1;32m    202\u001b[0m                            \u001b[0mevals\u001b[0m\u001b[0;34m=\u001b[0m\u001b[0mevals\u001b[0m\u001b[0;34m,\u001b[0m\u001b[0;34m\u001b[0m\u001b[0;34m\u001b[0m\u001b[0m\n",
      "\u001b[0;32m~/.conda/envs/rl/lib/python3.8/site-packages/xgboost/training.py\u001b[0m in \u001b[0;36m_train_internal\u001b[0;34m(params, dtrain, num_boost_round, evals, obj, feval, xgb_model, callbacks)\u001b[0m\n\u001b[1;32m     72\u001b[0m         \u001b[0;31m# Skip the first update if it is a recovery step.\u001b[0m\u001b[0;34m\u001b[0m\u001b[0;34m\u001b[0m\u001b[0;34m\u001b[0m\u001b[0m\n\u001b[1;32m     73\u001b[0m         \u001b[0;32mif\u001b[0m \u001b[0mversion\u001b[0m \u001b[0;34m%\u001b[0m \u001b[0;36m2\u001b[0m \u001b[0;34m==\u001b[0m \u001b[0;36m0\u001b[0m\u001b[0;34m:\u001b[0m\u001b[0;34m\u001b[0m\u001b[0;34m\u001b[0m\u001b[0m\n\u001b[0;32m---> 74\u001b[0;31m             \u001b[0mbst\u001b[0m\u001b[0;34m.\u001b[0m\u001b[0mupdate\u001b[0m\u001b[0;34m(\u001b[0m\u001b[0mdtrain\u001b[0m\u001b[0;34m,\u001b[0m \u001b[0mi\u001b[0m\u001b[0;34m,\u001b[0m \u001b[0mobj\u001b[0m\u001b[0;34m)\u001b[0m\u001b[0;34m\u001b[0m\u001b[0;34m\u001b[0m\u001b[0m\n\u001b[0m\u001b[1;32m     75\u001b[0m             \u001b[0mbst\u001b[0m\u001b[0;34m.\u001b[0m\u001b[0msave_rabit_checkpoint\u001b[0m\u001b[0;34m(\u001b[0m\u001b[0;34m)\u001b[0m\u001b[0;34m\u001b[0m\u001b[0;34m\u001b[0m\u001b[0m\n\u001b[1;32m     76\u001b[0m             \u001b[0mversion\u001b[0m \u001b[0;34m+=\u001b[0m \u001b[0;36m1\u001b[0m\u001b[0;34m\u001b[0m\u001b[0;34m\u001b[0m\u001b[0m\n",
      "\u001b[0;32m~/.conda/envs/rl/lib/python3.8/site-packages/xgboost/core.py\u001b[0m in \u001b[0;36mupdate\u001b[0;34m(self, dtrain, iteration, fobj)\u001b[0m\n\u001b[1;32m    892\u001b[0m \u001b[0;34m\u001b[0m\u001b[0m\n\u001b[1;32m    893\u001b[0m         \u001b[0;32mif\u001b[0m \u001b[0mfobj\u001b[0m \u001b[0;32mis\u001b[0m \u001b[0;32mNone\u001b[0m\u001b[0;34m:\u001b[0m\u001b[0;34m\u001b[0m\u001b[0;34m\u001b[0m\u001b[0m\n\u001b[0;32m--> 894\u001b[0;31m             _check_call(_LIB.XGBoosterUpdateOneIter(self.handle, ctypes.c_int(iteration),\n\u001b[0m\u001b[1;32m    895\u001b[0m                                                     dtrain.handle))\n\u001b[1;32m    896\u001b[0m         \u001b[0;32melse\u001b[0m\u001b[0;34m:\u001b[0m\u001b[0;34m\u001b[0m\u001b[0;34m\u001b[0m\u001b[0m\n",
      "\u001b[0;31mKeyboardInterrupt\u001b[0m: "
     ]
    }
   ],
   "metadata": {}
  },
  {
   "cell_type": "code",
   "execution_count": 67,
   "source": [
    "def confusion(x, data):\n",
    "    t = x\n",
    "    all_val = data\n",
    "    P = all_val[all_val['label'] == 1]\n",
    "    TP = all_val[(all_val['label'] == 1) & (all_val['label'] == t)]\n",
    "    FP = all_val[(all_val['label'] == 0) & (all_val['label'] != t)]\n",
    "    TP = TP[feat + ['no', 'label']]\n",
    "    FP = FP[feat + ['no', 'label']]\n",
    "\n",
    "    N = all_val[all_val['label'] == 0]\n",
    "    FN = all_val[(all_val['label'] == 1) & (all_val['label'] != t)]\n",
    "    TN = all_val[(all_val['label'] == 0) & (all_val['label'] == t)]\n",
    "    TN = TN[feat + ['no', 'label']]\n",
    "    FN = FN[feat + ['no', 'label']]\n",
    "    a, b =all_val[all_val['label']==1]['no'].drop_duplicates().shape[0], all_val[all_val['label']==0]['no'].drop_duplicates().shape[0]\n",
    "    print(all_val.shape)\n",
    "    print(TP.shape[0], FP.shape[0], TN.shape[0], FN.shape[0], a, b)\n",
    "    return TP, FP, TN, FN"
   ],
   "outputs": [],
   "metadata": {}
  },
  {
   "cell_type": "code",
   "execution_count": 69,
   "source": [
    "TP, FP, TN, FN = confusion(x, all_val)\n",
    "tp_no, fp_no = TP['no'].drop_duplicates(), FP['no'].drop_duplicates()\n",
    "tn_no, fn_no = TN['no'].drop_duplicates(), FN['no'].drop_duplicates()\n",
    "tp_no.shape[0], fp_no.shape[0], tn_no.shape[0], fn_no.shape[0]"
   ],
   "outputs": [
    {
     "output_type": "stream",
     "name": "stdout",
     "text": [
      "(8404, 25)\n",
      "3343 843 3359 859 249 511\n"
     ]
    },
    {
     "output_type": "execute_result",
     "data": {
      "text/plain": [
       "(237, 295, 479, 142)"
      ]
     },
     "metadata": {},
     "execution_count": 69
    }
   ],
   "metadata": {}
  },
  {
   "cell_type": "code",
   "execution_count": 74,
   "source": [
    "tp_ls = []\n",
    "for i in tp_no.index:\n",
    "    tp_ls.append(tp_no[i])\n",
    "fp_ls = []\n",
    "for i in fp_no.index:\n",
    "    fp_ls.append(fp_no[i])\n",
    "tn_ls = []\n",
    "for i in tn_no.index:\n",
    "    tn_ls.append(tn_no[i])\n",
    "fn_ls = []\n",
    "for i in fn_no.index:\n",
    "    fn_ls.append(fn_no[i])\n",
    "all_real_ls = []\n",
    "for i in all_real_no.index:\n",
    "    all_real_ls.append(all_real_no[i])\n",
    "val_ls = []\n",
    "for i in val_no.index:\n",
    "    val_ls.append(val_no[i])"
   ],
   "outputs": [],
   "metadata": {}
  },
  {
   "cell_type": "code",
   "execution_count": null,
   "source": [],
   "outputs": [],
   "metadata": {}
  },
  {
   "cell_type": "code",
   "execution_count": 75,
   "source": [
    "# 既被分为p也被分为n\n",
    "tp_fn = [i for i in tp_ls if i in fn_ls]\n",
    "len(tp_fn), len(tp_ls), len(fn_ls),"
   ],
   "outputs": [
    {
     "output_type": "execute_result",
     "data": {
      "text/plain": [
       "(130, 237, 142)"
      ]
     },
     "metadata": {},
     "execution_count": 75
    }
   ],
   "metadata": {}
  },
  {
   "cell_type": "code",
   "execution_count": 76,
   "source": [
    "# origin_data 中的val_X数据\n",
    "val_indf = origin_data[origin_data['no'].isin(all_real_no)][['no', 'len_trace']].drop_duplicates()"
   ],
   "outputs": [],
   "metadata": {}
  },
  {
   "cell_type": "code",
   "execution_count": 77,
   "source": [
    "val_indf_tp = val_indf[(val_indf['no'].isin(tp_ls)) & (~val_indf['no'].isin(tp_fn))]\n",
    "val_indf_tp['kind'] = 'TP'\n",
    "val_indf_fn = val_indf[(val_indf['no'].isin(fn_ls)) & (~val_indf['no'].isin(tp_fn))]\n",
    "val_indf_fn['kind'] = 'FN'\n",
    "# tp fn交集\n",
    "val_indf_in = val_indf[val_indf['no'].isin(tp_fn)]\n",
    "val_indf_in['kind'] = 'IN'\n",
    "plt_data = pd.concat([val_indf_tp, val_indf_fn, val_indf_in])"
   ],
   "outputs": [
    {
     "output_type": "stream",
     "name": "stderr",
     "text": [
      "/tmp/ipykernel_68398/3515738888.py:2: SettingWithCopyWarning: \n",
      "A value is trying to be set on a copy of a slice from a DataFrame.\n",
      "Try using .loc[row_indexer,col_indexer] = value instead\n",
      "\n",
      "See the caveats in the documentation: https://pandas.pydata.org/pandas-docs/stable/user_guide/indexing.html#returning-a-view-versus-a-copy\n",
      "  val_indf_tp['kind'] = 'TP'\n",
      "/tmp/ipykernel_68398/3515738888.py:4: SettingWithCopyWarning: \n",
      "A value is trying to be set on a copy of a slice from a DataFrame.\n",
      "Try using .loc[row_indexer,col_indexer] = value instead\n",
      "\n",
      "See the caveats in the documentation: https://pandas.pydata.org/pandas-docs/stable/user_guide/indexing.html#returning-a-view-versus-a-copy\n",
      "  val_indf_fn['kind'] = 'FN'\n",
      "/tmp/ipykernel_68398/3515738888.py:7: SettingWithCopyWarning: \n",
      "A value is trying to be set on a copy of a slice from a DataFrame.\n",
      "Try using .loc[row_indexer,col_indexer] = value instead\n",
      "\n",
      "See the caveats in the documentation: https://pandas.pydata.org/pandas-docs/stable/user_guide/indexing.html#returning-a-view-versus-a-copy\n",
      "  val_indf_in['kind'] = 'IN'\n"
     ]
    }
   ],
   "metadata": {}
  },
  {
   "cell_type": "code",
   "execution_count": 78,
   "source": [
    "from functools import cmp_to_key\n",
    "def cmp(a, b):\n",
    "    a = a.split('_')\n",
    "    b = b.split('_')\n",
    "    a1, a2 = int(a[0]), int(a[1])\n",
    "    b1, b2 = int(b[0]), int(b[1])\n",
    "    return a1-b1 if a2 == b2 else a2-b2\n",
    "all_real_no = sorted(all_real_no, key=cmp_to_key(cmp))"
   ],
   "outputs": [],
   "metadata": {}
  },
  {
   "cell_type": "code",
   "execution_count": 79,
   "source": [
    "val_indf_in.shape[0], val_indf_fn.shape[0], val_indf_tp.shape[0]"
   ],
   "outputs": [
    {
     "output_type": "execute_result",
     "data": {
      "text/plain": [
       "(130, 12, 107)"
      ]
     },
     "metadata": {},
     "execution_count": 79
    }
   ],
   "metadata": {}
  },
  {
   "cell_type": "code",
   "execution_count": 80,
   "source": [
    "plt_data['a1'] = plt_data['no'].apply(lambda x: int(x.split('_')[0]))\n",
    "plt_data['a2'] = plt_data['no'].apply(lambda x: int(x.split('_')[1]))\n",
    "plt_data = plt_data.sort_values(by=['a2', 'a1'],ascending=[True, True])\n",
    "plt_data.head()"
   ],
   "outputs": [
    {
     "output_type": "execute_result",
     "data": {
      "text/html": [
       "<div>\n",
       "<style scoped>\n",
       "    .dataframe tbody tr th:only-of-type {\n",
       "        vertical-align: middle;\n",
       "    }\n",
       "\n",
       "    .dataframe tbody tr th {\n",
       "        vertical-align: top;\n",
       "    }\n",
       "\n",
       "    .dataframe thead th {\n",
       "        text-align: right;\n",
       "    }\n",
       "</style>\n",
       "<table border=\"1\" class=\"dataframe\">\n",
       "  <thead>\n",
       "    <tr style=\"text-align: right;\">\n",
       "      <th></th>\n",
       "      <th>no</th>\n",
       "      <th>len_trace</th>\n",
       "      <th>kind</th>\n",
       "      <th>a1</th>\n",
       "      <th>a2</th>\n",
       "    </tr>\n",
       "  </thead>\n",
       "  <tbody>\n",
       "    <tr>\n",
       "      <th>3054</th>\n",
       "      <td>55_02_-1</td>\n",
       "      <td>31</td>\n",
       "      <td>IN</td>\n",
       "      <td>55</td>\n",
       "      <td>2</td>\n",
       "    </tr>\n",
       "    <tr>\n",
       "      <th>7142</th>\n",
       "      <td>272_02_-1</td>\n",
       "      <td>37</td>\n",
       "      <td>TP</td>\n",
       "      <td>272</td>\n",
       "      <td>2</td>\n",
       "    </tr>\n",
       "    <tr>\n",
       "      <th>11901</th>\n",
       "      <td>536_02_-1</td>\n",
       "      <td>76</td>\n",
       "      <td>IN</td>\n",
       "      <td>536</td>\n",
       "      <td>2</td>\n",
       "    </tr>\n",
       "    <tr>\n",
       "      <th>22685</th>\n",
       "      <td>1181_02_-1</td>\n",
       "      <td>89</td>\n",
       "      <td>IN</td>\n",
       "      <td>1181</td>\n",
       "      <td>2</td>\n",
       "    </tr>\n",
       "    <tr>\n",
       "      <th>22774</th>\n",
       "      <td>1182_02_-1</td>\n",
       "      <td>89</td>\n",
       "      <td>IN</td>\n",
       "      <td>1182</td>\n",
       "      <td>2</td>\n",
       "    </tr>\n",
       "  </tbody>\n",
       "</table>\n",
       "</div>"
      ],
      "text/plain": [
       "               no  len_trace kind    a1  a2\n",
       "3054     55_02_-1         31   IN    55   2\n",
       "7142    272_02_-1         37   TP   272   2\n",
       "11901   536_02_-1         76   IN   536   2\n",
       "22685  1181_02_-1         89   IN  1181   2\n",
       "22774  1182_02_-1         89   IN  1182   2"
      ]
     },
     "metadata": {},
     "execution_count": 80
    }
   ],
   "metadata": {}
  },
  {
   "cell_type": "code",
   "execution_count": 81,
   "source": [
    "plt_data.head()"
   ],
   "outputs": [
    {
     "output_type": "execute_result",
     "data": {
      "text/html": [
       "<div>\n",
       "<style scoped>\n",
       "    .dataframe tbody tr th:only-of-type {\n",
       "        vertical-align: middle;\n",
       "    }\n",
       "\n",
       "    .dataframe tbody tr th {\n",
       "        vertical-align: top;\n",
       "    }\n",
       "\n",
       "    .dataframe thead th {\n",
       "        text-align: right;\n",
       "    }\n",
       "</style>\n",
       "<table border=\"1\" class=\"dataframe\">\n",
       "  <thead>\n",
       "    <tr style=\"text-align: right;\">\n",
       "      <th></th>\n",
       "      <th>no</th>\n",
       "      <th>len_trace</th>\n",
       "      <th>kind</th>\n",
       "      <th>a1</th>\n",
       "      <th>a2</th>\n",
       "    </tr>\n",
       "  </thead>\n",
       "  <tbody>\n",
       "    <tr>\n",
       "      <th>3054</th>\n",
       "      <td>55_02_-1</td>\n",
       "      <td>31</td>\n",
       "      <td>IN</td>\n",
       "      <td>55</td>\n",
       "      <td>2</td>\n",
       "    </tr>\n",
       "    <tr>\n",
       "      <th>7142</th>\n",
       "      <td>272_02_-1</td>\n",
       "      <td>37</td>\n",
       "      <td>TP</td>\n",
       "      <td>272</td>\n",
       "      <td>2</td>\n",
       "    </tr>\n",
       "    <tr>\n",
       "      <th>11901</th>\n",
       "      <td>536_02_-1</td>\n",
       "      <td>76</td>\n",
       "      <td>IN</td>\n",
       "      <td>536</td>\n",
       "      <td>2</td>\n",
       "    </tr>\n",
       "    <tr>\n",
       "      <th>22685</th>\n",
       "      <td>1181_02_-1</td>\n",
       "      <td>89</td>\n",
       "      <td>IN</td>\n",
       "      <td>1181</td>\n",
       "      <td>2</td>\n",
       "    </tr>\n",
       "    <tr>\n",
       "      <th>22774</th>\n",
       "      <td>1182_02_-1</td>\n",
       "      <td>89</td>\n",
       "      <td>IN</td>\n",
       "      <td>1182</td>\n",
       "      <td>2</td>\n",
       "    </tr>\n",
       "  </tbody>\n",
       "</table>\n",
       "</div>"
      ],
      "text/plain": [
       "               no  len_trace kind    a1  a2\n",
       "3054     55_02_-1         31   IN    55   2\n",
       "7142    272_02_-1         37   TP   272   2\n",
       "11901   536_02_-1         76   IN   536   2\n",
       "22685  1181_02_-1         89   IN  1181   2\n",
       "22774  1182_02_-1         89   IN  1182   2"
      ]
     },
     "metadata": {},
     "execution_count": 81
    }
   ],
   "metadata": {}
  },
  {
   "cell_type": "code",
   "execution_count": 82,
   "source": [
    "plt.figure(figsize=(150, 25))\n",
    "ax = sns.barplot(x=plt_data['no'], y=plt_data[plt_data['kind'] == 'IN']['len_trace'], color='red')\n",
    "ax = sns.barplot(x=plt_data['no'], y=plt_data[plt_data['kind'] == 'TP']['len_trace'], color='green')\n",
    "ax = sns.barplot(x=plt_data['no'], y=plt_data[plt_data['kind'] == 'FN']['len_trace'], color='blue')\n",
    "# for bar in ax.patches:\n",
    "#     x = bar.get_x()\n",
    "#     width = bar.get_width()\n",
    "#     centre = x + width/2\n",
    "#     bar.set_x(centre - 0.4)\n",
    "#     bar.set_width(0.8)\n",
    "# plt.gca().set_xlim(-1,32) \n",
    "plt.show()"
   ],
   "outputs": [
    {
     "output_type": "display_data",
     "data": {
      "image/png": "[encoded data removed]",
      "text/plain": [
       "<Figure size 10800x1800 with 1 Axes>"
      ]
     },
     "metadata": {
      "needs_background": "light"
     }
    }
   ],
   "metadata": {}
  },
  {
   "cell_type": "code",
   "execution_count": 89,
   "source": [
    "freq = plt_data['kind'].value_counts()\n",
    "plt.pie(freq, labels=freq.index, explode=(0.05, 0, 0), autopct='%.1f%%',\n",
    "        colors=['#81ecec','#ff7675','#6c5ce7'], startangle=90, counterclock=False)\n",
    "plt.show()\n"
   ],
   "outputs": [
    {
     "output_type": "display_data",
     "data": {
      "image/png": "[encoded data removed]",
      "text/plain": [
       "<Figure size 432x288 with 1 Axes>"
      ]
     },
     "metadata": {}
    }
   ],
   "metadata": {}
  },
  {
   "cell_type": "code",
   "execution_count": null,
   "source": [],
   "outputs": [],
   "metadata": {}
  },
  {
   "cell_type": "code",
   "execution_count": 84,
   "source": [
    "# git remote add origin git@github.com:hamawentai/ips_classfication.git\n",
    "len(fp_ls)"
   ],
   "outputs": [
    {
     "output_type": "execute_result",
     "data": {
      "text/plain": [
       "295"
      ]
     },
     "metadata": {},
     "execution_count": 84
    }
   ],
   "metadata": {}
  },
  {
   "cell_type": "code",
   "execution_count": 85,
   "source": [
    "len([i for i in tp_ls if i not in no]), len(tp_ls), len(no)"
   ],
   "outputs": [
    {
     "output_type": "execute_result",
     "data": {
      "text/plain": [
       "(48, 237, 472)"
      ]
     },
     "metadata": {},
     "execution_count": 85
    }
   ],
   "metadata": {}
  },
  {
   "cell_type": "code",
   "execution_count": 86,
   "source": [
    "len([i for i in tp_ls if i not in all_real_ls]), len(tp_ls), len(all_real_ls)"
   ],
   "outputs": [
    {
     "output_type": "execute_result",
     "data": {
      "text/plain": [
       "(0, 237, 760)"
      ]
     },
     "metadata": {},
     "execution_count": 86
    }
   ],
   "metadata": {}
  },
  {
   "cell_type": "code",
   "execution_count": 87,
   "source": [
    "len([i for i in fp_ls if i not in all_real_ls]), len(fp_ls), len(all_real_ls)"
   ],
   "outputs": [
    {
     "output_type": "execute_result",
     "data": {
      "text/plain": [
       "(0, 295, 760)"
      ]
     },
     "metadata": {},
     "execution_count": 87
    }
   ],
   "metadata": {}
  },
  {
   "cell_type": "code",
   "execution_count": 88,
   "source": [
    "200/(217)"
   ],
   "outputs": [
    {
     "output_type": "execute_result",
     "data": {
      "text/plain": [
       "0.9216589861751152"
      ]
     },
     "metadata": {},
     "execution_count": 88
    }
   ],
   "metadata": {}
  }
 ],
 "metadata": {
  "orig_nbformat": 4,
  "language_info": {
   "name": "python",
   "version": "3.8.8",
   "mimetype": "text/x-python",
   "codemirror_mode": {
    "name": "ipython",
    "version": 3
   },
   "pygments_lexer": "ipython3",
   "nbconvert_exporter": "python",
   "file_extension": ".py"
  },
  "kernelspec": {
   "name": "python3",
   "display_name": "Python 3.8.8 64-bit ('rl': conda)"
  },
  "interpreter": {
   "hash": "8bc2d6c57ea69934086bb7edff828de01749c0241e83f386100f7cd5df1c2969"
  }
 },
 "nbformat": 4,
 "nbformat_minor": 2
}