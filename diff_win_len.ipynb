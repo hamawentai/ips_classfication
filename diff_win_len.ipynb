{
 "cells": [
  {
   "cell_type": "code",
   "execution_count": 13,
   "source": [
    "import numpy as np\n",
    "import pandas as pd\n",
    "import os\n",
    "import matplotlib.pyplot as plt\n",
    "import seaborn as sns\n",
    "\n",
    "# sklearn\n",
    "from sklearn.preprocessing import StandardScaler\n",
    "from sklearn.pipeline import Pipeline\n",
    "from sklearn.svm import SVC,  LinearSVC\n",
    "from sklearn.model_selection import KFold, StratifiedKFold\n",
    "from sklearn.decomposition import PCA\n",
    "import lightgbm as lgb\n",
    "from sklearn.metrics import cohen_kappa_score, confusion_matrix, classification_report, precision_score\n",
    "from imblearn.under_sampling import RandomUnderSampler\n",
    "from collections import Counter\n",
    "from sklearn.datasets import make_classification\n",
    "import xgboost as xgb\n",
    "from classification_model import xgb_classification, lgb_classification_2, svm_classification_2, calculate_precision\n",
    "rus = RandomUnderSampler(random_state=2021)"
   ],
   "outputs": [],
   "metadata": {}
  },
  {
   "cell_type": "code",
   "execution_count": 14,
   "source": [
    "def plt_hist(plt_data, keys=['IN', 'TP', 'FN']):\n",
    "    plt.figure(figsize=(150, 25))\n",
    "    ax = sns.barplot(x=plt_data['no'], y=plt_data[plt_data['kind'] == keys[0]]['len_trace'], color='red')\n",
    "    ax = sns.barplot(x=plt_data['no'], y=plt_data[plt_data['kind'] == keys[1]]['len_trace'], color='green')\n",
    "    ax = sns.barplot(x=plt_data['no'], y=plt_data[plt_data['kind'] == keys[2]]['len_trace'], color='blue')\n",
    "    plt.show()"
   ],
   "outputs": [],
   "metadata": {}
  },
  {
   "cell_type": "code",
   "execution_count": 15,
   "source": [
    "def plt_pie(plt_data):\n",
    "    freq = plt_data['kind'].value_counts()\n",
    "    plt.pie(freq, labels=freq.index, explode=(0.05, 0, 0), autopct='%.1f%%',\n",
    "            colors=['#81ecec','#ff7675','#6c5ce7'], startangle=90, counterclock=False)\n",
    "    plt.show()"
   ],
   "outputs": [],
   "metadata": {}
  },
  {
   "cell_type": "code",
   "execution_count": 16,
   "source": [
    "def confusion(x, data, feat):\n",
    "    t = x\n",
    "    all_val = data\n",
    "    P = all_val[all_val['label'] == 1]\n",
    "    TP = all_val[(all_val['label'] == 1) & (all_val['label'] == t)]\n",
    "    FP = all_val[(all_val['label'] == 0) & (all_val['label'] != t)]\n",
    "    TP = TP[feat + ['no', 'label']]\n",
    "    FP = FP[feat + ['no', 'label']]\n",
    "\n",
    "    N = all_val[all_val['label'] == 0]\n",
    "    FN = all_val[(all_val['label'] == 1) & (all_val['label'] != t)]\n",
    "    TN = all_val[(all_val['label'] == 0) & (all_val['label'] == t)]\n",
    "    TN = TN[feat + ['no', 'label']]\n",
    "    FN = FN[feat + ['no', 'label']]\n",
    "    a, b =all_val[all_val['label']==1]['no'].drop_duplicates().shape[0], all_val[all_val['label']==0]['no'].drop_duplicates().shape[0]\n",
    "    print(all_val.shape)\n",
    "    print(TP.shape[0], FP.shape[0], TN.shape[0], FN.shape[0], a, b)\n",
    "    return TP, FP, TN, FN"
   ],
   "outputs": [],
   "metadata": {}
  },
  {
   "cell_type": "code",
   "execution_count": 17,
   "source": [
    "def get_no_ls(x, val_data, all_real_no, val_no, feat):\n",
    "    TP, FP, TN, FN = confusion(x, val_data, feat)\n",
    "    tp_no, fp_no = TP['no'].drop_duplicates(), FP['no'].drop_duplicates()\n",
    "    tn_no, fn_no = TN['no'].drop_duplicates(), FN['no'].drop_duplicates()\n",
    "    tp_ls = []\n",
    "    for i in tp_no.index:\n",
    "        tp_ls.append(tp_no[i])\n",
    "    fp_ls = []\n",
    "    for i in fp_no.index:\n",
    "        fp_ls.append(fp_no[i])\n",
    "    tn_ls = []\n",
    "    for i in tn_no.index:\n",
    "        tn_ls.append(tn_no[i])\n",
    "    fn_ls = []\n",
    "    for i in fn_no.index:\n",
    "        fn_ls.append(fn_no[i])\n",
    "    all_real_ls = []\n",
    "    for i in all_real_no.index:\n",
    "        all_real_ls.append(all_real_no[i])\n",
    "    val_ls = []\n",
    "    for i in val_no.index:\n",
    "        val_ls.append(val_no[i])\n",
    "    print(tp_no.shape[0], fp_no.shape[0], tn_no.shape[0], fn_no.shape[0])\n",
    "    return tp_ls, fp_ls, tn_ls, fn_ls, all_real_ls, val_ls"
   ],
   "outputs": [],
   "metadata": {}
  },
  {
   "cell_type": "code",
   "execution_count": 55,
   "source": [
    "def get_plt_data(val_indf, tp_ls, fp_ls, tn_ls, fn_ls, tp_fn, fp_tn):\n",
    "    val_indf_tp = val_indf[(val_indf['no'].isin(tp_ls)) & (~val_indf['no'].isin(tp_fn))]\n",
    "    val_indf_tp['kind'] = 'TP'\n",
    "    val_indf_fn = val_indf[(val_indf['no'].isin(fn_ls)) & (~val_indf['no'].isin(tp_fn))]\n",
    "    val_indf_fn['kind'] = 'FN'\n",
    "    # tp fn交集\n",
    "    val_indf_in = val_indf[val_indf['no'].isin(tp_fn)]\n",
    "    val_indf_in['kind'] = 'IN'\n",
    "\n",
    "    val_indf_fp = val_indf[(val_indf['no'].isin(fp_ls)) & (~val_indf['no'].isin(fp_tn))]\n",
    "    val_indf_fp['kind'] = 'FP'\n",
    "    val_indf_tn = val_indf[(val_indf['no'].isin(tn_ls)) & (~val_indf['no'].isin(fp_tn))]\n",
    "    val_indf_tn['kind'] = 'TN'\n",
    "    # fp tn交集\n",
    "    val_indf_in2 = val_indf[(val_indf['no'].isin(fp_tn))]\n",
    "    val_indf_in2['kind'] = 'IN2'\n",
    "    plt_data2 = pd.concat([val_indf_tp, val_indf_fn, val_indf_in, val_indf_fp, val_indf_tn, val_indf_in2])\n",
    "    plt_data = pd.concat([val_indf_fp, val_indf_in2, val_indf_tn])\n",
    "    return plt_data"
   ],
   "outputs": [],
   "metadata": {}
  },
  {
   "cell_type": "code",
   "execution_count": 19,
   "source": [
    "def read_data_to_train(df):\n",
    "    y = df['label']\n",
    "    no = df['no']\n",
    "    no_cols = ['Unnamed: 0', 'label', 'no', 'id']\n",
    "    \n",
    "    # pca降维\n",
    "    pca = PCA(n_components=0.9)\n",
    "    X = pca.fit_transform(df[[i for i in df.columns if i not in no_cols]])\n",
    "    X = pd.DataFrame(data=X, columns=list(range(X.shape[1])))\n",
    "    print(df.shape)\n",
    "    X['no'] = no\n",
    "    X['label'] = y\n",
    "    # X['id'] = list(range(df.shape[0]))\n",
    "    print(X.shape)\n",
    "    # 正例细胞的编号\n",
    "    p_no = df[df['label'] == 1]['no'].drop_duplicates()\n",
    "\n",
    "    ## 将所有正例作为验证集合\n",
    "    all_p = X[X['no'].isin(p_no)]\n",
    "    part_np = X[~X['no'].isin(p_no)].sample(n=all_p.shape[0], replace=False, random_state=2021)\n",
    "    all_val = pd.concat([all_p, part_np])\n",
    "\n",
    "    # 将正例中1/10的编号作为验证集合\n",
    "    val_no = p_no.sample(n=p_no.shape[0]//10, replace=False, random_state=2021)\n",
    "    print(val_no.shape, p_no.shape)\n",
    "    # p_no中除去作为验证集后剩余的9/10\n",
    "    p_no = p_no[~ p_no.isin(val_no)]\n",
    "    # 将编号对应的验证数据取出\n",
    "    val_X = X[X['no'].isin(val_no)]\n",
    "    # 将不在训练集中的其他数据作为验证集\n",
    "    trn_X = X[~ X['no'].isin(val_no)]\n",
    "    feat = [i for i in trn_X.columns if i not in ['label', 'no']]\n",
    "    # 加上id便于在取负例验证数据时去重\n",
    "    trn_X['id'] = list(range(trn_X.shape[0]))\n",
    "    # 负采样\n",
    "    X_resampled, y_resampled = rus.fit_resample(trn_X, trn_X['label'])\n",
    "    # 训练集数据的编号\n",
    "    trn_no = X_resampled['id'].drop_duplicates()\n",
    "    print(trn_no.shape, p_no.shape)\n",
    "    # a = trn_X[~trn_X['no'].isin(trn_no)]\n",
    "    a = trn_X[~trn_X['id'].isin(trn_no)]\n",
    "    print(sorted(Counter(y_resampled).items()),\n",
    "          trn_X.shape, trn_no.shape, a.shape, val_X.shape)\n",
    "    val_X_np = a.sample(n=val_X.shape[0], replace=False, random_state=2021)\n",
    "    print(val_X_np[val_X_np['label'] == 1]['no'].drop_duplicates().shape)\n",
    "    val_X = pd.concat([val_X, val_X_np])\n",
    "    return val_X, X_resampled, y_resampled, feat, all_val\n"
   ],
   "outputs": [],
   "metadata": {}
  },
  {
   "cell_type": "code",
   "execution_count": 28,
   "source": [
    "def analysis_confusion_matrix(x, all_val, val_X, val_data, feat):\n",
    "    # 验证混淆矩阵\n",
    "    val_no = val_X[val_X['label'] == 1]['no'].drop_duplicates()\n",
    "    all_real_no = all_val['no'].drop_duplicates()\n",
    "    tp_ls, fp_ls, tn_ls, fn_ls, all_real_ls, val_ls = get_no_ls(\n",
    "        x, val_data, all_real_no, val_no, feat)\n",
    "    # 即被分为fp也被分为tn\n",
    "    fp_tn = [i for i in fp_ls if i in tn_ls]\n",
    "    print('len -> fp_tn: {}, fp_ls: {}, tn_ls: {}'.format(len(fp_tn),\n",
    "          len(fp_ls), len(tn_ls)))\n",
    "    # 既被分为p也被分为n\n",
    "    tp_fn = [i for i in tp_ls if i in fn_ls]\n",
    "    print('len -> tp_fn: {}, tp_ls: {}, fn_ls: {}'.format(len(tp_fn),\n",
    "          len(tp_ls), len(fn_ls)))\n",
    "    val_indf = origin_data[origin_data['no'].isin(val_data['no'].drop_duplicates())][[\n",
    "        'no', 'len_trace']].drop_duplicates()\n",
    "    plt_data = get_plt_data(val_indf, tp_ls, fp_ls,\n",
    "                            tn_ls, fn_ls, tp_fn, fp_tn)\n",
    "    all_real_no = sorted(all_real_no, key=cmp_to_key(cmp))\n",
    "    plt_data['a1'] = plt_data['no'].apply(lambda x: int(x.split('_')[0]))\n",
    "    plt_data['a2'] = plt_data['no'].apply(lambda x: int(x.split('_')[1]))\n",
    "    plt_data = plt_data.sort_values(by=['a2', 'a1'], ascending=[True, True])\n",
    "    return plt_data"
   ],
   "outputs": [],
   "metadata": {}
  },
  {
   "cell_type": "code",
   "execution_count": 20,
   "source": [
    "class Model_Result():\n",
    "    def __init__(self, tp, p, precision) -> None:\n",
    "        self.tp = tp\n",
    "        self.p = p\n",
    "        self.precision = precision"
   ],
   "outputs": [],
   "metadata": {}
  },
  {
   "cell_type": "code",
   "execution_count": 29,
   "source": [
    "from functools import cmp_to_key\n",
    "\n",
    "\n",
    "def cmp(a, b):\n",
    "    a = a.split('_')\n",
    "    b = b.split('_')\n",
    "    a1, a2 = int(a[0]), int(a[1])\n",
    "    b1, b2 = int(b[0]), int(b[1])\n",
    "    return a1-b1 if a2 == b2 else a2-b2\n",
    "\n",
    "\n",
    "def diff_win_len(df, origin_data):\n",
    "    # read data\n",
    "    val_X, X_resampled, y_resampled, feat, all_val = read_data_to_train(df)\n",
    "    # svm val_X\n",
    "    svm_clf = Pipeline(\n",
    "        (\n",
    "            ('scaler', StandardScaler()),\n",
    "            ('svm_clf', SVC(kernel='rbf', C=10, gamma=0.1))\n",
    "        )\n",
    "    )\n",
    "    y_predict, y_true = svm_classification_2(X_resampled, svm_clf, feat)\n",
    "    a = svm_clf.predict(val_X[feat])\n",
    "    cal_tp, cal_p, rate = calculate_precision(a, val_X['label'])\n",
    "    svm_res = Model_Result(cal_tp, cal_p, rate)\n",
    "\n",
    "    # lgb all_val\n",
    "    val_data = all_val\n",
    "    a, d, e, f = lgb_classification_2(X_resampled, val_data[feat], feat)\n",
    "    x = np.mean(d, axis=0)\n",
    "    x = x > 0.5\n",
    "    cal_tp, cal_p, rate = calculate_precision(x, val_data['label'])\n",
    "    lgb_res = Model_Result(cal_tp, cal_p, rate)\n",
    "    print(res)\n",
    "    plt_data1 = analysis_confusion_matrix(x, all_val, val_X, val_data, feat)\n",
    "\n",
    "    # lgb val_X\n",
    "    val_data = val_X\n",
    "    a, d, e, f = lgb_classification_2(X_resampled, val_data[feat], feat)\n",
    "    x = np.mean(d, axis=0)\n",
    "    x = x > 0.5\n",
    "    cal_tp, cal_p, rate = calculate_precision(x, val_data['label'])\n",
    "    lgb_res2 = Model_Result(cal_tp, cal_p, rate)\n",
    "    print(rate)\n",
    "    plt_data2 = analysis_confusion_matrix(x, all_val, val_X, val_data, feat)\n",
    "    return plt_data1, plt_data2, [svm_res, lgb_res, lgb_res2]\n"
   ],
   "outputs": [],
   "metadata": {}
  },
  {
   "cell_type": "code",
   "execution_count": 22,
   "source": [
    "origin_data = pd.read_csv('../res/res.csv')\n",
    "origin_data = origin_data[origin_data.columns[1:]]\n",
    "origin_data['len_trace'] = origin_data['end'] - origin_data['start'] + 1"
   ],
   "outputs": [],
   "metadata": {}
  },
  {
   "cell_type": "code",
   "execution_count": 168,
   "source": [
    "win_len, step = 63, 2\n",
    "df = pd.read_csv('res/final_{}.csv'.format(win_len))"
   ],
   "outputs": [],
   "metadata": {}
  },
  {
   "cell_type": "code",
   "execution_count": 169,
   "source": [
    "plt_data1, plt_data2, res = diff_win_len(df, origin_data)"
   ],
   "outputs": [
    {
     "output_type": "stream",
     "name": "stdout",
     "text": [
      "(9617, 2146)\n",
      "(9617, 51)\n",
      "(7,) (75,)\n",
      "(1658,) (68,)\n",
      "[(0, 829), (1, 829)] (9555, 52) (1658,) (7897, 52) (62, 51)\n",
      "(0,)\n"
     ]
    },
    {
     "output_type": "stream",
     "name": "stderr",
     "text": [
      "/tmp/ipykernel_125370/2083909884.py:34: SettingWithCopyWarning: \n",
      "A value is trying to be set on a copy of a slice from a DataFrame.\n",
      "Try using .loc[row_indexer,col_indexer] = value instead\n",
      "\n",
      "See the caveats in the documentation: https://pandas.pydata.org/pandas-docs/stable/user_guide/indexing.html#returning-a-view-versus-a-copy\n",
      "  trn_X['id'] = list(range(trn_X.shape[0]))\n"
     ]
    },
    {
     "output_type": "stream",
     "name": "stdout",
     "text": [
      "epoch 0 precision_score 0.4726878612716763\n",
      "epoch 1 precision_score 0.4741294964028777\n",
      "epoch 2 precision_score 0.46614782276546984\n",
      "epoch 3 precision_score 0.3612538226299694\n",
      "epoch 4 precision_score 0.5498538159088617\n",
      "<class 'numpy.ndarray'> <class 'pandas.core.series.Series'>\n",
      "9 22\n",
      "Training until validation scores don't improve for 100 rounds\n",
      "[100]\tvalid_0's precision: 0.190476\n",
      "Early stopping, best iteration is:\n",
      "[1]\tvalid_0's precision: 0.895238\n",
      "Training until validation scores don't improve for 100 rounds\n",
      "[100]\tvalid_0's precision: 0.392405\n",
      "Early stopping, best iteration is:\n",
      "[1]\tvalid_0's precision: 1\n",
      "Training until validation scores don't improve for 100 rounds\n",
      "[100]\tvalid_0's precision: 0.166667\n",
      "Early stopping, best iteration is:\n",
      "[1]\tvalid_0's precision: 0.297619\n",
      "Training until validation scores don't improve for 100 rounds\n",
      "[100]\tvalid_0's precision: 0.183761\n",
      "Early stopping, best iteration is:\n",
      "[15]\tvalid_0's precision: 0.25641\n",
      "Training until validation scores don't improve for 100 rounds\n",
      "[100]\tvalid_0's precision: 0.185185\n",
      "Early stopping, best iteration is:\n",
      "[19]\tvalid_0's precision: 0.230453\n",
      "feature importance:\n",
      "feature\n",
      "12    221.727286\n",
      "1     170.313263\n",
      "11    117.199583\n",
      "0     115.270909\n",
      "21    113.138421\n",
      "19    111.304075\n",
      "5     105.680971\n",
      "38    105.466607\n",
      "41    100.035360\n",
      "7      97.512657\n",
      "2      95.901354\n",
      "14     84.412797\n",
      "17     76.850684\n",
      "9      72.817325\n",
      "6      70.037591\n",
      "Name: importance, dtype: float64\n",
      "<class 'numpy.ndarray'> <class 'pandas.core.series.Series'>\n",
      "766 800\n",
      "[<__main__.Model_Result object at 0x2ba57b353a90>, <__main__.Model_Result object at 0x2ba57ae95520>, <__main__.Model_Result object at 0x2ba57bc20d00>]\n",
      "(1782, 51)\n",
      "766 34 857 125 75 262\n",
      "71 27 257 26\n",
      "len -> fp_tn: 22, fp_ls: 27, tn_ls: 257\n",
      "len -> tp_fn: 22, tp_ls: 71, fn_ls: 26\n"
     ]
    },
    {
     "output_type": "stream",
     "name": "stderr",
     "text": [
      "/tmp/ipykernel_125370/120411501.py:3: SettingWithCopyWarning: \n",
      "A value is trying to be set on a copy of a slice from a DataFrame.\n",
      "Try using .loc[row_indexer,col_indexer] = value instead\n",
      "\n",
      "See the caveats in the documentation: https://pandas.pydata.org/pandas-docs/stable/user_guide/indexing.html#returning-a-view-versus-a-copy\n",
      "  val_indf_tp['kind'] = 'TP'\n",
      "/tmp/ipykernel_125370/120411501.py:5: SettingWithCopyWarning: \n",
      "A value is trying to be set on a copy of a slice from a DataFrame.\n",
      "Try using .loc[row_indexer,col_indexer] = value instead\n",
      "\n",
      "See the caveats in the documentation: https://pandas.pydata.org/pandas-docs/stable/user_guide/indexing.html#returning-a-view-versus-a-copy\n",
      "  val_indf_fn['kind'] = 'FN'\n",
      "/tmp/ipykernel_125370/120411501.py:8: SettingWithCopyWarning: \n",
      "A value is trying to be set on a copy of a slice from a DataFrame.\n",
      "Try using .loc[row_indexer,col_indexer] = value instead\n",
      "\n",
      "See the caveats in the documentation: https://pandas.pydata.org/pandas-docs/stable/user_guide/indexing.html#returning-a-view-versus-a-copy\n",
      "  val_indf_in['kind'] = 'IN'\n",
      "/tmp/ipykernel_125370/120411501.py:11: SettingWithCopyWarning: \n",
      "A value is trying to be set on a copy of a slice from a DataFrame.\n",
      "Try using .loc[row_indexer,col_indexer] = value instead\n",
      "\n",
      "See the caveats in the documentation: https://pandas.pydata.org/pandas-docs/stable/user_guide/indexing.html#returning-a-view-versus-a-copy\n",
      "  val_indf_fp['kind'] = 'FP'\n",
      "/tmp/ipykernel_125370/120411501.py:13: SettingWithCopyWarning: \n",
      "A value is trying to be set on a copy of a slice from a DataFrame.\n",
      "Try using .loc[row_indexer,col_indexer] = value instead\n",
      "\n",
      "See the caveats in the documentation: https://pandas.pydata.org/pandas-docs/stable/user_guide/indexing.html#returning-a-view-versus-a-copy\n",
      "  val_indf_tn['kind'] = 'TN'\n",
      "/tmp/ipykernel_125370/120411501.py:16: SettingWithCopyWarning: \n",
      "A value is trying to be set on a copy of a slice from a DataFrame.\n",
      "Try using .loc[row_indexer,col_indexer] = value instead\n",
      "\n",
      "See the caveats in the documentation: https://pandas.pydata.org/pandas-docs/stable/user_guide/indexing.html#returning-a-view-versus-a-copy\n",
      "  val_indf_in2['kind'] = 'IN2'\n"
     ]
    },
    {
     "output_type": "stream",
     "name": "stdout",
     "text": [
      "Training until validation scores don't improve for 100 rounds\n",
      "[100]\tvalid_0's precision: 0.190476\n",
      "Early stopping, best iteration is:\n",
      "[1]\tvalid_0's precision: 0.895238\n",
      "Training until validation scores don't improve for 100 rounds\n",
      "[100]\tvalid_0's precision: 0.392405\n",
      "Early stopping, best iteration is:\n",
      "[1]\tvalid_0's precision: 1\n",
      "Training until validation scores don't improve for 100 rounds\n",
      "[100]\tvalid_0's precision: 0.166667\n",
      "Early stopping, best iteration is:\n",
      "[1]\tvalid_0's precision: 0.297619\n",
      "Training until validation scores don't improve for 100 rounds\n",
      "[100]\tvalid_0's precision: 0.183761\n",
      "Early stopping, best iteration is:\n",
      "[15]\tvalid_0's precision: 0.25641\n",
      "Training until validation scores don't improve for 100 rounds\n",
      "[100]\tvalid_0's precision: 0.185185\n",
      "Early stopping, best iteration is:\n",
      "[19]\tvalid_0's precision: 0.230453\n",
      "feature importance:\n",
      "feature\n",
      "12    221.727286\n",
      "1     170.313263\n",
      "11    117.199583\n",
      "0     115.270909\n",
      "21    113.138421\n",
      "19    111.304075\n",
      "5     105.680971\n",
      "38    105.466607\n",
      "41    100.035360\n",
      "7      97.512657\n",
      "2      95.901354\n",
      "14     84.412797\n",
      "17     76.850684\n",
      "9      72.817325\n",
      "6      70.037591\n",
      "Name: importance, dtype: float64\n",
      "<class 'numpy.ndarray'> <class 'pandas.core.series.Series'>\n",
      "12 26\n",
      "0.46153846153846156\n",
      "(124, 52)\n",
      "12 14 48 50 7 50\n",
      "3 14 38 7\n",
      "len -> fp_tn: 2, fp_ls: 14, tn_ls: 38\n",
      "len -> tp_fn: 3, tp_ls: 3, fn_ls: 7\n"
     ]
    },
    {
     "output_type": "stream",
     "name": "stderr",
     "text": [
      "/tmp/ipykernel_125370/120411501.py:5: SettingWithCopyWarning: \n",
      "A value is trying to be set on a copy of a slice from a DataFrame.\n",
      "Try using .loc[row_indexer,col_indexer] = value instead\n",
      "\n",
      "See the caveats in the documentation: https://pandas.pydata.org/pandas-docs/stable/user_guide/indexing.html#returning-a-view-versus-a-copy\n",
      "  val_indf_fn['kind'] = 'FN'\n",
      "/tmp/ipykernel_125370/120411501.py:8: SettingWithCopyWarning: \n",
      "A value is trying to be set on a copy of a slice from a DataFrame.\n",
      "Try using .loc[row_indexer,col_indexer] = value instead\n",
      "\n",
      "See the caveats in the documentation: https://pandas.pydata.org/pandas-docs/stable/user_guide/indexing.html#returning-a-view-versus-a-copy\n",
      "  val_indf_in['kind'] = 'IN'\n",
      "/tmp/ipykernel_125370/120411501.py:11: SettingWithCopyWarning: \n",
      "A value is trying to be set on a copy of a slice from a DataFrame.\n",
      "Try using .loc[row_indexer,col_indexer] = value instead\n",
      "\n",
      "See the caveats in the documentation: https://pandas.pydata.org/pandas-docs/stable/user_guide/indexing.html#returning-a-view-versus-a-copy\n",
      "  val_indf_fp['kind'] = 'FP'\n",
      "/tmp/ipykernel_125370/120411501.py:13: SettingWithCopyWarning: \n",
      "A value is trying to be set on a copy of a slice from a DataFrame.\n",
      "Try using .loc[row_indexer,col_indexer] = value instead\n",
      "\n",
      "See the caveats in the documentation: https://pandas.pydata.org/pandas-docs/stable/user_guide/indexing.html#returning-a-view-versus-a-copy\n",
      "  val_indf_tn['kind'] = 'TN'\n",
      "/tmp/ipykernel_125370/120411501.py:16: SettingWithCopyWarning: \n",
      "A value is trying to be set on a copy of a slice from a DataFrame.\n",
      "Try using .loc[row_indexer,col_indexer] = value instead\n",
      "\n",
      "See the caveats in the documentation: https://pandas.pydata.org/pandas-docs/stable/user_guide/indexing.html#returning-a-view-versus-a-copy\n",
      "  val_indf_in2['kind'] = 'IN2'\n"
     ]
    }
   ],
   "metadata": {}
  },
  {
   "cell_type": "code",
   "execution_count": 170,
   "source": [
    "keys = ['FP', 'IN2', 'TN']\n",
    "# plt_hist(plt_data1, keys=keys)"
   ],
   "outputs": [],
   "metadata": {}
  },
  {
   "cell_type": "code",
   "execution_count": 171,
   "source": [
    "plt_pie(plt_data1)"
   ],
   "outputs": [
    {
     "output_type": "display_data",
     "data": {
      "image/png": "[encoded data removed]",
      "text/plain": [
       "<Figure size 432x288 with 1 Axes>"
      ]
     },
     "metadata": {}
    }
   ],
   "metadata": {}
  },
  {
   "cell_type": "code",
   "execution_count": 172,
   "source": [
    "# plt_hist(plt_data2, keys=keys)"
   ],
   "outputs": [],
   "metadata": {}
  },
  {
   "cell_type": "code",
   "execution_count": 173,
   "source": [
    "plt_pie(plt_data2)"
   ],
   "outputs": [
    {
     "output_type": "display_data",
     "data": {
      "image/png": "[encoded data removed]",
      "text/plain": [
       "<Figure size 432x288 with 1 Axes>"
      ]
     },
     "metadata": {}
    }
   ],
   "metadata": {}
  },
  {
   "cell_type": "code",
   "execution_count": 174,
   "source": [
    "for i in res:\n",
    "    print(i.__dict__)"
   ],
   "outputs": [
    {
     "output_type": "stream",
     "name": "stdout",
     "text": [
      "{'tp': 9, 'p': 22, 'precision': 0.4090909090909091}\n",
      "{'tp': 766, 'p': 800, 'precision': 0.9575}\n",
      "{'tp': 12, 'p': 26, 'precision': 0.46153846153846156}\n"
     ]
    }
   ],
   "metadata": {}
  },
  {
   "cell_type": "code",
   "execution_count": 175,
   "source": [
    "with open('data/contrast_res.txt', 'a+') as f:\n",
    "    key = ['svm', 'lgb', 'lgb']\n",
    "    f.writelines('win_len: {} step: {}\\n'.format(win_len, step))\n",
    "    for j, i in enumerate(res):\n",
    "        f.writelines('{} {} {} {}\\n'.format(key[j], i.tp, i.p, i.precision))\n"
   ],
   "outputs": [],
   "metadata": {}
  },
  {
   "cell_type": "code",
   "execution_count": 176,
   "source": [
    "file = 'win_len_{}_step_{}'.format(win_len, step)\n",
    "os.system('mkdir data/plt_data/{}'.format(file))\n",
    "plt_data1.to_csv('data/plt_data/{}/plt_data1.csv'.format(file), index=False)\n",
    "plt_data2.to_csv('data/plt_data/{}/plt_data2.csv'.format(file), index=False)"
   ],
   "outputs": [],
   "metadata": {}
  }
 ],
 "metadata": {
  "orig_nbformat": 4,
  "language_info": {
   "name": "python",
   "version": "3.8.8",
   "mimetype": "text/x-python",
   "codemirror_mode": {
    "name": "ipython",
    "version": 3
   },
   "pygments_lexer": "ipython3",
   "nbconvert_exporter": "python",
   "file_extension": ".py"
  },
  "kernelspec": {
   "name": "python3",
   "display_name": "Python 3.8.8 64-bit ('rl': conda)"
  },
  "interpreter": {
   "hash": "8bc2d6c57ea69934086bb7edff828de01749c0241e83f386100f7cd5df1c2969"
  }
 },
 "nbformat": 4,
 "nbformat_minor": 2
}